{
 "cells": [
  {
   "cell_type": "markdown",
   "metadata": {},
   "source": [
    "# Churn Prediction of Interconnect clients. "
   ]
  },
  {
   "cell_type": "markdown",
   "metadata": {},
   "source": [
    "Summary: In this project, interconnect client datasets were merged and cleaned. After some data visualization, it was clear that a mix of features had varrying impacts on customer churn. The following Classifiers were trained to predict churn: LogisticRegression, RandomForestClassifier, CatBoostClassifier, K-nearest Neighbors, and VotingClassifier. The trained CatBoostClassifier and the VotingClassifier returned the highest AUC-ROC score of about 0.9 and 0.89 on the test set, while also having a high accuracy above 0.8. \n",
    "\n",
    "Prompt: The telecom operator Interconnect would like to be able to forecast their churn of clients. If it's discovered that a user is planning to leave, they will be offered promotional codes and special plan options. Interconnect's marketing team has collected some of their clientele's personal data, including information about their plans and contracts.\n",
    "\n",
    "The data consists of files obtained from different sources:\n",
    "\n",
    "- `contract.csv` — contract information\n",
    "- `personal.csv` — the client's personal data\n",
    "- `internet.csv` — information about Internet services\n",
    "- `phone.csv` — information about telephone services"
   ]
  },
  {
   "cell_type": "markdown",
   "metadata": {},
   "source": [
    "## Libraries "
   ]
  },
  {
   "cell_type": "code",
   "execution_count": 1,
   "metadata": {},
   "outputs": [],
   "source": [
    "import pandas as pd\n",
    "import numpy as np\n",
    "\n",
    "# ploting data\n",
    "import matplotlib.pyplot as plt\n",
    "import seaborn as sns\n",
    "\n",
    "# data processing for model training\n",
    "from sklearn.utils import shuffle\n",
    "from sklearn.preprocessing import StandardScaler\n",
    "from sklearn.preprocessing import LabelEncoder\n",
    "from sklearn.model_selection import train_test_split, GridSearchCV, RandomizedSearchCV, StratifiedKFold\n",
    "\n",
    "\n",
    "# Models\n",
    "from sklearn.dummy import DummyClassifier \n",
    "from sklearn.linear_model import LogisticRegression\n",
    "from sklearn.ensemble import RandomForestClassifier\n",
    "from catboost import CatBoostClassifier\n",
    "from sklearn.neighbors import KNeighborsClassifier\n",
    "from sklearn.ensemble import VotingClassifier\n",
    "from sklearn.model_selection import GridSearchCV, RandomizedSearchCV, StratifiedKFold\n",
    "\n",
    "# model scoring\n",
    "from sklearn.metrics import roc_auc_score, roc_curve, f1_score, accuracy_score"
   ]
  },
  {
   "cell_type": "markdown",
   "metadata": {},
   "source": [
    "## Load Data "
   ]
  },
  {
   "cell_type": "code",
   "execution_count": 2,
   "metadata": {},
   "outputs": [],
   "source": [
    "# load data\n",
    "df_contract = pd.read_csv(\"/datasets/final_provider/contract.csv\")\n",
    "df_personal = pd.read_csv(\"/datasets/final_provider/personal.csv\")\n",
    "df_internet = pd.read_csv(\"/datasets/final_provider/internet.csv\")\n",
    "df_phone = pd.read_csv(\"/datasets/final_provider/phone.csv\")"
   ]
  },
  {
   "cell_type": "code",
   "execution_count": 3,
   "metadata": {},
   "outputs": [
    {
     "data": {
      "text/html": [
       "<div>\n",
       "<style scoped>\n",
       "    .dataframe tbody tr th:only-of-type {\n",
       "        vertical-align: middle;\n",
       "    }\n",
       "\n",
       "    .dataframe tbody tr th {\n",
       "        vertical-align: top;\n",
       "    }\n",
       "\n",
       "    .dataframe thead th {\n",
       "        text-align: right;\n",
       "    }\n",
       "</style>\n",
       "<table border=\"1\" class=\"dataframe\">\n",
       "  <thead>\n",
       "    <tr style=\"text-align: right;\">\n",
       "      <th></th>\n",
       "      <th>customerID</th>\n",
       "      <th>BeginDate</th>\n",
       "      <th>EndDate</th>\n",
       "      <th>Type</th>\n",
       "      <th>PaperlessBilling</th>\n",
       "      <th>PaymentMethod</th>\n",
       "      <th>MonthlyCharges</th>\n",
       "      <th>TotalCharges</th>\n",
       "    </tr>\n",
       "  </thead>\n",
       "  <tbody>\n",
       "    <tr>\n",
       "      <th>2</th>\n",
       "      <td>3668-QPYBK</td>\n",
       "      <td>2019-10-01</td>\n",
       "      <td>2019-12-01 00:00:00</td>\n",
       "      <td>Month-to-month</td>\n",
       "      <td>Yes</td>\n",
       "      <td>Mailed check</td>\n",
       "      <td>53.85</td>\n",
       "      <td>108.15</td>\n",
       "    </tr>\n",
       "  </tbody>\n",
       "</table>\n",
       "</div>"
      ],
      "text/plain": [
       "   customerID   BeginDate              EndDate            Type  \\\n",
       "2  3668-QPYBK  2019-10-01  2019-12-01 00:00:00  Month-to-month   \n",
       "\n",
       "  PaperlessBilling PaymentMethod  MonthlyCharges TotalCharges  \n",
       "2              Yes  Mailed check           53.85       108.15  "
      ]
     },
     "metadata": {},
     "output_type": "display_data"
    },
    {
     "data": {
      "text/html": [
       "<div>\n",
       "<style scoped>\n",
       "    .dataframe tbody tr th:only-of-type {\n",
       "        vertical-align: middle;\n",
       "    }\n",
       "\n",
       "    .dataframe tbody tr th {\n",
       "        vertical-align: top;\n",
       "    }\n",
       "\n",
       "    .dataframe thead th {\n",
       "        text-align: right;\n",
       "    }\n",
       "</style>\n",
       "<table border=\"1\" class=\"dataframe\">\n",
       "  <thead>\n",
       "    <tr style=\"text-align: right;\">\n",
       "      <th></th>\n",
       "      <th>customerID</th>\n",
       "      <th>gender</th>\n",
       "      <th>SeniorCitizen</th>\n",
       "      <th>Partner</th>\n",
       "      <th>Dependents</th>\n",
       "    </tr>\n",
       "  </thead>\n",
       "  <tbody>\n",
       "    <tr>\n",
       "      <th>399</th>\n",
       "      <td>5876-QMYLD</td>\n",
       "      <td>Female</td>\n",
       "      <td>0</td>\n",
       "      <td>Yes</td>\n",
       "      <td>Yes</td>\n",
       "    </tr>\n",
       "  </tbody>\n",
       "</table>\n",
       "</div>"
      ],
      "text/plain": [
       "     customerID  gender  SeniorCitizen Partner Dependents\n",
       "399  5876-QMYLD  Female              0     Yes        Yes"
      ]
     },
     "metadata": {},
     "output_type": "display_data"
    },
    {
     "data": {
      "text/html": [
       "<div>\n",
       "<style scoped>\n",
       "    .dataframe tbody tr th:only-of-type {\n",
       "        vertical-align: middle;\n",
       "    }\n",
       "\n",
       "    .dataframe tbody tr th {\n",
       "        vertical-align: top;\n",
       "    }\n",
       "\n",
       "    .dataframe thead th {\n",
       "        text-align: right;\n",
       "    }\n",
       "</style>\n",
       "<table border=\"1\" class=\"dataframe\">\n",
       "  <thead>\n",
       "    <tr style=\"text-align: right;\">\n",
       "      <th></th>\n",
       "      <th>customerID</th>\n",
       "      <th>InternetService</th>\n",
       "      <th>OnlineSecurity</th>\n",
       "      <th>OnlineBackup</th>\n",
       "      <th>DeviceProtection</th>\n",
       "      <th>TechSupport</th>\n",
       "      <th>StreamingTV</th>\n",
       "      <th>StreamingMovies</th>\n",
       "    </tr>\n",
       "  </thead>\n",
       "  <tbody>\n",
       "    <tr>\n",
       "      <th>3823</th>\n",
       "      <td>2533-TIBIX</td>\n",
       "      <td>DSL</td>\n",
       "      <td>Yes</td>\n",
       "      <td>No</td>\n",
       "      <td>No</td>\n",
       "      <td>No</td>\n",
       "      <td>No</td>\n",
       "      <td>No</td>\n",
       "    </tr>\n",
       "  </tbody>\n",
       "</table>\n",
       "</div>"
      ],
      "text/plain": [
       "      customerID InternetService OnlineSecurity OnlineBackup DeviceProtection  \\\n",
       "3823  2533-TIBIX             DSL            Yes           No               No   \n",
       "\n",
       "     TechSupport StreamingTV StreamingMovies  \n",
       "3823          No          No              No  "
      ]
     },
     "metadata": {},
     "output_type": "display_data"
    },
    {
     "data": {
      "text/html": [
       "<div>\n",
       "<style scoped>\n",
       "    .dataframe tbody tr th:only-of-type {\n",
       "        vertical-align: middle;\n",
       "    }\n",
       "\n",
       "    .dataframe tbody tr th {\n",
       "        vertical-align: top;\n",
       "    }\n",
       "\n",
       "    .dataframe thead th {\n",
       "        text-align: right;\n",
       "    }\n",
       "</style>\n",
       "<table border=\"1\" class=\"dataframe\">\n",
       "  <thead>\n",
       "    <tr style=\"text-align: right;\">\n",
       "      <th></th>\n",
       "      <th>customerID</th>\n",
       "      <th>MultipleLines</th>\n",
       "    </tr>\n",
       "  </thead>\n",
       "  <tbody>\n",
       "    <tr>\n",
       "      <th>6092</th>\n",
       "      <td>9488-FYQAU</td>\n",
       "      <td>Yes</td>\n",
       "    </tr>\n",
       "  </tbody>\n",
       "</table>\n",
       "</div>"
      ],
      "text/plain": [
       "      customerID MultipleLines\n",
       "6092  9488-FYQAU           Yes"
      ]
     },
     "metadata": {},
     "output_type": "display_data"
    }
   ],
   "source": [
    "# sample the datasets\n",
    "display(df_contract.sample(), df_personal.sample(), df_internet.sample(), df_phone.sample())"
   ]
  },
  {
   "cell_type": "markdown",
   "metadata": {},
   "source": [
    "First Look Notes:\n",
    "- common key for all : \"customerID\"\n",
    "- merge datasets to one dataframe for easier access and training. ** outer merge\n",
    "- column names need to be in snake_case"
   ]
  },
  {
   "cell_type": "markdown",
   "metadata": {},
   "source": [
    "## Clean Data and Feature Engineering"
   ]
  },
  {
   "cell_type": "markdown",
   "metadata": {},
   "source": [
    "### Merge datasets"
   ]
  },
  {
   "cell_type": "code",
   "execution_count": 4,
   "metadata": {},
   "outputs": [],
   "source": [
    "# merge datasets\n",
    "all_data = pd.merge(df_contract, df_personal, on='customerID', how='outer')\n",
    "all_data = pd.merge(all_data, df_internet, on='customerID', how='outer')\n",
    "all_data = pd.merge(all_data, df_phone, on='customerID', how='outer')\n",
    "\n",
    "# saving a copy of the data \n",
    "original_data = all_data.copy()"
   ]
  },
  {
   "cell_type": "code",
   "execution_count": 5,
   "metadata": {},
   "outputs": [],
   "source": [
    "# rename columns to snake_case \n",
    "all_data.rename(columns={\n",
    "        'customerID':'customer_id', 'BeginDate':'begin_date', 'EndDate':'end_date', 'Type':'type', \\\n",
    "        'PaperlessBilling':'paperless_billing', 'PaymentMethod':'payment_method', 'MonthlyCharges':'monthly_charges',\\\n",
    "        'TotalCharges':'total_charges', 'gender':'gender','SeniorCitizen':'senior_citizen', 'Partner':'partner',\\\n",
    "        'Dependents':'dependents', 'InternetService':'internet_service', 'OnlineSecurity':'online_security', \\\n",
    "        'OnlineBackup':'online_backup', 'DeviceProtection':'device_protection', 'TechSupport':'tech_support',\\\n",
    "       'StreamingTV':'streaming_tv', 'StreamingMovies':'streaming_movies', 'MultipleLines':'multiple_lines'\\\n",
    "    },\n",
    "    inplace=True)"
   ]
  },
  {
   "cell_type": "code",
   "execution_count": 6,
   "metadata": {},
   "outputs": [
    {
     "data": {
      "text/plain": [
       "0"
      ]
     },
     "execution_count": 6,
     "metadata": {},
     "output_type": "execute_result"
    }
   ],
   "source": [
    "# check for duplicates in customer id column\n",
    "all_data['customer_id'].duplicated().sum()"
   ]
  },
  {
   "cell_type": "code",
   "execution_count": 7,
   "metadata": {},
   "outputs": [],
   "source": [
    "# all unique customers, the costomer id can be removed\n",
    "all_data.drop('customer_id', axis=1, inplace=True)"
   ]
  },
  {
   "cell_type": "code",
   "execution_count": 8,
   "metadata": {},
   "outputs": [],
   "source": [
    "##########################\n",
    "# function to get unique values for each column \n",
    "def columns_values(df):\n",
    "    for column in df.columns.tolist():\n",
    "        print(f'{column}: {df[column].unique()}\\n')"
   ]
  },
  {
   "cell_type": "code",
   "execution_count": 9,
   "metadata": {},
   "outputs": [
    {
     "name": "stdout",
     "output_type": "stream",
     "text": [
      "begin_date: ['2020-01-01' '2017-04-01' '2019-10-01' '2016-05-01' '2019-09-01'\n",
      " '2019-03-01' '2018-04-01' '2019-04-01' '2017-07-01' '2014-12-01'\n",
      " '2019-01-01' '2018-10-01' '2015-04-01' '2015-09-01' '2018-01-01'\n",
      " '2014-05-01' '2015-10-01' '2014-03-01' '2018-05-01' '2019-11-01'\n",
      " '2019-02-01' '2016-01-01' '2017-08-01' '2015-12-01' '2014-02-01'\n",
      " '2018-06-01' '2019-12-01' '2017-11-01' '2019-06-01' '2016-04-01'\n",
      " '2017-02-01' '2018-12-01' '2014-04-01' '2018-09-01' '2014-11-01'\n",
      " '2016-07-01' '2015-02-01' '2018-07-01' '2014-08-01' '2016-03-01'\n",
      " '2018-08-01' '2014-10-01' '2015-06-01' '2016-08-01' '2019-05-01'\n",
      " '2017-03-01' '2016-02-01' '2017-09-01' '2014-09-01' '2017-12-01'\n",
      " '2016-12-01' '2017-06-01' '2015-05-01' '2016-10-01' '2016-09-01'\n",
      " '2019-08-01' '2019-07-01' '2017-05-01' '2017-10-01' '2014-07-01'\n",
      " '2018-03-01' '2015-01-01' '2018-11-01' '2015-03-01' '2018-02-01'\n",
      " '2016-06-01' '2015-08-01' '2015-11-01' '2014-06-01' '2017-01-01'\n",
      " '2015-07-01' '2020-02-01' '2016-11-01' '2013-11-01' '2014-01-01'\n",
      " '2013-10-01' '2013-12-01']\n",
      "\n",
      "end_date: ['No' '2019-12-01 00:00:00' '2019-11-01 00:00:00' '2019-10-01 00:00:00'\n",
      " '2020-01-01 00:00:00']\n",
      "\n",
      "type: ['Month-to-month' 'One year' 'Two year']\n",
      "\n",
      "paperless_billing: ['Yes' 'No']\n",
      "\n",
      "payment_method: ['Electronic check' 'Mailed check' 'Bank transfer (automatic)'\n",
      " 'Credit card (automatic)']\n",
      "\n",
      "monthly_charges: [29.85 56.95 53.85 ... 63.1  44.2  78.7 ]\n",
      "\n",
      "total_charges: ['29.85' '1889.5' '108.15' ... '346.45' '306.6' '6844.5']\n",
      "\n",
      "gender: ['Female' 'Male']\n",
      "\n",
      "senior_citizen: [0 1]\n",
      "\n",
      "partner: ['Yes' 'No']\n",
      "\n",
      "dependents: ['No' 'Yes']\n",
      "\n",
      "internet_service: ['DSL' 'Fiber optic' nan]\n",
      "\n",
      "online_security: ['No' 'Yes' nan]\n",
      "\n",
      "online_backup: ['Yes' 'No' nan]\n",
      "\n",
      "device_protection: ['No' 'Yes' nan]\n",
      "\n",
      "tech_support: ['No' 'Yes' nan]\n",
      "\n",
      "streaming_tv: ['No' 'Yes' nan]\n",
      "\n",
      "streaming_movies: ['No' 'Yes' nan]\n",
      "\n",
      "multiple_lines: [nan 'No' 'Yes']\n",
      "\n"
     ]
    }
   ],
   "source": [
    "columns_values(all_data)"
   ]
  },
  {
   "cell_type": "code",
   "execution_count": 10,
   "metadata": {},
   "outputs": [
    {
     "name": "stdout",
     "output_type": "stream",
     "text": [
      "begin_date : 0.0\n",
      "end_date : 0.0\n",
      "type : 0.0\n",
      "paperless_billing : 0.0\n",
      "payment_method : 0.0\n",
      "monthly_charges : 0.0\n",
      "total_charges : 0.0\n",
      "gender : 0.0\n",
      "senior_citizen : 0.0\n",
      "partner : 0.0\n",
      "dependents : 0.0\n",
      "internet_service : 0.22\n",
      "online_security : 0.22\n",
      "online_backup : 0.22\n",
      "device_protection : 0.22\n",
      "tech_support : 0.22\n",
      "streaming_tv : 0.22\n",
      "streaming_movies : 0.22\n",
      "multiple_lines : 0.1\n"
     ]
    }
   ],
   "source": [
    "# how many null values per column?\n",
    "for column in all_data.columns.tolist():\n",
    "    print(f'{column} : {round(all_data[column].isna().sum()/len(all_data[column]), 2)}')"
   ]
  },
  {
   "cell_type": "markdown",
   "metadata": {},
   "source": [
    "Notes:\n",
    "    \n",
    "    - end_date only has a few values. \n",
    "        - 'No': no churn \n",
    "        - interestingly churn dates in this dataset is round october to december and January\n",
    "            - the years that a client has been with the company could be useful\n",
    "            - this column could be changed to have 0 and 1 to act as a target for forecasting churn.\n",
    "            \n",
    "    - start dates are all on the first date of the month. \n",
    "        \n",
    "    - total_charges should be a float\n",
    "    - charges should be standardized\n",
    "    \n",
    "    - Many columns have 'Yes' and 'No' values. change to 0 and 1 for Machine learning \n",
    "    \n",
    "    - Services columns have null values?  22% for most services and 10% for mutiple lines. Could be that the data was not recorded or skipped because the client didn't take these services. \n",
    "        - Missing data could be replaced with 'No' \n",
    "        - Or possibly filled with majority or by patterns in the other columns like monthly_charge\n",
    "            "
   ]
  },
  {
   "cell_type": "markdown",
   "metadata": {},
   "source": [
    "### Replace null values in services as 'No'"
   ]
  },
  {
   "cell_type": "code",
   "execution_count": 11,
   "metadata": {},
   "outputs": [
    {
     "data": {
      "text/plain": [
       "0"
      ]
     },
     "execution_count": 11,
     "metadata": {},
     "output_type": "execute_result"
    }
   ],
   "source": [
    "# assuming Null = No\n",
    "all_data.fillna('No', inplace=True)\n",
    "all_data.isna().sum().sum()"
   ]
  },
  {
   "cell_type": "markdown",
   "metadata": {},
   "source": [
    "### New column 'tenure': number of months with the company/plan"
   ]
  },
  {
   "cell_type": "code",
   "execution_count": 12,
   "metadata": {},
   "outputs": [
    {
     "data": {
      "text/plain": [
       "dtype('<M8[ns]')"
      ]
     },
     "execution_count": 12,
     "metadata": {},
     "output_type": "execute_result"
    }
   ],
   "source": [
    "# begin_date and to datetime type\n",
    "all_data['begin_date'] = pd.to_datetime(all_data['begin_date'])\n",
    "all_data['begin_date'].dtypes"
   ]
  },
  {
   "cell_type": "code",
   "execution_count": 13,
   "metadata": {},
   "outputs": [
    {
     "data": {
      "text/plain": [
       "5174"
      ]
     },
     "execution_count": 13,
     "metadata": {},
     "output_type": "execute_result"
    }
   ],
   "source": [
    "# since the end_date column have string values, copying the dates to new column 'tenure'\n",
    "all_data['tenure'] = pd.to_datetime(all_data[all_data['end_date'] !='No']['end_date'])\n",
    "all_data['tenure'].isna().sum()"
   ]
  },
  {
   "cell_type": "code",
   "execution_count": 14,
   "metadata": {},
   "outputs": [],
   "source": [
    "# the null values mean the customer is still with the company. \n",
    "# filling in the null with the max/recent begin_date \n",
    "all_data['tenure'].fillna(all_data['begin_date'].max(), inplace=True)"
   ]
  },
  {
   "cell_type": "code",
   "execution_count": 15,
   "metadata": {},
   "outputs": [],
   "source": [
    "# function to get the number of months from begin_date and end_date columns\n",
    "\n",
    "def get_months(recent_date, previous_date):\n",
    "    \n",
    "    months = 0\n",
    "    years = 0\n",
    "    \n",
    "    # same year \n",
    "    if (recent_date.year == previous_date.year):\n",
    "        return (recent_date.month - previous_date.month);\n",
    "    \n",
    "    # one year after\n",
    "    # not counting the month of february 2020 since no total charges were recorded. \n",
    "    months = (13- previous_date.month) + (recent_date.month-1)\n",
    "    \n",
    "    # more than 1 year in between start and 'end'/continuation\n",
    "    years = recent_date.year - previous_date.year;\n",
    "    if (years > 1):\n",
    "        months += ((years-1)*12)\n",
    "    \n",
    "    return months;"
   ]
  },
  {
   "cell_type": "code",
   "execution_count": 16,
   "metadata": {},
   "outputs": [],
   "source": [
    "# tenure column\n",
    "all_data['tenure'] = all_data.apply(lambda row: get_months(row['tenure'], row['begin_date']), axis=1)\n"
   ]
  },
  {
   "cell_type": "markdown",
   "metadata": {},
   "source": [
    "### create year_start column from begin_date"
   ]
  },
  {
   "cell_type": "code",
   "execution_count": 17,
   "metadata": {},
   "outputs": [],
   "source": [
    "all_data['year_start'] = all_data['begin_date'].dt.year"
   ]
  },
  {
   "cell_type": "markdown",
   "metadata": {},
   "source": [
    "### Clean Target column: end_date (rename: 'churn')"
   ]
  },
  {
   "cell_type": "code",
   "execution_count": 18,
   "metadata": {},
   "outputs": [],
   "source": [
    "all_data['end_date'] = all_data['end_date'].apply(lambda x:0 if x=='No' else 1)\n",
    "# rename 'end_date' as 'churn'\n",
    "all_data.rename(columns={'end_date': 'churn'}, inplace=True)\n"
   ]
  },
  {
   "cell_type": "markdown",
   "metadata": {},
   "source": [
    "### total_charges column to float type"
   ]
  },
  {
   "cell_type": "code",
   "execution_count": 19,
   "metadata": {},
   "outputs": [
    {
     "data": {
      "text/plain": [
       "11"
      ]
     },
     "execution_count": 19,
     "metadata": {},
     "output_type": "execute_result"
    }
   ],
   "source": [
    "# total_charges to numeric\n",
    "all_data['total_charges'] = pd.to_numeric(all_data['total_charges'], errors='coerce')\n",
    "all_data['total_charges'].isna().sum()"
   ]
  },
  {
   "cell_type": "code",
   "execution_count": 20,
   "metadata": {},
   "outputs": [
    {
     "data": {
      "text/html": [
       "<div>\n",
       "<style scoped>\n",
       "    .dataframe tbody tr th:only-of-type {\n",
       "        vertical-align: middle;\n",
       "    }\n",
       "\n",
       "    .dataframe tbody tr th {\n",
       "        vertical-align: top;\n",
       "    }\n",
       "\n",
       "    .dataframe thead th {\n",
       "        text-align: right;\n",
       "    }\n",
       "</style>\n",
       "<table border=\"1\" class=\"dataframe\">\n",
       "  <thead>\n",
       "    <tr style=\"text-align: right;\">\n",
       "      <th></th>\n",
       "      <th>begin_date</th>\n",
       "      <th>churn</th>\n",
       "      <th>type</th>\n",
       "      <th>paperless_billing</th>\n",
       "      <th>payment_method</th>\n",
       "      <th>monthly_charges</th>\n",
       "      <th>total_charges</th>\n",
       "      <th>gender</th>\n",
       "      <th>senior_citizen</th>\n",
       "      <th>partner</th>\n",
       "      <th>...</th>\n",
       "      <th>internet_service</th>\n",
       "      <th>online_security</th>\n",
       "      <th>online_backup</th>\n",
       "      <th>device_protection</th>\n",
       "      <th>tech_support</th>\n",
       "      <th>streaming_tv</th>\n",
       "      <th>streaming_movies</th>\n",
       "      <th>multiple_lines</th>\n",
       "      <th>tenure</th>\n",
       "      <th>year_start</th>\n",
       "    </tr>\n",
       "  </thead>\n",
       "  <tbody>\n",
       "    <tr>\n",
       "      <th>488</th>\n",
       "      <td>2020-02-01</td>\n",
       "      <td>0</td>\n",
       "      <td>Two year</td>\n",
       "      <td>Yes</td>\n",
       "      <td>Bank transfer (automatic)</td>\n",
       "      <td>52.55</td>\n",
       "      <td>NaN</td>\n",
       "      <td>Female</td>\n",
       "      <td>0</td>\n",
       "      <td>Yes</td>\n",
       "      <td>...</td>\n",
       "      <td>DSL</td>\n",
       "      <td>Yes</td>\n",
       "      <td>No</td>\n",
       "      <td>Yes</td>\n",
       "      <td>Yes</td>\n",
       "      <td>Yes</td>\n",
       "      <td>No</td>\n",
       "      <td>No</td>\n",
       "      <td>0</td>\n",
       "      <td>2020</td>\n",
       "    </tr>\n",
       "    <tr>\n",
       "      <th>753</th>\n",
       "      <td>2020-02-01</td>\n",
       "      <td>0</td>\n",
       "      <td>Two year</td>\n",
       "      <td>No</td>\n",
       "      <td>Mailed check</td>\n",
       "      <td>20.25</td>\n",
       "      <td>NaN</td>\n",
       "      <td>Male</td>\n",
       "      <td>0</td>\n",
       "      <td>No</td>\n",
       "      <td>...</td>\n",
       "      <td>No</td>\n",
       "      <td>No</td>\n",
       "      <td>No</td>\n",
       "      <td>No</td>\n",
       "      <td>No</td>\n",
       "      <td>No</td>\n",
       "      <td>No</td>\n",
       "      <td>No</td>\n",
       "      <td>0</td>\n",
       "      <td>2020</td>\n",
       "    </tr>\n",
       "    <tr>\n",
       "      <th>936</th>\n",
       "      <td>2020-02-01</td>\n",
       "      <td>0</td>\n",
       "      <td>Two year</td>\n",
       "      <td>No</td>\n",
       "      <td>Mailed check</td>\n",
       "      <td>80.85</td>\n",
       "      <td>NaN</td>\n",
       "      <td>Female</td>\n",
       "      <td>0</td>\n",
       "      <td>Yes</td>\n",
       "      <td>...</td>\n",
       "      <td>DSL</td>\n",
       "      <td>Yes</td>\n",
       "      <td>Yes</td>\n",
       "      <td>Yes</td>\n",
       "      <td>No</td>\n",
       "      <td>Yes</td>\n",
       "      <td>Yes</td>\n",
       "      <td>No</td>\n",
       "      <td>0</td>\n",
       "      <td>2020</td>\n",
       "    </tr>\n",
       "    <tr>\n",
       "      <th>1082</th>\n",
       "      <td>2020-02-01</td>\n",
       "      <td>0</td>\n",
       "      <td>Two year</td>\n",
       "      <td>No</td>\n",
       "      <td>Mailed check</td>\n",
       "      <td>25.75</td>\n",
       "      <td>NaN</td>\n",
       "      <td>Male</td>\n",
       "      <td>0</td>\n",
       "      <td>Yes</td>\n",
       "      <td>...</td>\n",
       "      <td>No</td>\n",
       "      <td>No</td>\n",
       "      <td>No</td>\n",
       "      <td>No</td>\n",
       "      <td>No</td>\n",
       "      <td>No</td>\n",
       "      <td>No</td>\n",
       "      <td>Yes</td>\n",
       "      <td>0</td>\n",
       "      <td>2020</td>\n",
       "    </tr>\n",
       "    <tr>\n",
       "      <th>1340</th>\n",
       "      <td>2020-02-01</td>\n",
       "      <td>0</td>\n",
       "      <td>Two year</td>\n",
       "      <td>No</td>\n",
       "      <td>Credit card (automatic)</td>\n",
       "      <td>56.05</td>\n",
       "      <td>NaN</td>\n",
       "      <td>Female</td>\n",
       "      <td>0</td>\n",
       "      <td>Yes</td>\n",
       "      <td>...</td>\n",
       "      <td>DSL</td>\n",
       "      <td>Yes</td>\n",
       "      <td>Yes</td>\n",
       "      <td>Yes</td>\n",
       "      <td>Yes</td>\n",
       "      <td>Yes</td>\n",
       "      <td>No</td>\n",
       "      <td>No</td>\n",
       "      <td>0</td>\n",
       "      <td>2020</td>\n",
       "    </tr>\n",
       "    <tr>\n",
       "      <th>3331</th>\n",
       "      <td>2020-02-01</td>\n",
       "      <td>0</td>\n",
       "      <td>Two year</td>\n",
       "      <td>No</td>\n",
       "      <td>Mailed check</td>\n",
       "      <td>19.85</td>\n",
       "      <td>NaN</td>\n",
       "      <td>Male</td>\n",
       "      <td>0</td>\n",
       "      <td>Yes</td>\n",
       "      <td>...</td>\n",
       "      <td>No</td>\n",
       "      <td>No</td>\n",
       "      <td>No</td>\n",
       "      <td>No</td>\n",
       "      <td>No</td>\n",
       "      <td>No</td>\n",
       "      <td>No</td>\n",
       "      <td>No</td>\n",
       "      <td>0</td>\n",
       "      <td>2020</td>\n",
       "    </tr>\n",
       "    <tr>\n",
       "      <th>3826</th>\n",
       "      <td>2020-02-01</td>\n",
       "      <td>0</td>\n",
       "      <td>Two year</td>\n",
       "      <td>No</td>\n",
       "      <td>Mailed check</td>\n",
       "      <td>25.35</td>\n",
       "      <td>NaN</td>\n",
       "      <td>Male</td>\n",
       "      <td>0</td>\n",
       "      <td>Yes</td>\n",
       "      <td>...</td>\n",
       "      <td>No</td>\n",
       "      <td>No</td>\n",
       "      <td>No</td>\n",
       "      <td>No</td>\n",
       "      <td>No</td>\n",
       "      <td>No</td>\n",
       "      <td>No</td>\n",
       "      <td>Yes</td>\n",
       "      <td>0</td>\n",
       "      <td>2020</td>\n",
       "    </tr>\n",
       "    <tr>\n",
       "      <th>4380</th>\n",
       "      <td>2020-02-01</td>\n",
       "      <td>0</td>\n",
       "      <td>Two year</td>\n",
       "      <td>No</td>\n",
       "      <td>Mailed check</td>\n",
       "      <td>20.00</td>\n",
       "      <td>NaN</td>\n",
       "      <td>Female</td>\n",
       "      <td>0</td>\n",
       "      <td>Yes</td>\n",
       "      <td>...</td>\n",
       "      <td>No</td>\n",
       "      <td>No</td>\n",
       "      <td>No</td>\n",
       "      <td>No</td>\n",
       "      <td>No</td>\n",
       "      <td>No</td>\n",
       "      <td>No</td>\n",
       "      <td>No</td>\n",
       "      <td>0</td>\n",
       "      <td>2020</td>\n",
       "    </tr>\n",
       "    <tr>\n",
       "      <th>5218</th>\n",
       "      <td>2020-02-01</td>\n",
       "      <td>0</td>\n",
       "      <td>One year</td>\n",
       "      <td>Yes</td>\n",
       "      <td>Mailed check</td>\n",
       "      <td>19.70</td>\n",
       "      <td>NaN</td>\n",
       "      <td>Male</td>\n",
       "      <td>0</td>\n",
       "      <td>Yes</td>\n",
       "      <td>...</td>\n",
       "      <td>No</td>\n",
       "      <td>No</td>\n",
       "      <td>No</td>\n",
       "      <td>No</td>\n",
       "      <td>No</td>\n",
       "      <td>No</td>\n",
       "      <td>No</td>\n",
       "      <td>No</td>\n",
       "      <td>0</td>\n",
       "      <td>2020</td>\n",
       "    </tr>\n",
       "    <tr>\n",
       "      <th>6670</th>\n",
       "      <td>2020-02-01</td>\n",
       "      <td>0</td>\n",
       "      <td>Two year</td>\n",
       "      <td>No</td>\n",
       "      <td>Mailed check</td>\n",
       "      <td>73.35</td>\n",
       "      <td>NaN</td>\n",
       "      <td>Female</td>\n",
       "      <td>0</td>\n",
       "      <td>Yes</td>\n",
       "      <td>...</td>\n",
       "      <td>DSL</td>\n",
       "      <td>No</td>\n",
       "      <td>Yes</td>\n",
       "      <td>Yes</td>\n",
       "      <td>Yes</td>\n",
       "      <td>Yes</td>\n",
       "      <td>No</td>\n",
       "      <td>Yes</td>\n",
       "      <td>0</td>\n",
       "      <td>2020</td>\n",
       "    </tr>\n",
       "    <tr>\n",
       "      <th>6754</th>\n",
       "      <td>2020-02-01</td>\n",
       "      <td>0</td>\n",
       "      <td>Two year</td>\n",
       "      <td>Yes</td>\n",
       "      <td>Bank transfer (automatic)</td>\n",
       "      <td>61.90</td>\n",
       "      <td>NaN</td>\n",
       "      <td>Male</td>\n",
       "      <td>0</td>\n",
       "      <td>No</td>\n",
       "      <td>...</td>\n",
       "      <td>DSL</td>\n",
       "      <td>Yes</td>\n",
       "      <td>Yes</td>\n",
       "      <td>No</td>\n",
       "      <td>Yes</td>\n",
       "      <td>No</td>\n",
       "      <td>No</td>\n",
       "      <td>Yes</td>\n",
       "      <td>0</td>\n",
       "      <td>2020</td>\n",
       "    </tr>\n",
       "  </tbody>\n",
       "</table>\n",
       "<p>11 rows × 21 columns</p>\n",
       "</div>"
      ],
      "text/plain": [
       "     begin_date  churn      type paperless_billing             payment_method  \\\n",
       "488  2020-02-01      0  Two year               Yes  Bank transfer (automatic)   \n",
       "753  2020-02-01      0  Two year                No               Mailed check   \n",
       "936  2020-02-01      0  Two year                No               Mailed check   \n",
       "1082 2020-02-01      0  Two year                No               Mailed check   \n",
       "1340 2020-02-01      0  Two year                No    Credit card (automatic)   \n",
       "3331 2020-02-01      0  Two year                No               Mailed check   \n",
       "3826 2020-02-01      0  Two year                No               Mailed check   \n",
       "4380 2020-02-01      0  Two year                No               Mailed check   \n",
       "5218 2020-02-01      0  One year               Yes               Mailed check   \n",
       "6670 2020-02-01      0  Two year                No               Mailed check   \n",
       "6754 2020-02-01      0  Two year               Yes  Bank transfer (automatic)   \n",
       "\n",
       "      monthly_charges  total_charges  gender  senior_citizen partner  ...  \\\n",
       "488             52.55            NaN  Female               0     Yes  ...   \n",
       "753             20.25            NaN    Male               0      No  ...   \n",
       "936             80.85            NaN  Female               0     Yes  ...   \n",
       "1082            25.75            NaN    Male               0     Yes  ...   \n",
       "1340            56.05            NaN  Female               0     Yes  ...   \n",
       "3331            19.85            NaN    Male               0     Yes  ...   \n",
       "3826            25.35            NaN    Male               0     Yes  ...   \n",
       "4380            20.00            NaN  Female               0     Yes  ...   \n",
       "5218            19.70            NaN    Male               0     Yes  ...   \n",
       "6670            73.35            NaN  Female               0     Yes  ...   \n",
       "6754            61.90            NaN    Male               0      No  ...   \n",
       "\n",
       "     internet_service online_security online_backup device_protection  \\\n",
       "488               DSL             Yes            No               Yes   \n",
       "753                No              No            No                No   \n",
       "936               DSL             Yes           Yes               Yes   \n",
       "1082               No              No            No                No   \n",
       "1340              DSL             Yes           Yes               Yes   \n",
       "3331               No              No            No                No   \n",
       "3826               No              No            No                No   \n",
       "4380               No              No            No                No   \n",
       "5218               No              No            No                No   \n",
       "6670              DSL              No           Yes               Yes   \n",
       "6754              DSL             Yes           Yes                No   \n",
       "\n",
       "     tech_support streaming_tv streaming_movies multiple_lines tenure  \\\n",
       "488           Yes          Yes               No             No      0   \n",
       "753            No           No               No             No      0   \n",
       "936            No          Yes              Yes             No      0   \n",
       "1082           No           No               No            Yes      0   \n",
       "1340          Yes          Yes               No             No      0   \n",
       "3331           No           No               No             No      0   \n",
       "3826           No           No               No            Yes      0   \n",
       "4380           No           No               No             No      0   \n",
       "5218           No           No               No             No      0   \n",
       "6670          Yes          Yes               No            Yes      0   \n",
       "6754          Yes           No               No            Yes      0   \n",
       "\n",
       "      year_start  \n",
       "488         2020  \n",
       "753         2020  \n",
       "936         2020  \n",
       "1082        2020  \n",
       "1340        2020  \n",
       "3331        2020  \n",
       "3826        2020  \n",
       "4380        2020  \n",
       "5218        2020  \n",
       "6670        2020  \n",
       "6754        2020  \n",
       "\n",
       "[11 rows x 21 columns]"
      ]
     },
     "execution_count": 20,
     "metadata": {},
     "output_type": "execute_result"
    }
   ],
   "source": [
    "# checking columns where total charges is null \n",
    "all_data[all_data['total_charges'].isna()]"
   ]
  },
  {
   "cell_type": "code",
   "execution_count": 21,
   "metadata": {},
   "outputs": [
    {
     "data": {
      "text/plain": [
       "Timestamp('2020-02-01 00:00:00')"
      ]
     },
     "execution_count": 21,
     "metadata": {},
     "output_type": "execute_result"
    }
   ],
   "source": [
    "# total_charges may be empty because the client just started their plan \n",
    "all_data['begin_date'].max()"
   ]
  },
  {
   "cell_type": "markdown",
   "metadata": {},
   "source": [
    "The start_date for all the rows is 2020-02-01 is the max start_date, so they likely just started with their plan hence null total_charges. So null could be replace with 0; no total charge yet. "
   ]
  },
  {
   "cell_type": "code",
   "execution_count": 22,
   "metadata": {},
   "outputs": [
    {
     "data": {
      "text/plain": [
       "0"
      ]
     },
     "execution_count": 22,
     "metadata": {},
     "output_type": "execute_result"
    }
   ],
   "source": [
    "# replace null total_charges with 0\n",
    "all_data['total_charges'].fillna(0, inplace=True)\n",
    "all_data['total_charges'].isna().sum()"
   ]
  },
  {
   "cell_type": "markdown",
   "metadata": {},
   "source": [
    "### Dropping 'begin_date' columns "
   ]
  },
  {
   "cell_type": "code",
   "execution_count": 23,
   "metadata": {},
   "outputs": [],
   "source": [
    "# since we have the tenure column begin data can be dropped \n",
    "all_data.drop('begin_date', axis=1, inplace=True)"
   ]
  },
  {
   "cell_type": "code",
   "execution_count": 24,
   "metadata": {},
   "outputs": [
    {
     "name": "stdout",
     "output_type": "stream",
     "text": [
      "churn: [0 1]\n",
      "\n",
      "type: ['Month-to-month' 'One year' 'Two year']\n",
      "\n",
      "paperless_billing: ['Yes' 'No']\n",
      "\n",
      "payment_method: ['Electronic check' 'Mailed check' 'Bank transfer (automatic)'\n",
      " 'Credit card (automatic)']\n",
      "\n",
      "monthly_charges: [29.85 56.95 53.85 ... 63.1  44.2  78.7 ]\n",
      "\n",
      "total_charges: [  29.85 1889.5   108.15 ...  346.45  306.6  6844.5 ]\n",
      "\n",
      "gender: ['Female' 'Male']\n",
      "\n",
      "senior_citizen: [0 1]\n",
      "\n",
      "partner: ['Yes' 'No']\n",
      "\n",
      "dependents: ['No' 'Yes']\n",
      "\n",
      "internet_service: ['DSL' 'Fiber optic' 'No']\n",
      "\n",
      "online_security: ['No' 'Yes']\n",
      "\n",
      "online_backup: ['Yes' 'No']\n",
      "\n",
      "device_protection: ['No' 'Yes']\n",
      "\n",
      "tech_support: ['No' 'Yes']\n",
      "\n",
      "streaming_tv: ['No' 'Yes']\n",
      "\n",
      "streaming_movies: ['No' 'Yes']\n",
      "\n",
      "multiple_lines: ['No' 'Yes']\n",
      "\n",
      "tenure: [ 1 34  2 45  8 22 10 28 62 13 16 58 49 25 69 52 71 21 12 30 47 72 17 27\n",
      "  5 46 11 70 63 43 15 60 18 66  9  3 31 50 64 56  7 42 35 48 29 65 38 68\n",
      " 32 55 37 36 41  6  4 33 67 23 57 61 14 20 53 40 59 24 44 19 54 51 26  0\n",
      " 39]\n",
      "\n",
      "year_start: [2020 2017 2019 2016 2018 2014 2015 2013]\n",
      "\n"
     ]
    }
   ],
   "source": [
    "# review columns \n",
    "columns_values(all_data)"
   ]
  },
  {
   "cell_type": "markdown",
   "metadata": {},
   "source": [
    "## Data Visualization "
   ]
  },
  {
   "cell_type": "code",
   "execution_count": 25,
   "metadata": {},
   "outputs": [
    {
     "data": {
      "text/plain": [
       "0    5174\n",
       "1    1869\n",
       "Name: churn, dtype: int64"
      ]
     },
     "execution_count": 25,
     "metadata": {},
     "output_type": "execute_result"
    }
   ],
   "source": [
    "# check target class inbalance\n",
    "all_data['churn'].value_counts()"
   ]
  },
  {
   "cell_type": "markdown",
   "metadata": {},
   "source": [
    "### How does 'churn' relate to the number of months client is with plan?"
   ]
  },
  {
   "cell_type": "code",
   "execution_count": 26,
   "metadata": {},
   "outputs": [
    {
     "name": "stdout",
     "output_type": "stream",
     "text": [
      "range for tenure: 0 to 72 months\n"
     ]
    }
   ],
   "source": [
    "# range of months in tenure column\n",
    "print(f\"range for tenure: 0 to {all_data['tenure'].max()} months\")"
   ]
  },
  {
   "cell_type": "code",
   "execution_count": 27,
   "metadata": {},
   "outputs": [
    {
     "data": {
      "text/plain": [
       "<AxesSubplot:title={'center':'Quantity of churn and no churn by Tunure Month'}, xlabel='tenure', ylabel='frequency'>"
      ]
     },
     "execution_count": 27,
     "metadata": {},
     "output_type": "execute_result"
    },
    {
     "data": {
      "image/png": "[encoded data removed]",
      "text/plain": [
       "<Figure size 1600x800 with 1 Axes>"
      ]
     },
     "metadata": {},
     "output_type": "display_data"
    }
   ],
   "source": [
    "# churn column vs tenure \n",
    "ct = pd.crosstab(all_data['tenure'], all_data['churn'])\n",
    "ct.plot(kind='bar', stacked=False, figsize=(16, 8), title='Quantity of churn and no churn by Tunure Month', ylabel='frequency')\n"
   ]
  },
  {
   "cell_type": "markdown",
   "metadata": {},
   "source": [
    "* The ratio of client churn to no churn is higher at the fist month and gradually decreased after the second month. \n",
    "* There is a lower churn percentage for months> 70\n",
    "* could the high quantity of churns during a clients first year mean there are more monthy plan client churns. "
   ]
  },
  {
   "cell_type": "code",
   "execution_count": 28,
   "metadata": {},
   "outputs": [
    {
     "data": {
      "text/plain": [
       "<AxesSubplot:title={'center':'plan vs. churn (first 12 months)'}, ylabel='type'>"
      ]
     },
     "execution_count": 28,
     "metadata": {},
     "output_type": "execute_result"
    },
    {
     "data": {
      "image/png": "[encoded data removed]",
      "text/plain": [
       "<Figure size 640x480 with 1 Axes>"
      ]
     },
     "metadata": {},
     "output_type": "display_data"
    },
    {
     "data": {
      "image/png": "[encoded data removed]",
      "text/plain": [
       "<Figure size 640x480 with 1 Axes>"
      ]
     },
     "metadata": {},
     "output_type": "display_data"
    }
   ],
   "source": [
    "# churn quantity by plan type\n",
    "all_data.groupby('type')['churn'].value_counts().unstack().plot(kind='barh', title='plan vs. churn (over-all)', ylabel='clients')\n",
    "# churn quantity by plan type during first 12 months\n",
    "all_data[all_data['tenure'] <= 12].groupby('type')['churn'].value_counts().unstack().plot(kind='barh', title='plan vs. churn (first 12 months)', ylabel='clients')\n"
   ]
  },
  {
   "cell_type": "markdown",
   "metadata": {},
   "source": [
    "Looks like those with a monthlyplan are more prone to cancel their plan/service, especially during the first year. why is that? since we don't have much feedback on how the customers felt about the services we could focus on the charges. "
   ]
  },
  {
   "cell_type": "markdown",
   "metadata": {},
   "source": [
    "### Distribution of charges for churn and no churn clients"
   ]
  },
  {
   "cell_type": "code",
   "execution_count": 29,
   "metadata": {},
   "outputs": [
    {
     "data": {
      "image/png": "[encoded data removed]",
      "text/plain": [
       "<Figure size 640x480 with 1 Axes>"
      ]
     },
     "metadata": {},
     "output_type": "display_data"
    }
   ],
   "source": [
    "sns.boxplot(data=all_data, x='churn', y='monthly_charges')\n",
    "plt.title('Effect of Monthly Charges on Churn')\n",
    "plt.xlabel('Churn')\n",
    "plt.ylabel('Monthly Charges')\n",
    "plt.show()\n"
   ]
  },
  {
   "cell_type": "markdown",
   "metadata": {},
   "source": [
    "churn customers indeed have a higher mean and distribution of charges.  "
   ]
  },
  {
   "cell_type": "markdown",
   "metadata": {},
   "source": [
    "### Distribution of charges "
   ]
  },
  {
   "cell_type": "code",
   "execution_count": 30,
   "metadata": {},
   "outputs": [
    {
     "data": {
      "image/png": "[encoded data removed]",
      "text/plain": [
       "<Figure size 640x480 with 1 Axes>"
      ]
     },
     "metadata": {},
     "output_type": "display_data"
    }
   ],
   "source": [
    "# histogram of charges. what is the distribution of charges for those who churned and those who didn't\n",
    "plt.hist(all_data[all_data['churn']==0]['monthly_charges'], label='no churn', alpha=0.8)\n",
    "plt.hist(all_data[all_data['churn']==1]['monthly_charges'], label='churn', alpha=0.8)\n",
    "plt.title('monthly_charges distribution for churn and no churn clients')\n",
    "plt.xlabel('monthly charges')\n",
    "plt.ylabel('clients')\n",
    "plt.legend()\n",
    "plt.show()"
   ]
  },
  {
   "cell_type": "markdown",
   "metadata": {},
   "source": [
    "There is a a higher quantity of clients with a monthly charges between 70 and 110 who canceled their plan compared to charges lower than 70. It is clear that the cost of the plan does have a significant impact on the behavior of clients. "
   ]
  },
  {
   "cell_type": "code",
   "execution_count": 31,
   "metadata": {},
   "outputs": [
    {
     "data": {
      "text/plain": [
       "['churn',\n",
       " 'type',\n",
       " 'paperless_billing',\n",
       " 'payment_method',\n",
       " 'monthly_charges',\n",
       " 'total_charges',\n",
       " 'gender',\n",
       " 'senior_citizen',\n",
       " 'partner',\n",
       " 'dependents',\n",
       " 'internet_service',\n",
       " 'online_security',\n",
       " 'online_backup',\n",
       " 'device_protection',\n",
       " 'tech_support',\n",
       " 'streaming_tv',\n",
       " 'streaming_movies',\n",
       " 'multiple_lines',\n",
       " 'tenure',\n",
       " 'year_start']"
      ]
     },
     "execution_count": 31,
     "metadata": {},
     "output_type": "execute_result"
    }
   ],
   "source": [
    "all_data.columns.tolist()"
   ]
  },
  {
   "cell_type": "code",
   "execution_count": 32,
   "metadata": {},
   "outputs": [],
   "source": [
    "plot_columns = all_data.columns.tolist()\n",
    "#plot_columns.remove(['monthly_charges', 'total_charges'])\n",
    "#plot_columns"
   ]
  },
  {
   "cell_type": "code",
   "execution_count": 33,
   "metadata": {},
   "outputs": [],
   "source": [
    "plot_columns = [\n",
    " 'type',\n",
    " 'paperless_billing',\n",
    " 'payment_method',\n",
    " 'gender',\n",
    " 'senior_citizen',\n",
    " 'partner',\n",
    " 'dependents',\n",
    " 'internet_service',\n",
    " 'online_security',\n",
    " 'online_backup',\n",
    " 'device_protection',\n",
    " 'tech_support',\n",
    " 'streaming_tv',\n",
    " 'streaming_movies',\n",
    " 'multiple_lines',\n",
    " 'year_start']"
   ]
  },
  {
   "cell_type": "code",
   "execution_count": 34,
   "metadata": {
    "scrolled": false
   },
   "outputs": [
    {
     "data": {
      "image/png": "[encoded data removed]",
      "text/plain": [
       "<Figure size 1500x3800 with 16 Axes>"
      ]
     },
     "metadata": {},
     "output_type": "display_data"
    }
   ],
   "source": [
    "fig, axs = plt.subplots(8, 2, figsize=(15,38),sharex=False)\n",
    "x, y = 0, 0\n",
    "\n",
    "for col in plot_columns:\n",
    "    if (y==2):\n",
    "        y=0\n",
    "        x+=1\n",
    "        \n",
    "    #plt.bar(data=all_data, x=churn, y='col', orient='v', hue=col, ax=axs[x,y])\n",
    "    all_data.groupby(col)['churn'].value_counts().unstack().plot(kind='barh', ax=axs[x,y])\n",
    "    axs[x,y].legend(loc='upper right', title='churn')\n",
    "    axs[x,y].set_xlabel('')\n",
    "    y+=1\n",
    "\n",
    "plt.show()"
   ]
  },
  {
   "cell_type": "markdown",
   "metadata": {},
   "source": [
    "Notes by plots: \n",
    "- type: high ratio of churn clients with a monthly plan. this is to be expected since there was a high quantity of churn clients in the first year. \n",
    "- paperless_billing: Those with paperless billing have a higher churn. why is that?\n",
    "- payment_method: highest churn for the electronic check clients compared to the rest of the methods. \n",
    "- gender: no significant difference in churn for gender\n",
    "- partner: higher churn clients without a partner. \n",
    "- internet_service: fiber_optic clients churn is much higher. \n",
    "- streaming services and multiple_lines: quantity of churn clients is consistent if they had the service or not. \n",
    "- year_start: there is gradual rise in client churn from 2014 to 2018, the no churn clients did not grow much during these years. The quantity of churn and no churn is even for 2019. This could be further studied with more data from that year. there is little or no churn for 2020, which is expected sicne that data only includes up to 2-1-2020\n",
    "- other features values don't appear to have a distinguishable impact on the churn "
   ]
  },
  {
   "cell_type": "markdown",
   "metadata": {},
   "source": [
    "Considering the varrying degrees of impact of each feature on the churn of interconnect's cliets, machine learning models would be able to learn from the feature values and predict the likely hold of a client canceling their plan. "
   ]
  },
  {
   "cell_type": "markdown",
   "metadata": {},
   "source": [
    "Plan of Action \n",
    "\n",
    "1. The categorical columns need to be label encoded for machine learning\n",
    "2. Normalize Charges using StandardScaler \n",
    "3. Machine Learning:\n",
    "    * a logistic regresssion, and random forest classifier could be a good start\n",
    "    * a Gradient Boosting model like lightGBM might give better predictive accuracy for reaching AUC-ROC >= 0.88\n",
    "    * I am also curious about how a KNN model might do with this data set. "
   ]
  },
  {
   "cell_type": "markdown",
   "metadata": {},
   "source": [
    "## Final Data Preperation before model training "
   ]
  },
  {
   "cell_type": "markdown",
   "metadata": {},
   "source": [
    "### new column base_charges"
   ]
  },
  {
   "cell_type": "markdown",
   "metadata": {},
   "source": [
    "The monthly charges may have changed over time for clients. The base_charges (product of monthyly charge and tenure months) could be helpful to the model to distingush the longterm clients. "
   ]
  },
  {
   "cell_type": "code",
   "execution_count": 35,
   "metadata": {},
   "outputs": [],
   "source": [
    "all_data['base_charges'] = all_data['monthly_charges'] * all_data['tenure']"
   ]
  },
  {
   "cell_type": "markdown",
   "metadata": {},
   "source": [
    "### Label encoding on categorical columns"
   ]
  },
  {
   "cell_type": "code",
   "execution_count": 36,
   "metadata": {},
   "outputs": [
    {
     "data": {
      "text/plain": [
       "['type',\n",
       " 'paperless_billing',\n",
       " 'payment_method',\n",
       " 'gender',\n",
       " 'partner',\n",
       " 'dependents',\n",
       " 'internet_service',\n",
       " 'online_security',\n",
       " 'online_backup',\n",
       " 'device_protection',\n",
       " 'tech_support',\n",
       " 'streaming_tv',\n",
       " 'streaming_movies',\n",
       " 'multiple_lines']"
      ]
     },
     "execution_count": 36,
     "metadata": {},
     "output_type": "execute_result"
    }
   ],
   "source": [
    "# categorical columns \n",
    "object_type_columns = all_data.select_dtypes(include='object').columns.tolist()\n",
    "object_type_columns"
   ]
  },
  {
   "cell_type": "code",
   "execution_count": 37,
   "metadata": {},
   "outputs": [],
   "source": [
    "# label encoding categorical columns\n",
    "label_encoder = LabelEncoder()\n",
    "\n",
    "for column in object_type_columns:\n",
    "    all_data[column] = label_encoder.fit_transform(all_data[column])"
   ]
  },
  {
   "cell_type": "markdown",
   "metadata": {},
   "source": [
    "### Data Spliting and scaling charges columns"
   ]
  },
  {
   "cell_type": "code",
   "execution_count": 38,
   "metadata": {},
   "outputs": [],
   "source": [
    "# data spliting features and target \n",
    "features = all_data.drop('churn', axis=1)\n",
    "target= all_data['churn']"
   ]
  },
  {
   "cell_type": "code",
   "execution_count": 39,
   "metadata": {},
   "outputs": [],
   "source": [
    "# train and test data split\n",
    "features_train, features_test, target_train, target_test = train_test_split(features, target, test_size=0.3, random_state=42)"
   ]
  },
  {
   "cell_type": "code",
   "execution_count": 40,
   "metadata": {},
   "outputs": [],
   "source": [
    "# scaling columns with charges. \n",
    "scaler = StandardScaler()\n",
    "features_train_scaled = features_train.copy()\n",
    "charges_columns = ['monthly_charges', 'total_charges', 'base_charges']\n",
    "features_train_scaled[charges_columns] = scaler.fit_transform(features_train_scaled[charges_columns])\n",
    "\n",
    "features_test_scaled = features_test.copy()\n",
    "features_test_scaled[charges_columns] = scaler.transform(features_test_scaled[charges_columns])\n"
   ]
  },
  {
   "cell_type": "code",
   "execution_count": 41,
   "metadata": {},
   "outputs": [
    {
     "data": {
      "text/html": [
       "<div>\n",
       "<style scoped>\n",
       "    .dataframe tbody tr th:only-of-type {\n",
       "        vertical-align: middle;\n",
       "    }\n",
       "\n",
       "    .dataframe tbody tr th {\n",
       "        vertical-align: top;\n",
       "    }\n",
       "\n",
       "    .dataframe thead th {\n",
       "        text-align: right;\n",
       "    }\n",
       "</style>\n",
       "<table border=\"1\" class=\"dataframe\">\n",
       "  <thead>\n",
       "    <tr style=\"text-align: right;\">\n",
       "      <th></th>\n",
       "      <th>type</th>\n",
       "      <th>paperless_billing</th>\n",
       "      <th>payment_method</th>\n",
       "      <th>monthly_charges</th>\n",
       "      <th>total_charges</th>\n",
       "      <th>gender</th>\n",
       "      <th>senior_citizen</th>\n",
       "      <th>partner</th>\n",
       "      <th>dependents</th>\n",
       "      <th>internet_service</th>\n",
       "      <th>online_security</th>\n",
       "      <th>online_backup</th>\n",
       "      <th>device_protection</th>\n",
       "      <th>tech_support</th>\n",
       "      <th>streaming_tv</th>\n",
       "      <th>streaming_movies</th>\n",
       "      <th>multiple_lines</th>\n",
       "      <th>tenure</th>\n",
       "      <th>year_start</th>\n",
       "      <th>base_charges</th>\n",
       "    </tr>\n",
       "  </thead>\n",
       "  <tbody>\n",
       "    <tr>\n",
       "      <th>321</th>\n",
       "      <td>2</td>\n",
       "      <td>1</td>\n",
       "      <td>2</td>\n",
       "      <td>-0.159105</td>\n",
       "      <td>0.872558</td>\n",
       "      <td>0</td>\n",
       "      <td>0</td>\n",
       "      <td>1</td>\n",
       "      <td>1</td>\n",
       "      <td>0</td>\n",
       "      <td>0</td>\n",
       "      <td>1</td>\n",
       "      <td>1</td>\n",
       "      <td>1</td>\n",
       "      <td>1</td>\n",
       "      <td>1</td>\n",
       "      <td>0</td>\n",
       "      <td>72</td>\n",
       "      <td>2014</td>\n",
       "      <td>0.899128</td>\n",
       "    </tr>\n",
       "  </tbody>\n",
       "</table>\n",
       "</div>"
      ],
      "text/plain": [
       "     type  paperless_billing  payment_method  monthly_charges  total_charges  \\\n",
       "321     2                  1               2        -0.159105       0.872558   \n",
       "\n",
       "     gender  senior_citizen  partner  dependents  internet_service  \\\n",
       "321       0               0        1           1                 0   \n",
       "\n",
       "     online_security  online_backup  device_protection  tech_support  \\\n",
       "321                0              1                  1             1   \n",
       "\n",
       "     streaming_tv  streaming_movies  multiple_lines  tenure  year_start  \\\n",
       "321             1                 1               0      72        2014   \n",
       "\n",
       "     base_charges  \n",
       "321      0.899128  "
      ]
     },
     "execution_count": 41,
     "metadata": {},
     "output_type": "execute_result"
    }
   ],
   "source": [
    "# sample view\n",
    "features_test_scaled.sample()"
   ]
  },
  {
   "cell_type": "markdown",
   "metadata": {},
   "source": [
    "### Upsampling data"
   ]
  },
  {
   "cell_type": "code",
   "execution_count": 42,
   "metadata": {},
   "outputs": [],
   "source": [
    "# function to upsample data\n",
    "def upsample(features, target, repeat):\n",
    "    # Separate the minority and majority classes\n",
    "    features_zeros = features[target == 0]\n",
    "    features_ones = features[target == 1]\n",
    "    target_zeros = target[target == 0]\n",
    "    target_ones = target[target == 1]\n",
    "\n",
    "    # Upsample the minority class (1)\n",
    "    features_upsampled = pd.concat([features_zeros] + [features_ones] * repeat)\n",
    "    target_upsampled = pd.concat([target_zeros] + [target_ones] * repeat)\n",
    "\n",
    "    # Shuffle the upsampled dataset\n",
    "    features_upsampled, target_upsampled = shuffle(features_upsampled, target_upsampled, random_state=12345)\n",
    "\n",
    "    return features_upsampled, target_upsampled"
   ]
  },
  {
   "cell_type": "code",
   "execution_count": 43,
   "metadata": {},
   "outputs": [
    {
     "data": {
      "text/plain": [
       "0    3635\n",
       "1    1295\n",
       "Name: churn, dtype: int64"
      ]
     },
     "execution_count": 43,
     "metadata": {},
     "output_type": "execute_result"
    }
   ],
   "source": [
    "# view imbalance again \n",
    "target_train.value_counts()"
   ]
  },
  {
   "cell_type": "code",
   "execution_count": 44,
   "metadata": {},
   "outputs": [],
   "source": [
    "# upsampling train datasets. repeat = 2 \n",
    "features_upsampled, target_upsampled = upsample(\n",
    "    features_train_scaled, target_train, 2\n",
    ")"
   ]
  },
  {
   "cell_type": "code",
   "execution_count": 45,
   "metadata": {},
   "outputs": [
    {
     "data": {
      "text/plain": [
       "0    3635\n",
       "1    2590\n",
       "Name: churn, dtype: int64"
      ]
     },
     "execution_count": 45,
     "metadata": {},
     "output_type": "execute_result"
    }
   ],
   "source": [
    "# upsampled data imbalance\n",
    "target_upsampled.value_counts()"
   ]
  },
  {
   "cell_type": "code",
   "execution_count": 46,
   "metadata": {
    "scrolled": false
   },
   "outputs": [
    {
     "name": "stdout",
     "output_type": "stream",
     "text": [
      "type: [0 2 1]\n",
      "\n",
      "paperless_billing: [1 0]\n",
      "\n",
      "payment_method: [2 3 1 0]\n",
      "\n",
      "monthly_charges: [ 0.71354247 -1.35857933 -1.47139301 ...  1.63098311  1.58453042\n",
      " -0.8857573 ]\n",
      "\n",
      "total_charges: [-0.48831874 -0.73343149 -0.54936519 ... -0.58125678  0.59965874\n",
      "  1.70436551]\n",
      "\n",
      "gender: [0 1]\n",
      "\n",
      "senior_citizen: [0 1]\n",
      "\n",
      "partner: [0 1]\n",
      "\n",
      "dependents: [0 1]\n",
      "\n",
      "internet_service: [1 2 0]\n",
      "\n",
      "online_security: [0 1]\n",
      "\n",
      "online_backup: [1 0]\n",
      "\n",
      "device_protection: [0 1]\n",
      "\n",
      "tech_support: [0 1]\n",
      "\n",
      "streaming_tv: [0 1]\n",
      "\n",
      "streaming_movies: [1 0]\n",
      "\n",
      "multiple_lines: [0 1]\n",
      "\n",
      "tenure: [14 23 51  3 68  1 37 72  6 13 71 66  7  2 27 12 32 26 15 24  5 29 60 20\n",
      " 54 17 43 31 19 22 11 39 47 42 52  4 40 16 49 33 44 62 56 57 10 53 45 65\n",
      " 61 25 48 63  9 38  8 41 70 59 34 35 50 21 58 69 28 55 64 36 67 30 18 46\n",
      "  0]\n",
      "\n",
      "year_start: [2018 2015 2019 2014 2016 2017 2020 2013]\n",
      "\n",
      "base_charges: [-0.47659962 -0.76823109 -0.54965669 ...  0.29868959  0.60610404\n",
      "  1.63929247]\n",
      "\n"
     ]
    }
   ],
   "source": [
    "# overview of column values\n",
    "columns_values(features_upsampled)"
   ]
  },
  {
   "cell_type": "markdown",
   "metadata": {},
   "source": [
    "## Model training using scaled data"
   ]
  },
  {
   "cell_type": "markdown",
   "metadata": {},
   "source": [
    "<b> Function to get model scores and roc curve <b>"
   ]
  },
  {
   "cell_type": "code",
   "execution_count": 47,
   "metadata": {},
   "outputs": [],
   "source": [
    "# Initialize an empty list to store the scores\n",
    "scorers = []\n",
    "\n",
    "def get_scores(model, features_valid, target_valid, index_name):\n",
    "    prediction_probabilities = model.predict_proba(features_valid)[:, 1]\n",
    "    predictions = model.predict(features_valid)\n",
    "    \n",
    "    roc_auc = roc_auc_score(target_valid, prediction_probabilities)\n",
    "    accuracy = accuracy_score(target_valid, predictions)\n",
    "    f1 = f1_score(target_valid, predictions)\n",
    "    scores = pd.DataFrame([{ 'ROC_AUC': roc_auc, 'Accuracy': accuracy, 'F1 Score': f1 }], index=[index_name])\n",
    "    scorers.append(scores)\n",
    "    \n",
    "    fpr, tpr, _ = roc_curve(target_valid, prediction_probabilities)\n",
    "\n",
    "    plt.figure(figsize=(7, 4))\n",
    "    plt.plot(fpr, tpr, label=f'{index_name} (AUC = {roc_auc:.2f})')\n",
    "    plt.plot([0, 1], [0, 1], color='navy', linestyle='--')\n",
    "    plt.xlim([0.0, 1.0])\n",
    "    plt.ylim([0.0, 1.05])\n",
    "    plt.xlabel('False Positive Rate')\n",
    "    plt.ylabel('True Positive Rate')\n",
    "    plt.title(f'{index_name} ROC Curve')\n",
    "    plt.legend(loc=\"lower right\")\n",
    "    plt.grid(True)  # Add grid to the plot\n",
    "    plt.show()  \n",
    "    \n",
    "    return scores\n"
   ]
  },
  {
   "cell_type": "code",
   "execution_count": 48,
   "metadata": {},
   "outputs": [],
   "source": [
    "random_state = 42"
   ]
  },
  {
   "cell_type": "markdown",
   "metadata": {},
   "source": [
    "### DummyClassifier"
   ]
  },
  {
   "cell_type": "code",
   "execution_count": 49,
   "metadata": {
    "scrolled": false
   },
   "outputs": [
    {
     "data": {
      "image/png": "[encoded data removed]",
      "text/plain": [
       "<Figure size 700x400 with 1 Axes>"
      ]
     },
     "metadata": {},
     "output_type": "display_data"
    },
    {
     "data": {
      "text/html": [
       "<div>\n",
       "<style scoped>\n",
       "    .dataframe tbody tr th:only-of-type {\n",
       "        vertical-align: middle;\n",
       "    }\n",
       "\n",
       "    .dataframe tbody tr th {\n",
       "        vertical-align: top;\n",
       "    }\n",
       "\n",
       "    .dataframe thead th {\n",
       "        text-align: right;\n",
       "    }\n",
       "</style>\n",
       "<table border=\"1\" class=\"dataframe\">\n",
       "  <thead>\n",
       "    <tr style=\"text-align: right;\">\n",
       "      <th></th>\n",
       "      <th>ROC_AUC</th>\n",
       "      <th>Accuracy</th>\n",
       "      <th>F1 Score</th>\n",
       "    </tr>\n",
       "  </thead>\n",
       "  <tbody>\n",
       "    <tr>\n",
       "      <th>DummyClassifier</th>\n",
       "      <td>0.5</td>\n",
       "      <td>0.728348</td>\n",
       "      <td>0.0</td>\n",
       "    </tr>\n",
       "  </tbody>\n",
       "</table>\n",
       "</div>"
      ],
      "text/plain": [
       "                 ROC_AUC  Accuracy  F1 Score\n",
       "DummyClassifier      0.5  0.728348       0.0"
      ]
     },
     "execution_count": 49,
     "metadata": {},
     "output_type": "execute_result"
    }
   ],
   "source": [
    "dummy_model = DummyClassifier(random_state=random_state).fit(features_upsampled, target_upsampled)\n",
    "get_scores(dummy_model, features_test_scaled, target_test, 'DummyClassifier')"
   ]
  },
  {
   "cell_type": "markdown",
   "metadata": {},
   "source": [
    "### LogisticRegression"
   ]
  },
  {
   "cell_type": "code",
   "execution_count": 50,
   "metadata": {},
   "outputs": [
    {
     "name": "stdout",
     "output_type": "stream",
     "text": [
      "Best Hyperparameters: {'C': 10, 'penalty': 'l1', 'solver': 'liblinear'}\n"
     ]
    },
    {
     "data": {
      "image/png": "[encoded data removed]",
      "text/plain": [
       "<Figure size 700x400 with 1 Axes>"
      ]
     },
     "metadata": {},
     "output_type": "display_data"
    },
    {
     "data": {
      "text/html": [
       "<div>\n",
       "<style scoped>\n",
       "    .dataframe tbody tr th:only-of-type {\n",
       "        vertical-align: middle;\n",
       "    }\n",
       "\n",
       "    .dataframe tbody tr th {\n",
       "        vertical-align: top;\n",
       "    }\n",
       "\n",
       "    .dataframe thead th {\n",
       "        text-align: right;\n",
       "    }\n",
       "</style>\n",
       "<table border=\"1\" class=\"dataframe\">\n",
       "  <thead>\n",
       "    <tr style=\"text-align: right;\">\n",
       "      <th></th>\n",
       "      <th>ROC_AUC</th>\n",
       "      <th>Accuracy</th>\n",
       "      <th>F1 Score</th>\n",
       "    </tr>\n",
       "  </thead>\n",
       "  <tbody>\n",
       "    <tr>\n",
       "      <th>LogisticRegression</th>\n",
       "      <td>0.851872</td>\n",
       "      <td>0.770469</td>\n",
       "      <td>0.642066</td>\n",
       "    </tr>\n",
       "  </tbody>\n",
       "</table>\n",
       "</div>"
      ],
      "text/plain": [
       "                     ROC_AUC  Accuracy  F1 Score\n",
       "LogisticRegression  0.851872  0.770469  0.642066"
      ]
     },
     "execution_count": 50,
     "metadata": {},
     "output_type": "execute_result"
    }
   ],
   "source": [
    "# parameter grid\n",
    "param_grid = {\n",
    "    'C': [0.1, 1, 10, 100],  # Regularization parameter\n",
    "    'penalty': ['l1', 'l2'], # Penalty type\n",
    "    'solver': ['liblinear', 'saga'] # Algorithm to use in the optimization problem\n",
    "}\n",
    "\n",
    "# Initialize GridSearchCV with LogisticRegression and the parameter grid\n",
    "grid_search = GridSearchCV(LogisticRegression(max_iter=10000, random_state=random_state), param_grid, cv=5, scoring='roc_auc')\n",
    "grid_search.fit(features_upsampled, target_upsampled)\n",
    "\n",
    "# best hyperparameters and the best model\n",
    "best_params = grid_search.best_params_\n",
    "lg_model = grid_search.best_estimator_\n",
    "\n",
    "# Print the results\n",
    "print(\"Best Hyperparameters:\", best_params)\n",
    "\n",
    "get_scores(lg_model, features_test_scaled, target_test, 'LogisticRegression')\n",
    "\n"
   ]
  },
  {
   "cell_type": "markdown",
   "metadata": {},
   "source": [
    "LogisticRegression\t\n",
    "Best Hyperparameters: {'C': 10, 'penalty': 'l1', 'solver': 'liblinear'}\n",
    "\n",
    "ROC_AUC: 0.851872\t  Accuracy: 0.770469\t F1 Score: 0.642066\n"
   ]
  },
  {
   "cell_type": "markdown",
   "metadata": {},
   "source": [
    "### Random Forest Classifier"
   ]
  },
  {
   "cell_type": "code",
   "execution_count": 51,
   "metadata": {
    "scrolled": false
   },
   "outputs": [
    {
     "name": "stdout",
     "output_type": "stream",
     "text": [
      "Best Hyperparameters: {'n_estimators': 300, 'min_samples_split': 2, 'min_samples_leaf': 1, 'max_depth': 20, 'bootstrap': False}\n"
     ]
    },
    {
     "data": {
      "image/png": "[encoded data removed]",
      "text/plain": [
       "<Figure size 700x400 with 1 Axes>"
      ]
     },
     "metadata": {},
     "output_type": "display_data"
    },
    {
     "data": {
      "text/html": [
       "<div>\n",
       "<style scoped>\n",
       "    .dataframe tbody tr th:only-of-type {\n",
       "        vertical-align: middle;\n",
       "    }\n",
       "\n",
       "    .dataframe tbody tr th {\n",
       "        vertical-align: top;\n",
       "    }\n",
       "\n",
       "    .dataframe thead th {\n",
       "        text-align: right;\n",
       "    }\n",
       "</style>\n",
       "<table border=\"1\" class=\"dataframe\">\n",
       "  <thead>\n",
       "    <tr style=\"text-align: right;\">\n",
       "      <th></th>\n",
       "      <th>ROC_AUC</th>\n",
       "      <th>Accuracy</th>\n",
       "      <th>F1 Score</th>\n",
       "    </tr>\n",
       "  </thead>\n",
       "  <tbody>\n",
       "    <tr>\n",
       "      <th>RandomForestClassifier</th>\n",
       "      <td>0.883143</td>\n",
       "      <td>0.826787</td>\n",
       "      <td>0.639053</td>\n",
       "    </tr>\n",
       "  </tbody>\n",
       "</table>\n",
       "</div>"
      ],
      "text/plain": [
       "                         ROC_AUC  Accuracy  F1 Score\n",
       "RandomForestClassifier  0.883143  0.826787  0.639053"
      ]
     },
     "execution_count": 51,
     "metadata": {},
     "output_type": "execute_result"
    }
   ],
   "source": [
    "# Parameter grid for Random Forest\n",
    "param_grid = {\n",
    "    'n_estimators': [100, 200, 300],\n",
    "    'max_depth': [None, 10, 20],\n",
    "    'min_samples_split': [2, 5, 10],\n",
    "    'min_samples_leaf': [1, 2, 4],\n",
    "    'bootstrap': [True, False]\n",
    "}\n",
    "\n",
    "# Initialize RandomizedSearchCV with RandomForestClassifier and the parameter grid\n",
    "random_search = RandomizedSearchCV(RandomForestClassifier(class_weight='balanced', random_state=random_state),\n",
    "                                   param_distributions=param_grid, n_iter=100, scoring='roc_auc', cv=5, n_jobs=-1, random_state=random_state)\n",
    "\n",
    "# Fit random search model\n",
    "random_search.fit(features_upsampled, target_upsampled)\n",
    "\n",
    "# Best hyperparameters and the best model\n",
    "best_params = random_search.best_params_\n",
    "rf_model = random_search.best_estimator_\n",
    "\n",
    "# Print the results\n",
    "print(\"Best Hyperparameters:\", best_params)\n",
    "\n",
    "get_scores(rf_model, features_test_scaled, target_test, 'RandomForestClassifier')\n"
   ]
  },
  {
   "cell_type": "markdown",
   "metadata": {},
   "source": [
    "Best Hyperparameters: {'n_estimators': 300, 'min_samples_split': 2, 'min_samples_leaf': 1, 'max_depth': 20, 'bootstrap': False}\n",
    "\tROC_AUC\tAccuracy\tF1 Score\n",
    "RandomForestClassifier\t0.883143\t0.826787\t0.639053"
   ]
  },
  {
   "cell_type": "markdown",
   "metadata": {},
   "source": [
    "### Cat Boost Classifier"
   ]
  },
  {
   "cell_type": "code",
   "execution_count": 52,
   "metadata": {},
   "outputs": [
    {
     "name": "stdout",
     "output_type": "stream",
     "text": [
      "Best parameters found:  {'learning_rate': 0.1, 'l2_leaf_reg': 3, 'iterations': 1000, 'depth': 8}\n"
     ]
    },
    {
     "data": {
      "image/png": "[encoded data removed]",
      "text/plain": [
       "<Figure size 700x400 with 1 Axes>"
      ]
     },
     "metadata": {},
     "output_type": "display_data"
    },
    {
     "data": {
      "text/html": [
       "<div>\n",
       "<style scoped>\n",
       "    .dataframe tbody tr th:only-of-type {\n",
       "        vertical-align: middle;\n",
       "    }\n",
       "\n",
       "    .dataframe tbody tr th {\n",
       "        vertical-align: top;\n",
       "    }\n",
       "\n",
       "    .dataframe thead th {\n",
       "        text-align: right;\n",
       "    }\n",
       "</style>\n",
       "<table border=\"1\" class=\"dataframe\">\n",
       "  <thead>\n",
       "    <tr style=\"text-align: right;\">\n",
       "      <th></th>\n",
       "      <th>ROC_AUC</th>\n",
       "      <th>Accuracy</th>\n",
       "      <th>F1 Score</th>\n",
       "    </tr>\n",
       "  </thead>\n",
       "  <tbody>\n",
       "    <tr>\n",
       "      <th>CatBoostClassifier</th>\n",
       "      <td>0.902834</td>\n",
       "      <td>0.836252</td>\n",
       "      <td>0.718241</td>\n",
       "    </tr>\n",
       "  </tbody>\n",
       "</table>\n",
       "</div>"
      ],
      "text/plain": [
       "                     ROC_AUC  Accuracy  F1 Score\n",
       "CatBoostClassifier  0.902834  0.836252  0.718241"
      ]
     },
     "execution_count": 52,
     "metadata": {},
     "output_type": "execute_result"
    }
   ],
   "source": [
    "# longer run time but similar results to the model without testing different parameters\n",
    "\n",
    "# Initialize the CatBoost classifier with basic parameters\n",
    "model = CatBoostClassifier(\n",
    "    class_weights=[11, 13],\n",
    "    random_seed=42,\n",
    "    logging_level='Silent'\n",
    ")\n",
    "\n",
    "# parameters\n",
    "param_dist = {\n",
    "    'iterations': [500, 1000],\n",
    "    'depth': [4, 6, 8],\n",
    "    'learning_rate': [0.01, 0.05, 0.1],\n",
    "    'l2_leaf_reg': [3, 5, 7],\n",
    "}\n",
    "\n",
    "# Cross-validation \n",
    "cv = StratifiedKFold(n_splits=5, shuffle=True, random_state=42)\n",
    "\n",
    "# Randomized Search\n",
    "random_search = RandomizedSearchCV(estimator=model, param_distributions=param_dist, n_iter=50, cv=cv, scoring='roc_auc', n_jobs=-1, random_state=42)\n",
    "random_search.fit(features_upsampled, target_upsampled)\n",
    "\n",
    "# Best model\n",
    "cbc_model = random_search.best_estimator_\n",
    "print(\"Best parameters found: \", random_search.best_params_)\n",
    "\n",
    "# Train best model\n",
    "cbc_model.fit(features_upsampled, target_upsampled, eval_set=(features_test_scaled, target_test), early_stopping_rounds=50, verbose=False)\n",
    "\n",
    "# Evaluate the model\n",
    "get_scores(cbc_model, features_test_scaled, target_test, 'CatBoostClassifier')\n"
   ]
  },
  {
   "cell_type": "markdown",
   "metadata": {},
   "source": [
    "CatBoostClassifier\n",
    "\n",
    "Best parameters found:  {'learning_rate': 0.1, 'l2_leaf_reg': 3, 'iterations': 1000, 'depth': 8}\n",
    "\n",
    "AUC-ROC Score: 0.902834   Test Accuracy: 0.836252    F1 Score : 0.718241"
   ]
  },
  {
   "cell_type": "raw",
   "metadata": {},
   "source": [
    "# shorter run time \n",
    "# auc roc of 0.90 \n",
    "import numpy as np\n",
    "import pandas as pd\n",
    "from sklearn.model_selection import train_test_split\n",
    "from sklearn.preprocessing import StandardScaler\n",
    "from catboost import CatBoostClassifier\n",
    "from sklearn.metrics import roc_auc_score\n",
    "\n",
    "# Define class weights\n",
    "class_weights = [11, 13]  # Adjust according to the imbalance level in your dataset\n",
    "\n",
    "# Initialize the CatBoost classifier\n",
    "cbc_model = CatBoostClassifier(\n",
    "    iterations=1000,\n",
    "    class_weights=class_weights,\n",
    "    random_seed=42,\n",
    "    logging_level='Silent'\n",
    ")\n",
    "\n",
    "# Train the model\n",
    "cbc_model.fit(features_upsampled, target_upsampled, eval_set=(features_test_scaled, target_test), early_stopping_rounds=50, verbose=False)\n",
    "\n",
    "# Evaluate the model\n",
    "get_scores(cbc_model, features_test_scaled, target_test, 'CatBoostClassifier_simple')\n"
   ]
  },
  {
   "cell_type": "markdown",
   "metadata": {},
   "source": [
    "### KNN Classifier"
   ]
  },
  {
   "cell_type": "code",
   "execution_count": 53,
   "metadata": {},
   "outputs": [
    {
     "name": "stdout",
     "output_type": "stream",
     "text": [
      "Best Hyperparameters: {'algorithm': 'ball_tree', 'metric': 'manhattan', 'n_neighbors': 12, 'p': 1, 'weights': 'distance'}\n"
     ]
    },
    {
     "data": {
      "image/png": "[encoded data removed]",
      "text/plain": [
       "<Figure size 700x400 with 1 Axes>"
      ]
     },
     "metadata": {},
     "output_type": "display_data"
    },
    {
     "data": {
      "text/html": [
       "<div>\n",
       "<style scoped>\n",
       "    .dataframe tbody tr th:only-of-type {\n",
       "        vertical-align: middle;\n",
       "    }\n",
       "\n",
       "    .dataframe tbody tr th {\n",
       "        vertical-align: top;\n",
       "    }\n",
       "\n",
       "    .dataframe thead th {\n",
       "        text-align: right;\n",
       "    }\n",
       "</style>\n",
       "<table border=\"1\" class=\"dataframe\">\n",
       "  <thead>\n",
       "    <tr style=\"text-align: right;\">\n",
       "      <th></th>\n",
       "      <th>ROC_AUC</th>\n",
       "      <th>Accuracy</th>\n",
       "      <th>F1 Score</th>\n",
       "    </tr>\n",
       "  </thead>\n",
       "  <tbody>\n",
       "    <tr>\n",
       "      <th>KNeighborsClassifier</th>\n",
       "      <td>0.864828</td>\n",
       "      <td>0.785613</td>\n",
       "      <td>0.659654</td>\n",
       "    </tr>\n",
       "  </tbody>\n",
       "</table>\n",
       "</div>"
      ],
      "text/plain": [
       "                       ROC_AUC  Accuracy  F1 Score\n",
       "KNeighborsClassifier  0.864828  0.785613  0.659654"
      ]
     },
     "execution_count": 53,
     "metadata": {},
     "output_type": "execute_result"
    }
   ],
   "source": [
    "# parameter grid\n",
    "param_grid = {\n",
    "    'n_neighbors': [3, 5, 7, 9, 12], # Number of neighbors\n",
    "    'weights': ['uniform', 'distance'], # Weight function \n",
    "    'algorithm': ['auto', 'ball_tree', 'kd_tree', 'brute'],  # Algorithm used to compute the nearest neighbors\n",
    "    'p': [1, 2],   # Power parameter \n",
    "    'metric': ['euclidean', 'manhattan'] # Distance metric\n",
    "}\n",
    "\n",
    "# Create a KNN classifier\n",
    "knn_classifier = KNeighborsClassifier(weights='distance')\n",
    "\n",
    "# grid search with cross-validation\n",
    "grid_search = GridSearchCV(knn_classifier, param_grid, cv=5, scoring='roc_auc')\n",
    "grid_search.fit(features_upsampled, target_upsampled)\n",
    "\n",
    "# best hyperparameters\n",
    "best_params = grid_search.best_params_\n",
    "\n",
    "# KNN classifier with best parameters\n",
    "best_knn_classifier = KNeighborsClassifier(**best_params)\n",
    "\n",
    "# Train the model \n",
    "best_knn_classifier.fit(features_upsampled, target_upsampled)\n",
    "\n",
    "# predictions on the testing set\n",
    "print(\"Best Hyperparameters:\", best_params)\n",
    "get_scores(best_knn_classifier, features_test_scaled, target_test, 'KNeighborsClassifier')\n",
    "\n"
   ]
  },
  {
   "cell_type": "markdown",
   "metadata": {},
   "source": [
    "KNeighborsClassifier\n",
    "\n",
    "Best Hyperparameters: {'algorithm': 'ball_tree', 'metric': 'manhattan', 'n_neighbors': 12, 'p': 1, 'weights': 'distance'}\n",
    "\n",
    "ROC_AUC: 0.864828\tAccuracy: 0.785613\tF1 Score: 0.659654"
   ]
  },
  {
   "cell_type": "markdown",
   "metadata": {},
   "source": [
    "### Voting Classifier"
   ]
  },
  {
   "cell_type": "code",
   "execution_count": 54,
   "metadata": {},
   "outputs": [
    {
     "data": {
      "image/png": "[encoded data removed]",
      "text/plain": [
       "<Figure size 700x400 with 1 Axes>"
      ]
     },
     "metadata": {},
     "output_type": "display_data"
    },
    {
     "data": {
      "text/html": [
       "<div>\n",
       "<style scoped>\n",
       "    .dataframe tbody tr th:only-of-type {\n",
       "        vertical-align: middle;\n",
       "    }\n",
       "\n",
       "    .dataframe tbody tr th {\n",
       "        vertical-align: top;\n",
       "    }\n",
       "\n",
       "    .dataframe thead th {\n",
       "        text-align: right;\n",
       "    }\n",
       "</style>\n",
       "<table border=\"1\" class=\"dataframe\">\n",
       "  <thead>\n",
       "    <tr style=\"text-align: right;\">\n",
       "      <th></th>\n",
       "      <th>ROC_AUC</th>\n",
       "      <th>Accuracy</th>\n",
       "      <th>F1 Score</th>\n",
       "    </tr>\n",
       "  </thead>\n",
       "  <tbody>\n",
       "    <tr>\n",
       "      <th>VotingClassifier</th>\n",
       "      <td>0.889691</td>\n",
       "      <td>0.807383</td>\n",
       "      <td>0.692366</td>\n",
       "    </tr>\n",
       "  </tbody>\n",
       "</table>\n",
       "</div>"
      ],
      "text/plain": [
       "                   ROC_AUC  Accuracy  F1 Score\n",
       "VotingClassifier  0.889691  0.807383  0.692366"
      ]
     },
     "execution_count": 54,
     "metadata": {},
     "output_type": "execute_result"
    }
   ],
   "source": [
    "# 3 models (all the best models for their respective models on the test set)\n",
    "m1 = LogisticRegression(max_iter=10000, random_state=random_state)\n",
    "m2 = RandomForestClassifier(n_estimators=500, max_depth=12,class_weight='balanced', random_state=random_state)\n",
    "m3= CatBoostClassifier(\n",
    "    class_weights=[7, 10],\n",
    "    random_seed=42,\n",
    "    logging_level='Silent',\n",
    "    learning_rate= 0.01, \n",
    "    l2_leaf_reg= 9, \n",
    "    iterations= 500, \n",
    "    depth= 6, \n",
    "    border_count= 50)\n",
    "\n",
    "\n",
    "# initialize\n",
    "voting_classifier = VotingClassifier(\n",
    "    estimators = [('lr', m1), ('rf', m2), ('gb', m3)],\n",
    "    voting='soft'\n",
    ")\n",
    "\n",
    "# train and evaluate model\n",
    "voting_classifier.fit(features_upsampled, target_upsampled)\n",
    "get_scores(voting_classifier, features_test_scaled, target_test, 'VotingClassifier')\n"
   ]
  },
  {
   "cell_type": "markdown",
   "metadata": {},
   "source": [
    "## Model Performance overview"
   ]
  },
  {
   "cell_type": "code",
   "execution_count": 55,
   "metadata": {},
   "outputs": [
    {
     "data": {
      "text/html": [
       "<div>\n",
       "<style scoped>\n",
       "    .dataframe tbody tr th:only-of-type {\n",
       "        vertical-align: middle;\n",
       "    }\n",
       "\n",
       "    .dataframe tbody tr th {\n",
       "        vertical-align: top;\n",
       "    }\n",
       "\n",
       "    .dataframe thead th {\n",
       "        text-align: right;\n",
       "    }\n",
       "</style>\n",
       "<table border=\"1\" class=\"dataframe\">\n",
       "  <thead>\n",
       "    <tr style=\"text-align: right;\">\n",
       "      <th></th>\n",
       "      <th>ROC_AUC</th>\n",
       "      <th>Accuracy</th>\n",
       "      <th>F1 Score</th>\n",
       "    </tr>\n",
       "  </thead>\n",
       "  <tbody>\n",
       "    <tr>\n",
       "      <th>DummyClassifier</th>\n",
       "      <td>0.500000</td>\n",
       "      <td>0.728348</td>\n",
       "      <td>0.000000</td>\n",
       "    </tr>\n",
       "    <tr>\n",
       "      <th>LogisticRegression</th>\n",
       "      <td>0.851872</td>\n",
       "      <td>0.770469</td>\n",
       "      <td>0.642066</td>\n",
       "    </tr>\n",
       "    <tr>\n",
       "      <th>RandomForestClassifier</th>\n",
       "      <td>0.883143</td>\n",
       "      <td>0.826787</td>\n",
       "      <td>0.639053</td>\n",
       "    </tr>\n",
       "    <tr>\n",
       "      <th>CatBoostClassifier</th>\n",
       "      <td>0.902834</td>\n",
       "      <td>0.836252</td>\n",
       "      <td>0.718241</td>\n",
       "    </tr>\n",
       "    <tr>\n",
       "      <th>KNeighborsClassifier</th>\n",
       "      <td>0.864828</td>\n",
       "      <td>0.785613</td>\n",
       "      <td>0.659654</td>\n",
       "    </tr>\n",
       "    <tr>\n",
       "      <th>VotingClassifier</th>\n",
       "      <td>0.889691</td>\n",
       "      <td>0.807383</td>\n",
       "      <td>0.692366</td>\n",
       "    </tr>\n",
       "  </tbody>\n",
       "</table>\n",
       "</div>"
      ],
      "text/plain": [
       "                         ROC_AUC  Accuracy  F1 Score\n",
       "DummyClassifier         0.500000  0.728348  0.000000\n",
       "LogisticRegression      0.851872  0.770469  0.642066\n",
       "RandomForestClassifier  0.883143  0.826787  0.639053\n",
       "CatBoostClassifier      0.902834  0.836252  0.718241\n",
       "KNeighborsClassifier    0.864828  0.785613  0.659654\n",
       "VotingClassifier        0.889691  0.807383  0.692366"
      ]
     },
     "execution_count": 55,
     "metadata": {},
     "output_type": "execute_result"
    }
   ],
   "source": [
    "score_table = pd.concat(scorers)\n",
    "score_table"
   ]
  },
  {
   "cell_type": "code",
   "execution_count": 56,
   "metadata": {},
   "outputs": [
    {
     "data": {
      "image/png": "[encoded data removed]",
      "text/plain": [
       "<Figure size 1000x600 with 2 Axes>"
      ]
     },
     "metadata": {},
     "output_type": "display_data"
    }
   ],
   "source": [
    "# Plotting\n",
    "plt.figure(figsize=(10, 6))\n",
    "sns.heatmap(score_table, annot=True, cmap='YlGnBu', cbar=True, vmin=0.68, vmax=1.0, linewidths=0.5)\n",
    "\n",
    "# Labels and title\n",
    "plt.title('Model Performance Metrics Heatmap')\n",
    "\n",
    "# Show the plot\n",
    "plt.show()\n"
   ]
  },
  {
   "cell_type": "markdown",
   "metadata": {},
   "source": [
    "From the heatmap, we can visually distingush the prefomance of the models on the test set. The CatBoostClassifier preformed the best overall, with the highest scores. 0.9 ROC_AUC score, 0.84 accuracy and 0.72 F1 score. The VotingClassifier which combines the prediction of 3 models (LogisticRegression, RandomForestClassifier and CatBoostClassifier) and the RandomForestClassifier also did well. "
   ]
  },
  {
   "cell_type": "markdown",
   "metadata": {},
   "source": [
    "# Solution Report"
   ]
  },
  {
   "cell_type": "markdown",
   "metadata": {},
   "source": [
    "After the data was cleaned, feature engineering was preformed, categorical values were label encoded. Data was split to train and test sets (4:1), and charges columns were scaled. \n",
    "\n",
    "The get_scores function to make model predictions on the test set and get the metric scores (auc-roc, accuracy and F1 score) was created. A scorer array was used to store the scores for every model that the function was used with. \n",
    "\n",
    "Machine learning models were tuned with the train data set and the the get_scores function as used to get the  performance of the model. Focusing on getting a high auc-roc score. \n",
    "\n",
    "<b> ML models utilized: logistic Regression (LR), Random Forest Classifier (RFC), Cat Boost Classifier (CBC), KNN classifier and a voting Classfier. <b>\n",
    "\n",
    "The voting classifer was not part of the action plan prior to model training. After seeing the performace of the LR, RFC and the CBC, I was curious on how a model that takes the predictions based on a collection of models might perform. This Voting classifier comprised of the LR, RFC and CBC models. \n",
    "\n",
    "The run time for models like RFC and CBC was long due the combination of parameters. After some searching on the internet, I found that parameter tuning with RandomSearchCV would be faster than a GridSearchCV due to the way RandomSearchCV randomly selects parameters to get the highest metric score instead of training on every parameter combination specified in the gird. \n",
    "\n",
    "After model training. The scorer array which consisted of the models and their metrics, was turned in to a dataframe. Using this dataframe heatmap was ploted to vizualize the performace of the models. The darker blue was an indicator of a high auc-roc score. \n",
    "\n",
    "<b> Overall, the CatBoostClassifier had the highest metric scores on the test set with a ROC_AUC of 0.9. Making it a good option for forecasting customers who may be at risk of leaving the company. <b>\n"
   ]
  },
  {
   "cell_type": "markdown",
   "metadata": {},
   "source": [
    "<b> Best performing model scores <b>"
   ]
  },
  {
   "cell_type": "code",
   "execution_count": 57,
   "metadata": {},
   "outputs": [
    {
     "data": {
      "text/html": [
       "<div>\n",
       "<style scoped>\n",
       "    .dataframe tbody tr th:only-of-type {\n",
       "        vertical-align: middle;\n",
       "    }\n",
       "\n",
       "    .dataframe tbody tr th {\n",
       "        vertical-align: top;\n",
       "    }\n",
       "\n",
       "    .dataframe thead th {\n",
       "        text-align: right;\n",
       "    }\n",
       "</style>\n",
       "<table border=\"1\" class=\"dataframe\">\n",
       "  <thead>\n",
       "    <tr style=\"text-align: right;\">\n",
       "      <th></th>\n",
       "      <th>ROC_AUC</th>\n",
       "      <th>Accuracy</th>\n",
       "      <th>F1 Score</th>\n",
       "    </tr>\n",
       "  </thead>\n",
       "  <tbody>\n",
       "    <tr>\n",
       "      <th>CatBoostClassifier</th>\n",
       "      <td>0.902834</td>\n",
       "      <td>0.836252</td>\n",
       "      <td>0.718241</td>\n",
       "    </tr>\n",
       "  </tbody>\n",
       "</table>\n",
       "</div>"
      ],
      "text/plain": [
       "                     ROC_AUC  Accuracy  F1 Score\n",
       "CatBoostClassifier  0.902834  0.836252  0.718241"
      ]
     },
     "execution_count": 57,
     "metadata": {},
     "output_type": "execute_result"
    }
   ],
   "source": [
    "score_table.loc[['CatBoostClassifier']]"
   ]
  },
  {
   "cell_type": "code",
   "execution_count": 58,
   "metadata": {
    "scrolled": true
   },
   "outputs": [
    {
     "name": "stdout",
     "output_type": "stream",
     "text": [
      "CatBoostClassifier model params: {'learning_rate': 0.1, 'l2_leaf_reg': 3, 'iterations': 1000, 'depth': 8}\n"
     ]
    }
   ],
   "source": [
    "print(f'CatBoostClassifier model params: {random_search.best_params_}')"
   ]
  }
 ],
 "metadata": {
  "ExecuteTimeLog": [
   {
    "duration": 307,
    "start_time": "2024-05-17T04:03:30.485Z"
   },
   {
    "duration": 416,
    "start_time": "2024-05-17T04:03:39.766Z"
   },
   {
    "duration": 84,
    "start_time": "2024-05-17T04:03:40.185Z"
   },
   {
    "duration": 33,
    "start_time": "2024-05-17T04:04:00.023Z"
   },
   {
    "duration": 18,
    "start_time": "2024-05-17T04:05:48.528Z"
   },
   {
    "duration": 622,
    "start_time": "2024-05-17T04:07:33.614Z"
   },
   {
    "duration": 4,
    "start_time": "2024-05-17T04:08:44.025Z"
   },
   {
    "duration": 54,
    "start_time": "2024-05-17T04:08:44.510Z"
   },
   {
    "duration": 42,
    "start_time": "2024-05-17T04:08:44.628Z"
   },
   {
    "duration": 37,
    "start_time": "2024-05-17T04:08:44.683Z"
   },
   {
    "duration": 6,
    "start_time": "2024-05-17T04:08:44.767Z"
   },
   {
    "duration": 9,
    "start_time": "2024-05-17T04:08:44.852Z"
   },
   {
    "duration": 4,
    "start_time": "2024-05-17T04:08:44.928Z"
   },
   {
    "duration": 24,
    "start_time": "2024-05-17T04:08:45.009Z"
   },
   {
    "duration": 25,
    "start_time": "2024-05-17T04:08:45.100Z"
   },
   {
    "duration": 8,
    "start_time": "2024-05-17T04:08:45.452Z"
   },
   {
    "duration": 14,
    "start_time": "2024-05-17T04:08:45.689Z"
   },
   {
    "duration": 6,
    "start_time": "2024-05-17T04:08:45.902Z"
   },
   {
    "duration": 6,
    "start_time": "2024-05-17T04:08:46.258Z"
   },
   {
    "duration": 183,
    "start_time": "2024-05-17T04:08:46.504Z"
   },
   {
    "duration": 10,
    "start_time": "2024-05-17T04:08:47.000Z"
   },
   {
    "duration": 9,
    "start_time": "2024-05-17T04:08:47.085Z"
   },
   {
    "duration": 8,
    "start_time": "2024-05-17T04:08:47.182Z"
   },
   {
    "duration": 7,
    "start_time": "2024-05-17T04:08:47.293Z"
   },
   {
    "duration": 21,
    "start_time": "2024-05-17T04:08:47.696Z"
   },
   {
    "duration": 7,
    "start_time": "2024-05-17T04:10:25.367Z"
   },
   {
    "duration": 22,
    "start_time": "2024-05-17T04:10:46.869Z"
   },
   {
    "duration": 24,
    "start_time": "2024-05-17T04:10:51.298Z"
   },
   {
    "duration": 26,
    "start_time": "2024-05-17T04:11:39.327Z"
   },
   {
    "duration": 9,
    "start_time": "2024-05-17T04:11:46.208Z"
   },
   {
    "duration": 8,
    "start_time": "2024-05-17T04:11:53.394Z"
   },
   {
    "duration": 8,
    "start_time": "2024-05-17T04:12:06.221Z"
   },
   {
    "duration": 30,
    "start_time": "2024-05-17T04:12:17.841Z"
   },
   {
    "duration": 959,
    "start_time": "2024-05-17T04:12:43.068Z"
   },
   {
    "duration": 49,
    "start_time": "2024-05-17T04:13:36.184Z"
   },
   {
    "duration": 46,
    "start_time": "2024-05-17T04:13:43.700Z"
   },
   {
    "duration": 183,
    "start_time": "2024-05-17T04:16:34.026Z"
   },
   {
    "duration": 36,
    "start_time": "2024-05-17T04:17:48.936Z"
   },
   {
    "duration": 34,
    "start_time": "2024-05-17T04:17:57.220Z"
   },
   {
    "duration": 19,
    "start_time": "2024-05-17T04:18:09.080Z"
   },
   {
    "duration": 8,
    "start_time": "2024-05-17T04:19:00.501Z"
   },
   {
    "duration": 14,
    "start_time": "2024-05-17T04:19:07.481Z"
   },
   {
    "duration": 11,
    "start_time": "2024-05-17T04:19:21.570Z"
   },
   {
    "duration": 11,
    "start_time": "2024-05-17T04:19:31.565Z"
   },
   {
    "duration": 996,
    "start_time": "2024-05-17T04:20:15.704Z"
   },
   {
    "duration": 65,
    "start_time": "2024-05-17T04:20:37.485Z"
   },
   {
    "duration": 4,
    "start_time": "2024-05-17T04:21:01.137Z"
   },
   {
    "duration": 6,
    "start_time": "2024-05-17T04:21:20.857Z"
   },
   {
    "duration": 24,
    "start_time": "2024-05-17T04:21:35.252Z"
   },
   {
    "duration": 8,
    "start_time": "2024-05-17T04:21:41.149Z"
   },
   {
    "duration": 26,
    "start_time": "2024-05-17T04:21:44.807Z"
   },
   {
    "duration": 24,
    "start_time": "2024-05-17T04:23:43.652Z"
   },
   {
    "duration": 46,
    "start_time": "2024-05-17T04:24:11.915Z"
   },
   {
    "duration": 8,
    "start_time": "2024-05-17T04:24:30.114Z"
   },
   {
    "duration": 5,
    "start_time": "2024-05-17T04:24:35.049Z"
   },
   {
    "duration": 6,
    "start_time": "2024-05-17T04:24:39.151Z"
   },
   {
    "duration": 6,
    "start_time": "2024-05-17T04:24:43.662Z"
   },
   {
    "duration": 8,
    "start_time": "2024-05-17T04:24:55.006Z"
   },
   {
    "duration": 8,
    "start_time": "2024-05-17T04:25:05.898Z"
   },
   {
    "duration": 5,
    "start_time": "2024-05-17T04:25:07.930Z"
   },
   {
    "duration": 5,
    "start_time": "2024-05-17T04:25:10.138Z"
   },
   {
    "duration": 6,
    "start_time": "2024-05-17T04:25:19.181Z"
   },
   {
    "duration": 6,
    "start_time": "2024-05-17T04:25:19.707Z"
   },
   {
    "duration": 6,
    "start_time": "2024-05-17T04:25:27.307Z"
   },
   {
    "duration": 9,
    "start_time": "2024-05-17T04:25:56.102Z"
   },
   {
    "duration": 24,
    "start_time": "2024-05-17T04:26:08.018Z"
   },
   {
    "duration": 23,
    "start_time": "2024-05-17T04:26:13.505Z"
   },
   {
    "duration": 6,
    "start_time": "2024-05-17T04:26:15.704Z"
   },
   {
    "duration": 22,
    "start_time": "2024-05-17T04:31:56.587Z"
   },
   {
    "duration": 334,
    "start_time": "2024-05-17T04:32:03.598Z"
   },
   {
    "duration": 103,
    "start_time": "2024-05-17T04:32:04.013Z"
   },
   {
    "duration": 271,
    "start_time": "2024-05-17T04:32:21.354Z"
   },
   {
    "duration": 24,
    "start_time": "2024-05-17T04:32:25.749Z"
   },
   {
    "duration": 254,
    "start_time": "2024-05-17T04:35:45.464Z"
   },
   {
    "duration": 3,
    "start_time": "2024-05-17T04:38:01.952Z"
   },
   {
    "duration": 52,
    "start_time": "2024-05-17T04:38:02.451Z"
   },
   {
    "duration": 40,
    "start_time": "2024-05-17T04:38:02.552Z"
   },
   {
    "duration": 33,
    "start_time": "2024-05-17T04:38:02.622Z"
   },
   {
    "duration": 6,
    "start_time": "2024-05-17T04:38:02.703Z"
   },
   {
    "duration": 9,
    "start_time": "2024-05-17T04:38:02.795Z"
   },
   {
    "duration": 4,
    "start_time": "2024-05-17T04:38:02.865Z"
   },
   {
    "duration": 16,
    "start_time": "2024-05-17T04:38:02.978Z"
   },
   {
    "duration": 24,
    "start_time": "2024-05-17T04:38:03.042Z"
   },
   {
    "duration": 7,
    "start_time": "2024-05-17T04:38:03.187Z"
   },
   {
    "duration": 14,
    "start_time": "2024-05-17T04:38:03.212Z"
   },
   {
    "duration": 4,
    "start_time": "2024-05-17T04:38:03.289Z"
   },
   {
    "duration": 6,
    "start_time": "2024-05-17T04:38:03.378Z"
   },
   {
    "duration": 179,
    "start_time": "2024-05-17T04:38:03.449Z"
   },
   {
    "duration": 10,
    "start_time": "2024-05-17T04:38:03.631Z"
   },
   {
    "duration": 9,
    "start_time": "2024-05-17T04:38:03.643Z"
   },
   {
    "duration": 7,
    "start_time": "2024-05-17T04:38:03.697Z"
   },
   {
    "duration": 7,
    "start_time": "2024-05-17T04:38:03.796Z"
   },
   {
    "duration": 20,
    "start_time": "2024-05-17T04:38:04.191Z"
   },
   {
    "duration": 8,
    "start_time": "2024-05-17T04:38:04.428Z"
   },
   {
    "duration": 28,
    "start_time": "2024-05-17T04:38:04.700Z"
   },
   {
    "duration": 36,
    "start_time": "2024-05-17T04:38:04.875Z"
   },
   {
    "duration": 4,
    "start_time": "2024-05-17T04:38:05.172Z"
   },
   {
    "duration": 11,
    "start_time": "2024-05-17T04:38:09.840Z"
   },
   {
    "duration": 6,
    "start_time": "2024-05-17T04:38:13.620Z"
   },
   {
    "duration": 8,
    "start_time": "2024-05-17T04:38:21.190Z"
   },
   {
    "duration": 17,
    "start_time": "2024-05-17T04:38:43.658Z"
   },
   {
    "duration": 29,
    "start_time": "2024-05-17T04:38:59.974Z"
   },
   {
    "duration": 6,
    "start_time": "2024-05-17T04:39:03.864Z"
   },
   {
    "duration": 9,
    "start_time": "2024-05-17T04:39:13.915Z"
   },
   {
    "duration": 24,
    "start_time": "2024-05-17T04:50:06.014Z"
   },
   {
    "duration": 146,
    "start_time": "2024-05-17T04:50:15.782Z"
   },
   {
    "duration": 8,
    "start_time": "2024-05-17T04:50:21.016Z"
   },
   {
    "duration": 106,
    "start_time": "2024-05-17T04:51:40.670Z"
   },
   {
    "duration": 32,
    "start_time": "2024-05-17T04:54:24.793Z"
   },
   {
    "duration": 8,
    "start_time": "2024-05-17T04:56:34.394Z"
   },
   {
    "duration": 17,
    "start_time": "2024-05-17T04:56:37.310Z"
   },
   {
    "duration": 26,
    "start_time": "2024-05-17T04:56:40.611Z"
   },
   {
    "duration": 14210,
    "start_time": "2024-05-17T04:57:48.303Z"
   },
   {
    "duration": 11,
    "start_time": "2024-05-17T04:59:07.956Z"
   },
   {
    "duration": 14534,
    "start_time": "2024-05-17T04:59:08.894Z"
   },
   {
    "duration": 14475,
    "start_time": "2024-05-17T05:00:10.161Z"
   },
   {
    "duration": 14349,
    "start_time": "2024-05-17T05:05:34.287Z"
   },
   {
    "duration": 29061,
    "start_time": "2024-05-17T05:09:39.396Z"
   },
   {
    "duration": 0,
    "start_time": "2024-05-17T05:10:08.461Z"
   },
   {
    "duration": 9,
    "start_time": "2024-05-17T05:10:10.468Z"
   },
   {
    "duration": 14786,
    "start_time": "2024-05-17T05:10:24.439Z"
   },
   {
    "duration": 23,
    "start_time": "2024-05-17T05:11:52.644Z"
   },
   {
    "duration": 44,
    "start_time": "2024-05-17T05:12:26.983Z"
   },
   {
    "duration": 41,
    "start_time": "2024-05-17T05:13:05.448Z"
   },
   {
    "duration": 8,
    "start_time": "2024-05-17T05:13:30.773Z"
   },
   {
    "duration": 17,
    "start_time": "2024-05-17T05:13:33.174Z"
   },
   {
    "duration": 45,
    "start_time": "2024-05-17T05:13:33.671Z"
   },
   {
    "duration": 9,
    "start_time": "2024-05-17T05:13:33.810Z"
   },
   {
    "duration": 11,
    "start_time": "2024-05-17T05:13:33.853Z"
   },
   {
    "duration": 13514,
    "start_time": "2024-05-17T05:13:33.932Z"
   },
   {
    "duration": 173,
    "start_time": "2024-05-17T05:13:47.454Z"
   },
   {
    "duration": 131887,
    "start_time": "2024-05-17T05:14:29.831Z"
   },
   {
    "duration": 111,
    "start_time": "2024-05-17T05:16:41.725Z"
   },
   {
    "duration": 848,
    "start_time": "2024-05-17T05:16:41.839Z"
   },
   {
    "duration": 16860,
    "start_time": "2024-05-17T05:18:22.691Z"
   },
   {
    "duration": 16905,
    "start_time": "2024-05-17T05:19:04.359Z"
   },
   {
    "duration": 1777169,
    "start_time": "2024-05-17T05:21:19.183Z"
   },
   {
    "duration": 0,
    "start_time": "2024-05-17T05:50:56.356Z"
   },
   {
    "duration": 758,
    "start_time": "2024-05-17T05:50:59.581Z"
   },
   {
    "duration": 2034316,
    "start_time": "2024-05-17T05:51:03.417Z"
   },
   {
    "duration": 43,
    "start_time": "2024-05-17T06:48:03.000Z"
   },
   {
    "duration": 59052,
    "start_time": "2024-05-17T06:48:15.472Z"
   },
   {
    "duration": 99801,
    "start_time": "2024-05-17T06:51:12.051Z"
   },
   {
    "duration": 2077820,
    "start_time": "2024-05-17T07:05:15.822Z"
   },
   {
    "duration": 125438,
    "start_time": "2024-05-17T07:39:53.646Z"
   },
   {
    "duration": 304,
    "start_time": "2024-05-17T19:29:45.002Z"
   },
   {
    "duration": 449,
    "start_time": "2024-05-17T19:30:42.424Z"
   },
   {
    "duration": 90,
    "start_time": "2024-05-17T19:30:42.876Z"
   },
   {
    "duration": 44,
    "start_time": "2024-05-17T19:30:43.018Z"
   },
   {
    "duration": 33,
    "start_time": "2024-05-17T19:30:43.282Z"
   },
   {
    "duration": 6,
    "start_time": "2024-05-17T19:30:43.509Z"
   },
   {
    "duration": 8,
    "start_time": "2024-05-17T19:30:43.729Z"
   },
   {
    "duration": 6,
    "start_time": "2024-05-17T19:30:43.968Z"
   },
   {
    "duration": 18,
    "start_time": "2024-05-17T19:30:44.185Z"
   },
   {
    "duration": 25,
    "start_time": "2024-05-17T19:30:44.423Z"
   },
   {
    "duration": 8,
    "start_time": "2024-05-17T19:30:44.644Z"
   },
   {
    "duration": 14,
    "start_time": "2024-05-17T19:30:45.031Z"
   },
   {
    "duration": 6,
    "start_time": "2024-05-17T19:30:45.288Z"
   },
   {
    "duration": 6,
    "start_time": "2024-05-17T19:30:45.786Z"
   },
   {
    "duration": 178,
    "start_time": "2024-05-17T19:30:46.029Z"
   },
   {
    "duration": 9,
    "start_time": "2024-05-17T19:30:46.611Z"
   },
   {
    "duration": 9,
    "start_time": "2024-05-17T19:30:46.919Z"
   },
   {
    "duration": 7,
    "start_time": "2024-05-17T19:30:47.290Z"
   },
   {
    "duration": 10,
    "start_time": "2024-05-17T19:30:47.690Z"
   },
   {
    "duration": 17,
    "start_time": "2024-05-17T19:30:48.339Z"
   },
   {
    "duration": 8,
    "start_time": "2024-05-17T19:30:51.508Z"
   },
   {
    "duration": 27,
    "start_time": "2024-05-17T19:30:52.592Z"
   },
   {
    "duration": 743,
    "start_time": "2024-05-17T19:30:54.393Z"
   },
   {
    "duration": 4,
    "start_time": "2024-05-17T19:31:01.440Z"
   },
   {
    "duration": 11,
    "start_time": "2024-05-17T19:31:02.510Z"
   },
   {
    "duration": 6,
    "start_time": "2024-05-17T19:31:04.617Z"
   },
   {
    "duration": 24,
    "start_time": "2024-05-17T19:31:04.992Z"
   },
   {
    "duration": 19,
    "start_time": "2024-05-17T19:31:09.845Z"
   },
   {
    "duration": 71,
    "start_time": "2024-05-17T19:31:12.731Z"
   },
   {
    "duration": 10,
    "start_time": "2024-05-17T19:31:15.967Z"
   },
   {
    "duration": 28,
    "start_time": "2024-05-17T19:31:35.503Z"
   },
   {
    "duration": 9,
    "start_time": "2024-05-17T19:31:35.844Z"
   },
   {
    "duration": 3,
    "start_time": "2024-05-17T19:31:36.928Z"
   },
   {
    "duration": 9,
    "start_time": "2024-05-17T19:31:43.189Z"
   },
   {
    "duration": 45,
    "start_time": "2024-05-17T19:32:13.340Z"
   },
   {
    "duration": 36,
    "start_time": "2024-05-17T19:32:21.382Z"
   },
   {
    "duration": 8269,
    "start_time": "2024-05-17T19:32:39.943Z"
   },
   {
    "duration": 3,
    "start_time": "2024-05-17T19:33:21.798Z"
   },
   {
    "duration": 130,
    "start_time": "2024-05-17T19:33:39.140Z"
   },
   {
    "duration": 724,
    "start_time": "2024-05-17T19:33:48.393Z"
   },
   {
    "duration": 1155994,
    "start_time": "2024-05-17T19:33:51.517Z"
   },
   {
    "duration": 4574159,
    "start_time": "2024-05-17T19:53:07.514Z"
   },
   {
    "duration": 46,
    "start_time": "2024-05-17T21:09:21.677Z"
   },
   {
    "duration": 8,
    "start_time": "2024-05-17T21:09:21.727Z"
   },
   {
    "duration": 283,
    "start_time": "2024-05-17T21:09:21.739Z"
   },
   {
    "duration": 452,
    "start_time": "2024-05-19T05:13:50.076Z"
   },
   {
    "duration": 70,
    "start_time": "2024-05-19T05:13:50.531Z"
   },
   {
    "duration": 46,
    "start_time": "2024-05-19T05:13:51.115Z"
   },
   {
    "duration": 33,
    "start_time": "2024-05-19T05:13:51.624Z"
   },
   {
    "duration": 6,
    "start_time": "2024-05-19T05:13:51.851Z"
   },
   {
    "duration": 8,
    "start_time": "2024-05-19T05:13:52.149Z"
   },
   {
    "duration": 4,
    "start_time": "2024-05-19T05:13:52.280Z"
   },
   {
    "duration": 16,
    "start_time": "2024-05-19T05:13:52.431Z"
   },
   {
    "duration": 28,
    "start_time": "2024-05-19T05:13:52.672Z"
   },
   {
    "duration": 10,
    "start_time": "2024-05-19T05:13:52.834Z"
   },
   {
    "duration": 15,
    "start_time": "2024-05-19T05:13:53.196Z"
   },
   {
    "duration": 6,
    "start_time": "2024-05-19T05:13:53.398Z"
   },
   {
    "duration": 6,
    "start_time": "2024-05-19T05:13:53.918Z"
   },
   {
    "duration": 208,
    "start_time": "2024-05-19T05:13:53.928Z"
   },
   {
    "duration": 12,
    "start_time": "2024-05-19T05:13:54.140Z"
   },
   {
    "duration": 7,
    "start_time": "2024-05-19T05:13:54.443Z"
   },
   {
    "duration": 10,
    "start_time": "2024-05-19T05:13:54.545Z"
   },
   {
    "duration": 7,
    "start_time": "2024-05-19T05:13:54.669Z"
   },
   {
    "duration": 17,
    "start_time": "2024-05-19T05:13:54.846Z"
   },
   {
    "duration": 8,
    "start_time": "2024-05-19T05:13:55.102Z"
   },
   {
    "duration": 26,
    "start_time": "2024-05-19T05:13:55.450Z"
   },
   {
    "duration": 840,
    "start_time": "2024-05-19T05:13:55.874Z"
   },
   {
    "duration": 4,
    "start_time": "2024-05-19T05:13:56.718Z"
   },
   {
    "duration": 14,
    "start_time": "2024-05-19T05:13:57.531Z"
   },
   {
    "duration": 7,
    "start_time": "2024-05-19T05:14:00.267Z"
   },
   {
    "duration": 32,
    "start_time": "2024-05-19T05:14:03.185Z"
   },
   {
    "duration": 19,
    "start_time": "2024-05-19T05:14:06.100Z"
   },
   {
    "duration": 59,
    "start_time": "2024-05-19T05:14:09.007Z"
   },
   {
    "duration": 6,
    "start_time": "2024-05-19T05:14:19.369Z"
   },
   {
    "duration": 678,
    "start_time": "2024-05-19T05:14:26.179Z"
   },
   {
    "duration": 24,
    "start_time": "2024-05-19T05:14:59.256Z"
   },
   {
    "duration": 26,
    "start_time": "2024-05-19T05:15:09.831Z"
   },
   {
    "duration": 31,
    "start_time": "2024-05-19T05:15:40.579Z"
   },
   {
    "duration": 25,
    "start_time": "2024-05-19T05:15:48.240Z"
   },
   {
    "duration": 28,
    "start_time": "2024-05-19T05:16:11.110Z"
   },
   {
    "duration": 5,
    "start_time": "2024-05-19T05:16:21.621Z"
   },
   {
    "duration": 36,
    "start_time": "2024-05-19T05:16:24.618Z"
   },
   {
    "duration": 33,
    "start_time": "2024-05-19T05:16:28.424Z"
   },
   {
    "duration": 105,
    "start_time": "2024-05-19T05:17:03.577Z"
   },
   {
    "duration": 8,
    "start_time": "2024-05-19T05:18:12.525Z"
   },
   {
    "duration": 11,
    "start_time": "2024-05-19T05:18:28.350Z"
   },
   {
    "duration": 7,
    "start_time": "2024-05-19T05:19:18.100Z"
   },
   {
    "duration": 25,
    "start_time": "2024-05-19T05:20:09.656Z"
   },
   {
    "duration": 8,
    "start_time": "2024-05-19T05:22:13.634Z"
   },
   {
    "duration": 6,
    "start_time": "2024-05-19T05:22:19.832Z"
   },
   {
    "duration": 8,
    "start_time": "2024-05-19T05:24:36.726Z"
   },
   {
    "duration": 25,
    "start_time": "2024-05-19T05:24:40.857Z"
   },
   {
    "duration": 25,
    "start_time": "2024-05-19T05:24:47.572Z"
   },
   {
    "duration": 4,
    "start_time": "2024-05-19T05:24:54.554Z"
   },
   {
    "duration": 58,
    "start_time": "2024-05-19T05:24:55.045Z"
   },
   {
    "duration": 48,
    "start_time": "2024-05-19T05:24:55.130Z"
   },
   {
    "duration": 42,
    "start_time": "2024-05-19T05:24:55.237Z"
   },
   {
    "duration": 20,
    "start_time": "2024-05-19T05:24:55.303Z"
   },
   {
    "duration": 10,
    "start_time": "2024-05-19T05:24:55.382Z"
   },
   {
    "duration": 5,
    "start_time": "2024-05-19T05:24:55.469Z"
   },
   {
    "duration": 20,
    "start_time": "2024-05-19T05:24:55.571Z"
   },
   {
    "duration": 30,
    "start_time": "2024-05-19T05:24:55.699Z"
   },
   {
    "duration": 8,
    "start_time": "2024-05-19T05:24:55.736Z"
   },
   {
    "duration": 15,
    "start_time": "2024-05-19T05:24:55.810Z"
   },
   {
    "duration": 5,
    "start_time": "2024-05-19T05:24:55.891Z"
   },
   {
    "duration": 10,
    "start_time": "2024-05-19T05:24:56.205Z"
   },
   {
    "duration": 213,
    "start_time": "2024-05-19T05:24:56.541Z"
   },
   {
    "duration": 9,
    "start_time": "2024-05-19T05:24:56.839Z"
   },
   {
    "duration": 8,
    "start_time": "2024-05-19T05:24:57.308Z"
   },
   {
    "duration": 8,
    "start_time": "2024-05-19T05:24:57.646Z"
   },
   {
    "duration": 7,
    "start_time": "2024-05-19T05:24:57.927Z"
   },
   {
    "duration": 31,
    "start_time": "2024-05-19T05:24:58.210Z"
   },
   {
    "duration": 10,
    "start_time": "2024-05-19T05:24:58.572Z"
   },
   {
    "duration": 27,
    "start_time": "2024-05-19T05:24:59.041Z"
   },
   {
    "duration": 37,
    "start_time": "2024-05-19T05:24:59.905Z"
   },
   {
    "duration": 4,
    "start_time": "2024-05-19T05:25:01.054Z"
   },
   {
    "duration": 11,
    "start_time": "2024-05-19T05:25:02.088Z"
   },
   {
    "duration": 6,
    "start_time": "2024-05-19T05:25:03.143Z"
   },
   {
    "duration": 8,
    "start_time": "2024-05-19T05:25:04.722Z"
   },
   {
    "duration": 17,
    "start_time": "2024-05-19T05:25:04.993Z"
   },
   {
    "duration": 6,
    "start_time": "2024-05-19T05:25:05.300Z"
   },
   {
    "duration": 4,
    "start_time": "2024-05-19T05:25:34.866Z"
   },
   {
    "duration": 37,
    "start_time": "2024-05-19T05:26:07.277Z"
   },
   {
    "duration": 12,
    "start_time": "2024-05-19T05:26:10.606Z"
   },
   {
    "duration": 715,
    "start_time": "2024-05-19T05:26:51.424Z"
   },
   {
    "duration": 29,
    "start_time": "2024-05-19T05:27:04.432Z"
   },
   {
    "duration": 33,
    "start_time": "2024-05-19T05:27:17.248Z"
   },
   {
    "duration": 28,
    "start_time": "2024-05-19T05:28:54.222Z"
   },
   {
    "duration": 5,
    "start_time": "2024-05-19T05:28:58.779Z"
   },
   {
    "duration": 7,
    "start_time": "2024-05-19T05:29:11.959Z"
   },
   {
    "duration": 6,
    "start_time": "2024-05-19T05:29:23.053Z"
   },
   {
    "duration": 5,
    "start_time": "2024-05-19T05:29:34.760Z"
   },
   {
    "duration": 8,
    "start_time": "2024-05-19T05:29:35.676Z"
   },
   {
    "duration": 17,
    "start_time": "2024-05-19T05:29:36.135Z"
   },
   {
    "duration": 7,
    "start_time": "2024-05-19T05:29:43.173Z"
   },
   {
    "duration": 7,
    "start_time": "2024-05-19T05:29:52.923Z"
   },
   {
    "duration": 6,
    "start_time": "2024-05-19T05:30:01.013Z"
   },
   {
    "duration": 30,
    "start_time": "2024-05-19T05:30:11.974Z"
   },
   {
    "duration": 22,
    "start_time": "2024-05-19T05:30:19.646Z"
   },
   {
    "duration": 5,
    "start_time": "2024-05-19T05:30:25.013Z"
   },
   {
    "duration": 5,
    "start_time": "2024-05-19T05:30:25.614Z"
   },
   {
    "duration": 28,
    "start_time": "2024-05-19T05:31:01.760Z"
   },
   {
    "duration": 8,
    "start_time": "2024-05-19T05:31:06.826Z"
   },
   {
    "duration": 6,
    "start_time": "2024-05-19T05:31:07.607Z"
   },
   {
    "duration": 7,
    "start_time": "2024-05-19T05:31:08.373Z"
   },
   {
    "duration": 16,
    "start_time": "2024-05-19T05:31:08.821Z"
   },
   {
    "duration": 4,
    "start_time": "2024-05-19T05:31:09.497Z"
   },
   {
    "duration": 7,
    "start_time": "2024-05-19T05:31:10.500Z"
   },
   {
    "duration": 46,
    "start_time": "2024-05-19T05:31:10.933Z"
   },
   {
    "duration": 11,
    "start_time": "2024-05-19T05:31:14.019Z"
   },
   {
    "duration": 8,
    "start_time": "2024-05-19T05:32:40.432Z"
   },
   {
    "duration": 6,
    "start_time": "2024-05-19T05:32:41.738Z"
   },
   {
    "duration": 499,
    "start_time": "2024-05-19T05:32:44.442Z"
   },
   {
    "duration": 31,
    "start_time": "2024-05-19T05:32:56.717Z"
   },
   {
    "duration": 9,
    "start_time": "2024-05-19T05:33:14.911Z"
   },
   {
    "duration": 6,
    "start_time": "2024-05-19T05:33:38.198Z"
   },
   {
    "duration": 29,
    "start_time": "2024-05-19T05:33:41.982Z"
   },
   {
    "duration": 3,
    "start_time": "2024-05-19T05:33:48.237Z"
   },
   {
    "duration": 30,
    "start_time": "2024-05-19T05:33:48.634Z"
   },
   {
    "duration": 4,
    "start_time": "2024-05-19T05:33:55.302Z"
   },
   {
    "duration": 8,
    "start_time": "2024-05-19T05:33:55.609Z"
   },
   {
    "duration": 7,
    "start_time": "2024-05-19T05:33:56.012Z"
   },
   {
    "duration": 8,
    "start_time": "2024-05-19T05:33:57.294Z"
   },
   {
    "duration": 18,
    "start_time": "2024-05-19T05:33:58.977Z"
   },
   {
    "duration": 27,
    "start_time": "2024-05-19T05:34:12.090Z"
   },
   {
    "duration": 23,
    "start_time": "2024-05-19T05:34:14.555Z"
   },
   {
    "duration": 11,
    "start_time": "2024-05-19T05:34:22.332Z"
   },
   {
    "duration": 11,
    "start_time": "2024-05-19T05:34:24.787Z"
   },
   {
    "duration": 11,
    "start_time": "2024-05-19T05:34:32.164Z"
   },
   {
    "duration": 10,
    "start_time": "2024-05-19T05:34:40.383Z"
   },
   {
    "duration": 26,
    "start_time": "2024-05-19T05:35:05.166Z"
   },
   {
    "duration": 17,
    "start_time": "2024-05-19T05:35:11.229Z"
   },
   {
    "duration": 6,
    "start_time": "2024-05-19T05:35:15.434Z"
   },
   {
    "duration": 4,
    "start_time": "2024-05-19T05:35:20.909Z"
   },
   {
    "duration": 29,
    "start_time": "2024-05-19T05:35:23.422Z"
   },
   {
    "duration": 7,
    "start_time": "2024-05-19T05:35:42.473Z"
   },
   {
    "duration": 14,
    "start_time": "2024-05-19T05:35:45.472Z"
   },
   {
    "duration": 8,
    "start_time": "2024-05-19T05:35:54.061Z"
   },
   {
    "duration": 5,
    "start_time": "2024-05-19T05:36:52.199Z"
   },
   {
    "duration": 5,
    "start_time": "2024-05-19T05:37:04.594Z"
   },
   {
    "duration": 4,
    "start_time": "2024-05-19T05:37:12.533Z"
   },
   {
    "duration": 29,
    "start_time": "2024-05-19T05:37:12.885Z"
   },
   {
    "duration": 44,
    "start_time": "2024-05-19T05:37:17.310Z"
   },
   {
    "duration": 254,
    "start_time": "2024-05-19T05:37:19.228Z"
   },
   {
    "duration": 5,
    "start_time": "2024-05-19T05:37:54.788Z"
   },
   {
    "duration": 9,
    "start_time": "2024-05-19T05:37:58.280Z"
   },
   {
    "duration": 5,
    "start_time": "2024-05-19T05:38:07.318Z"
   },
   {
    "duration": 6,
    "start_time": "2024-05-19T05:38:14.263Z"
   },
   {
    "duration": 5,
    "start_time": "2024-05-19T05:38:24.102Z"
   },
   {
    "duration": 128,
    "start_time": "2024-05-19T05:38:33.597Z"
   },
   {
    "duration": 6,
    "start_time": "2024-05-19T05:38:43.514Z"
   },
   {
    "duration": 8,
    "start_time": "2024-05-19T05:38:53.702Z"
   },
   {
    "duration": 9,
    "start_time": "2024-05-19T05:38:53.942Z"
   },
   {
    "duration": 9,
    "start_time": "2024-05-19T05:38:54.169Z"
   },
   {
    "duration": 7,
    "start_time": "2024-05-19T05:38:54.426Z"
   },
   {
    "duration": 4,
    "start_time": "2024-05-19T05:38:54.628Z"
   },
   {
    "duration": 24,
    "start_time": "2024-05-19T05:38:55.515Z"
   },
   {
    "duration": 17,
    "start_time": "2024-05-19T05:38:55.975Z"
   },
   {
    "duration": 7,
    "start_time": "2024-05-19T05:38:56.482Z"
   },
   {
    "duration": 6,
    "start_time": "2024-05-19T05:38:57.017Z"
   },
   {
    "duration": 32,
    "start_time": "2024-05-19T05:38:57.921Z"
   },
   {
    "duration": 5,
    "start_time": "2024-05-19T05:39:00.319Z"
   },
   {
    "duration": 6,
    "start_time": "2024-05-19T05:39:00.695Z"
   },
   {
    "duration": 42,
    "start_time": "2024-05-19T05:39:01.094Z"
   },
   {
    "duration": 9,
    "start_time": "2024-05-19T05:39:01.946Z"
   },
   {
    "duration": 117,
    "start_time": "2024-05-19T05:39:08.392Z"
   },
   {
    "duration": 46,
    "start_time": "2024-05-19T05:39:19.279Z"
   },
   {
    "duration": 53,
    "start_time": "2024-05-19T05:39:22.942Z"
   },
   {
    "duration": 53,
    "start_time": "2024-05-19T05:39:25.720Z"
   },
   {
    "duration": 63,
    "start_time": "2024-05-19T05:39:35.789Z"
   },
   {
    "duration": 74,
    "start_time": "2024-05-19T05:39:38.839Z"
   },
   {
    "duration": 76,
    "start_time": "2024-05-19T05:39:41.577Z"
   },
   {
    "duration": 107,
    "start_time": "2024-05-19T05:39:43.994Z"
   },
   {
    "duration": 130,
    "start_time": "2024-05-19T05:39:49.332Z"
   },
   {
    "duration": 194,
    "start_time": "2024-05-19T05:39:52.407Z"
   },
   {
    "duration": 186,
    "start_time": "2024-05-19T05:39:55.067Z"
   },
   {
    "duration": 296,
    "start_time": "2024-05-19T05:39:58.950Z"
   },
   {
    "duration": 58,
    "start_time": "2024-05-19T05:40:02.446Z"
   },
   {
    "duration": 55,
    "start_time": "2024-05-19T05:40:04.455Z"
   },
   {
    "duration": 66,
    "start_time": "2024-05-19T05:40:07.159Z"
   },
   {
    "duration": 71,
    "start_time": "2024-05-19T05:40:09.774Z"
   },
   {
    "duration": 50,
    "start_time": "2024-05-19T05:40:12.783Z"
   },
   {
    "duration": 65,
    "start_time": "2024-05-19T05:40:14.950Z"
   },
   {
    "duration": 73,
    "start_time": "2024-05-19T05:40:20.979Z"
   },
   {
    "duration": 70,
    "start_time": "2024-05-19T05:40:24.683Z"
   },
   {
    "duration": 62,
    "start_time": "2024-05-19T05:40:32.344Z"
   },
   {
    "duration": 67,
    "start_time": "2024-05-19T05:40:37.339Z"
   },
   {
    "duration": 56,
    "start_time": "2024-05-19T05:40:40.211Z"
   },
   {
    "duration": 19389,
    "start_time": "2024-05-19T05:41:48.522Z"
   },
   {
    "duration": 76,
    "start_time": "2024-05-19T05:42:33.167Z"
   },
   {
    "duration": 53,
    "start_time": "2024-05-19T05:42:50.431Z"
   },
   {
    "duration": 12952,
    "start_time": "2024-05-19T05:43:40.467Z"
   },
   {
    "duration": 60,
    "start_time": "2024-05-19T05:45:04.967Z"
   },
   {
    "duration": 992,
    "start_time": "2024-05-19T05:51:14.172Z"
   },
   {
    "duration": 6,
    "start_time": "2024-05-19T05:51:55.309Z"
   },
   {
    "duration": 4,
    "start_time": "2024-05-19T05:54:18.682Z"
   },
   {
    "duration": 59,
    "start_time": "2024-05-19T05:54:19.132Z"
   },
   {
    "duration": 50,
    "start_time": "2024-05-19T05:54:19.969Z"
   },
   {
    "duration": 40,
    "start_time": "2024-05-19T05:54:20.818Z"
   },
   {
    "duration": 6,
    "start_time": "2024-05-19T05:54:21.499Z"
   },
   {
    "duration": 8,
    "start_time": "2024-05-19T05:54:22.008Z"
   },
   {
    "duration": 4,
    "start_time": "2024-05-19T05:54:22.472Z"
   },
   {
    "duration": 17,
    "start_time": "2024-05-19T05:54:23.016Z"
   },
   {
    "duration": 28,
    "start_time": "2024-05-19T05:54:23.445Z"
   },
   {
    "duration": 10,
    "start_time": "2024-05-19T05:54:23.737Z"
   },
   {
    "duration": 15,
    "start_time": "2024-05-19T05:54:24.040Z"
   },
   {
    "duration": 6,
    "start_time": "2024-05-19T05:54:24.297Z"
   },
   {
    "duration": 6,
    "start_time": "2024-05-19T05:54:24.932Z"
   },
   {
    "duration": 291,
    "start_time": "2024-05-19T05:54:25.381Z"
   },
   {
    "duration": 13,
    "start_time": "2024-05-19T05:54:25.749Z"
   },
   {
    "duration": 10,
    "start_time": "2024-05-19T05:54:26.247Z"
   },
   {
    "duration": 9,
    "start_time": "2024-05-19T05:54:26.569Z"
   },
   {
    "duration": 6,
    "start_time": "2024-05-19T05:54:26.752Z"
   },
   {
    "duration": 29,
    "start_time": "2024-05-19T05:54:27.019Z"
   },
   {
    "duration": 10,
    "start_time": "2024-05-19T05:54:27.336Z"
   },
   {
    "duration": 31,
    "start_time": "2024-05-19T05:54:27.618Z"
   },
   {
    "duration": 37,
    "start_time": "2024-05-19T05:54:27.905Z"
   },
   {
    "duration": 3,
    "start_time": "2024-05-19T05:54:28.182Z"
   },
   {
    "duration": 16,
    "start_time": "2024-05-19T05:54:29.129Z"
   },
   {
    "duration": 6,
    "start_time": "2024-05-19T05:54:30.506Z"
   },
   {
    "duration": 10,
    "start_time": "2024-05-19T05:54:30.737Z"
   },
   {
    "duration": 10,
    "start_time": "2024-05-19T05:54:30.998Z"
   },
   {
    "duration": 7,
    "start_time": "2024-05-19T05:54:31.276Z"
   },
   {
    "duration": 7,
    "start_time": "2024-05-19T05:54:32.069Z"
   },
   {
    "duration": 25,
    "start_time": "2024-05-19T05:54:32.951Z"
   },
   {
    "duration": 17,
    "start_time": "2024-05-19T05:54:33.363Z"
   },
   {
    "duration": 9,
    "start_time": "2024-05-19T05:54:35.458Z"
   },
   {
    "duration": 4,
    "start_time": "2024-05-19T05:54:35.753Z"
   },
   {
    "duration": 34,
    "start_time": "2024-05-19T05:54:36.090Z"
   },
   {
    "duration": 6,
    "start_time": "2024-05-19T05:54:36.735Z"
   },
   {
    "duration": 5,
    "start_time": "2024-05-19T05:54:37.476Z"
   },
   {
    "duration": 32,
    "start_time": "2024-05-19T05:54:38.056Z"
   },
   {
    "duration": 665,
    "start_time": "2024-05-19T05:55:37.095Z"
   },
   {
    "duration": 1753538,
    "start_time": "2024-05-19T05:56:31.516Z"
   },
   {
    "duration": 245118,
    "start_time": "2024-05-19T06:36:26.272Z"
   },
   {
    "duration": 5,
    "start_time": "2024-05-19T06:41:16.813Z"
   },
   {
    "duration": 64,
    "start_time": "2024-05-19T06:43:15.666Z"
   },
   {
    "duration": 57,
    "start_time": "2024-05-19T06:43:47.106Z"
   },
   {
    "duration": 31,
    "start_time": "2024-05-19T06:43:55.250Z"
   },
   {
    "duration": 40,
    "start_time": "2024-05-19T06:43:57.664Z"
   },
   {
    "duration": 46,
    "start_time": "2024-05-19T06:43:59.811Z"
   },
   {
    "duration": 45,
    "start_time": "2024-05-19T06:44:02.207Z"
   },
   {
    "duration": 47,
    "start_time": "2024-05-19T06:44:04.423Z"
   },
   {
    "duration": 51,
    "start_time": "2024-05-19T06:44:09.059Z"
   },
   {
    "duration": 48,
    "start_time": "2024-05-19T06:44:11.625Z"
   },
   {
    "duration": 43,
    "start_time": "2024-05-19T06:44:16.821Z"
   },
   {
    "duration": 52,
    "start_time": "2024-05-19T06:44:20.436Z"
   },
   {
    "duration": 51,
    "start_time": "2024-05-19T06:44:23.394Z"
   },
   {
    "duration": 60,
    "start_time": "2024-05-19T06:44:26.059Z"
   },
   {
    "duration": 13408,
    "start_time": "2024-05-19T06:44:47.925Z"
   },
   {
    "duration": 54,
    "start_time": "2024-05-19T06:45:19.600Z"
   },
   {
    "duration": 9356,
    "start_time": "2024-05-19T06:45:42.992Z"
   },
   {
    "duration": 722,
    "start_time": "2024-05-19T06:46:30.640Z"
   },
   {
    "duration": 1288704,
    "start_time": "2024-05-19T06:46:52.243Z"
   },
   {
    "duration": 624,
    "start_time": "2024-05-19T07:08:20.961Z"
   },
   {
    "duration": 604,
    "start_time": "2024-05-19T22:56:31.201Z"
   },
   {
    "duration": 97,
    "start_time": "2024-05-19T22:56:31.810Z"
   },
   {
    "duration": 51,
    "start_time": "2024-05-19T22:56:31.910Z"
   },
   {
    "duration": 47,
    "start_time": "2024-05-19T22:56:32.060Z"
   },
   {
    "duration": 7,
    "start_time": "2024-05-19T22:56:32.754Z"
   },
   {
    "duration": 14,
    "start_time": "2024-05-19T22:56:33.137Z"
   },
   {
    "duration": 5,
    "start_time": "2024-05-19T22:56:33.620Z"
   },
   {
    "duration": 18,
    "start_time": "2024-05-19T22:56:34.019Z"
   },
   {
    "duration": 27,
    "start_time": "2024-05-19T22:56:34.877Z"
   },
   {
    "duration": 8,
    "start_time": "2024-05-19T22:56:35.808Z"
   },
   {
    "duration": 14,
    "start_time": "2024-05-19T22:56:36.227Z"
   },
   {
    "duration": 6,
    "start_time": "2024-05-19T22:56:36.513Z"
   },
   {
    "duration": 6,
    "start_time": "2024-05-19T22:56:36.711Z"
   },
   {
    "duration": 187,
    "start_time": "2024-05-19T22:56:36.930Z"
   },
   {
    "duration": 10,
    "start_time": "2024-05-19T22:56:37.305Z"
   },
   {
    "duration": 11,
    "start_time": "2024-05-19T22:56:37.582Z"
   },
   {
    "duration": 8,
    "start_time": "2024-05-19T22:56:37.910Z"
   },
   {
    "duration": 8,
    "start_time": "2024-05-19T22:56:38.197Z"
   },
   {
    "duration": 18,
    "start_time": "2024-05-19T22:56:38.454Z"
   },
   {
    "duration": 9,
    "start_time": "2024-05-19T22:56:38.741Z"
   },
   {
    "duration": 26,
    "start_time": "2024-05-19T22:56:39.004Z"
   },
   {
    "duration": 756,
    "start_time": "2024-05-19T22:56:39.280Z"
   },
   {
    "duration": 4,
    "start_time": "2024-05-19T22:56:40.321Z"
   },
   {
    "duration": 13,
    "start_time": "2024-05-19T22:56:40.711Z"
   },
   {
    "duration": 8,
    "start_time": "2024-05-19T22:56:42.260Z"
   },
   {
    "duration": 9,
    "start_time": "2024-05-19T22:56:43.038Z"
   },
   {
    "duration": 29,
    "start_time": "2024-05-19T22:56:44.204Z"
   },
   {
    "duration": 6,
    "start_time": "2024-05-19T22:56:45.283Z"
   },
   {
    "duration": 4,
    "start_time": "2024-05-19T22:56:46.296Z"
   },
   {
    "duration": 27,
    "start_time": "2024-05-19T22:56:47.108Z"
   },
   {
    "duration": 16,
    "start_time": "2024-05-19T22:56:47.693Z"
   },
   {
    "duration": 7,
    "start_time": "2024-05-19T22:56:48.605Z"
   },
   {
    "duration": 4,
    "start_time": "2024-05-19T22:56:49.985Z"
   },
   {
    "duration": 30,
    "start_time": "2024-05-19T22:56:51.140Z"
   },
   {
    "duration": 7,
    "start_time": "2024-05-19T22:56:52.330Z"
   },
   {
    "duration": 5,
    "start_time": "2024-05-19T22:56:54.699Z"
   },
   {
    "duration": 63,
    "start_time": "2024-05-19T22:56:56.432Z"
   },
   {
    "duration": 14,
    "start_time": "2024-05-19T22:56:59.127Z"
   },
   {
    "duration": 516,
    "start_time": "2024-05-19T23:00:27.191Z"
   },
   {
    "duration": 14614,
    "start_time": "2024-05-19T23:00:56.126Z"
   },
   {
    "duration": 15077,
    "start_time": "2024-05-19T23:01:23.382Z"
   },
   {
    "duration": 14572,
    "start_time": "2024-05-19T23:02:56.359Z"
   },
   {
    "duration": 68,
    "start_time": "2024-05-19T23:04:15.228Z"
   },
   {
    "duration": 20281,
    "start_time": "2024-05-19T23:04:45.656Z"
   },
   {
    "duration": 39,
    "start_time": "2024-05-19T23:05:18.828Z"
   },
   {
    "duration": 7,
    "start_time": "2024-05-19T23:05:31.325Z"
   },
   {
    "duration": 9956,
    "start_time": "2024-05-19T23:05:40.476Z"
   },
   {
    "duration": 19855,
    "start_time": "2024-05-19T23:06:09.683Z"
   },
   {
    "duration": 19190,
    "start_time": "2024-05-19T23:06:48.034Z"
   },
   {
    "duration": 13868,
    "start_time": "2024-05-19T23:07:15.067Z"
   },
   {
    "duration": 9194,
    "start_time": "2024-05-19T23:08:18.547Z"
   },
   {
    "duration": 1130,
    "start_time": "2024-05-19T23:10:22.690Z"
   },
   {
    "duration": 2608,
    "start_time": "2024-05-19T23:10:35.341Z"
   },
   {
    "duration": 1023,
    "start_time": "2024-05-19T23:12:36.156Z"
   },
   {
    "duration": 7,
    "start_time": "2024-05-19T23:17:00.337Z"
   },
   {
    "duration": 28,
    "start_time": "2024-05-19T23:17:21.166Z"
   },
   {
    "duration": 12,
    "start_time": "2024-05-19T23:17:37.713Z"
   },
   {
    "duration": 503,
    "start_time": "2024-05-19T23:18:17.110Z"
   },
   {
    "duration": 12,
    "start_time": "2024-05-19T23:18:29.449Z"
   },
   {
    "duration": 7,
    "start_time": "2024-05-19T23:18:33.969Z"
   },
   {
    "duration": 7,
    "start_time": "2024-05-19T23:18:48.784Z"
   },
   {
    "duration": 13,
    "start_time": "2024-05-19T23:18:53.247Z"
   },
   {
    "duration": 16,
    "start_time": "2024-05-19T23:19:03.068Z"
   },
   {
    "duration": 14,
    "start_time": "2024-05-19T23:19:11.704Z"
   },
   {
    "duration": 9,
    "start_time": "2024-05-19T23:19:17.050Z"
   },
   {
    "duration": 778,
    "start_time": "2024-05-19T23:21:45.062Z"
   },
   {
    "duration": 757,
    "start_time": "2024-05-19T23:22:23.279Z"
   },
   {
    "duration": 752,
    "start_time": "2024-05-19T23:22:49.306Z"
   },
   {
    "duration": 63,
    "start_time": "2024-05-19T23:25:12.906Z"
   },
   {
    "duration": 68,
    "start_time": "2024-05-19T23:25:55.377Z"
   },
   {
    "duration": 31,
    "start_time": "2024-05-19T23:26:14.056Z"
   },
   {
    "duration": 7118,
    "start_time": "2024-05-19T23:26:33.177Z"
   },
   {
    "duration": 12034,
    "start_time": "2024-05-19T23:27:07.290Z"
   },
   {
    "duration": 20066,
    "start_time": "2024-05-19T23:27:44.134Z"
   },
   {
    "duration": 16998,
    "start_time": "2024-05-19T23:28:13.406Z"
   },
   {
    "duration": 15794,
    "start_time": "2024-05-19T23:28:54.273Z"
   },
   {
    "duration": 18414,
    "start_time": "2024-05-19T23:29:32.723Z"
   },
   {
    "duration": 1180,
    "start_time": "2024-05-19T23:33:14.126Z"
   },
   {
    "duration": 749,
    "start_time": "2024-05-19T23:33:18.400Z"
   },
   {
    "duration": 60,
    "start_time": "2024-05-19T23:33:30.697Z"
   },
   {
    "duration": 35486,
    "start_time": "2024-05-19T23:33:51.492Z"
   },
   {
    "duration": 2077935,
    "start_time": "2024-05-19T23:36:58.596Z"
   },
   {
    "duration": 451,
    "start_time": "2024-05-20T05:14:59.716Z"
   },
   {
    "duration": 94,
    "start_time": "2024-05-20T05:15:00.171Z"
   },
   {
    "duration": 45,
    "start_time": "2024-05-20T05:15:01.060Z"
   },
   {
    "duration": 35,
    "start_time": "2024-05-20T05:15:01.708Z"
   },
   {
    "duration": 6,
    "start_time": "2024-05-20T05:15:01.984Z"
   },
   {
    "duration": 9,
    "start_time": "2024-05-20T05:15:02.220Z"
   },
   {
    "duration": 3,
    "start_time": "2024-05-20T05:15:02.723Z"
   },
   {
    "duration": 17,
    "start_time": "2024-05-20T05:15:03.088Z"
   },
   {
    "duration": 26,
    "start_time": "2024-05-20T05:15:05.300Z"
   },
   {
    "duration": 8,
    "start_time": "2024-05-20T05:15:05.956Z"
   },
   {
    "duration": 15,
    "start_time": "2024-05-20T05:15:06.174Z"
   },
   {
    "duration": 5,
    "start_time": "2024-05-20T05:15:06.439Z"
   },
   {
    "duration": 7,
    "start_time": "2024-05-20T05:15:06.692Z"
   },
   {
    "duration": 183,
    "start_time": "2024-05-20T05:15:07.215Z"
   },
   {
    "duration": 10,
    "start_time": "2024-05-20T05:15:07.618Z"
   },
   {
    "duration": 8,
    "start_time": "2024-05-20T05:15:07.932Z"
   },
   {
    "duration": 7,
    "start_time": "2024-05-20T05:15:08.220Z"
   },
   {
    "duration": 7,
    "start_time": "2024-05-20T05:15:08.557Z"
   },
   {
    "duration": 17,
    "start_time": "2024-05-20T05:15:08.960Z"
   },
   {
    "duration": 9,
    "start_time": "2024-05-20T05:15:09.519Z"
   },
   {
    "duration": 33,
    "start_time": "2024-05-20T05:15:09.942Z"
   },
   {
    "duration": 770,
    "start_time": "2024-05-20T05:15:10.693Z"
   },
   {
    "duration": 4,
    "start_time": "2024-05-20T05:15:11.467Z"
   },
   {
    "duration": 12,
    "start_time": "2024-05-20T05:15:16.565Z"
   },
   {
    "duration": 7,
    "start_time": "2024-05-20T05:15:17.291Z"
   },
   {
    "duration": 11,
    "start_time": "2024-05-20T05:15:17.548Z"
   },
   {
    "duration": 33,
    "start_time": "2024-05-20T05:15:17.784Z"
   },
   {
    "duration": 6,
    "start_time": "2024-05-20T05:15:18.006Z"
   },
   {
    "duration": 4,
    "start_time": "2024-05-20T05:15:18.254Z"
   },
   {
    "duration": 25,
    "start_time": "2024-05-20T05:15:18.522Z"
   },
   {
    "duration": 13,
    "start_time": "2024-05-20T05:15:18.803Z"
   },
   {
    "duration": 7,
    "start_time": "2024-05-20T05:15:19.190Z"
   },
   {
    "duration": 5,
    "start_time": "2024-05-20T05:15:19.509Z"
   },
   {
    "duration": 34,
    "start_time": "2024-05-20T05:15:19.786Z"
   },
   {
    "duration": 5,
    "start_time": "2024-05-20T05:15:20.003Z"
   },
   {
    "duration": 6,
    "start_time": "2024-05-20T05:15:20.651Z"
   },
   {
    "duration": 80,
    "start_time": "2024-05-20T05:15:28.597Z"
   },
   {
    "duration": 10,
    "start_time": "2024-05-20T05:15:28.863Z"
   },
   {
    "duration": 50,
    "start_time": "2024-05-20T05:16:33.235Z"
   },
   {
    "duration": 40,
    "start_time": "2024-05-20T05:16:43.631Z"
   },
   {
    "duration": 39,
    "start_time": "2024-05-20T05:17:11.207Z"
   },
   {
    "duration": 39,
    "start_time": "2024-05-20T05:22:12.148Z"
   },
   {
    "duration": 24,
    "start_time": "2024-05-20T05:28:49.486Z"
   },
   {
    "duration": 8,
    "start_time": "2024-05-20T05:29:00.641Z"
   },
   {
    "duration": 4,
    "start_time": "2024-05-20T05:29:03.875Z"
   },
   {
    "duration": 7,
    "start_time": "2024-05-20T05:29:04.193Z"
   },
   {
    "duration": 23,
    "start_time": "2024-05-20T05:29:18.865Z"
   },
   {
    "duration": 4,
    "start_time": "2024-05-20T05:29:36.379Z"
   },
   {
    "duration": 58,
    "start_time": "2024-05-20T05:29:36.621Z"
   },
   {
    "duration": 38,
    "start_time": "2024-05-20T05:29:36.833Z"
   },
   {
    "duration": 35,
    "start_time": "2024-05-20T05:29:37.060Z"
   },
   {
    "duration": 6,
    "start_time": "2024-05-20T05:29:37.306Z"
   },
   {
    "duration": 11,
    "start_time": "2024-05-20T05:29:37.537Z"
   },
   {
    "duration": 4,
    "start_time": "2024-05-20T05:29:37.805Z"
   },
   {
    "duration": 17,
    "start_time": "2024-05-20T05:29:38.052Z"
   },
   {
    "duration": 26,
    "start_time": "2024-05-20T05:29:38.296Z"
   },
   {
    "duration": 8,
    "start_time": "2024-05-20T05:29:38.556Z"
   },
   {
    "duration": 14,
    "start_time": "2024-05-20T05:29:38.929Z"
   },
   {
    "duration": 5,
    "start_time": "2024-05-20T05:29:39.182Z"
   },
   {
    "duration": 5,
    "start_time": "2024-05-20T05:29:39.473Z"
   },
   {
    "duration": 183,
    "start_time": "2024-05-20T05:29:39.726Z"
   },
   {
    "duration": 9,
    "start_time": "2024-05-20T05:29:39.977Z"
   },
   {
    "duration": 8,
    "start_time": "2024-05-20T05:29:40.183Z"
   },
   {
    "duration": 8,
    "start_time": "2024-05-20T05:29:40.451Z"
   },
   {
    "duration": 7,
    "start_time": "2024-05-20T05:29:40.698Z"
   },
   {
    "duration": 17,
    "start_time": "2024-05-20T05:29:40.929Z"
   },
   {
    "duration": 9,
    "start_time": "2024-05-20T05:29:41.272Z"
   },
   {
    "duration": 26,
    "start_time": "2024-05-20T05:29:41.701Z"
   },
   {
    "duration": 36,
    "start_time": "2024-05-20T05:29:49.947Z"
   },
   {
    "duration": 7,
    "start_time": "2024-05-20T05:29:50.334Z"
   },
   {
    "duration": 12,
    "start_time": "2024-05-20T05:29:52.779Z"
   },
   {
    "duration": 6,
    "start_time": "2024-05-20T05:29:53.985Z"
   },
   {
    "duration": 9,
    "start_time": "2024-05-20T05:29:55.612Z"
   },
   {
    "duration": 25,
    "start_time": "2024-05-20T05:30:00.742Z"
   },
   {
    "duration": 28,
    "start_time": "2024-05-20T05:30:20.705Z"
   },
   {
    "duration": 11,
    "start_time": "2024-05-20T05:30:23.729Z"
   },
   {
    "duration": 29,
    "start_time": "2024-05-20T05:30:30.034Z"
   },
   {
    "duration": 13,
    "start_time": "2024-05-20T05:30:50.330Z"
   },
   {
    "duration": 6,
    "start_time": "2024-05-20T05:30:52.850Z"
   },
   {
    "duration": 4,
    "start_time": "2024-05-20T05:30:59.921Z"
   },
   {
    "duration": 28,
    "start_time": "2024-05-20T05:31:01.505Z"
   },
   {
    "duration": 10,
    "start_time": "2024-05-20T05:31:23.792Z"
   },
   {
    "duration": 29,
    "start_time": "2024-05-20T05:31:25.071Z"
   },
   {
    "duration": 5,
    "start_time": "2024-05-20T05:31:33.001Z"
   },
   {
    "duration": 28,
    "start_time": "2024-05-20T05:31:33.941Z"
   },
   {
    "duration": 870,
    "start_time": "2024-05-20T05:31:59.843Z"
   },
   {
    "duration": 40,
    "start_time": "2024-05-20T05:32:28.100Z"
   },
   {
    "duration": 27,
    "start_time": "2024-05-20T05:33:06.471Z"
   },
   {
    "duration": 11,
    "start_time": "2024-05-20T05:33:10.906Z"
   },
   {
    "duration": 4,
    "start_time": "2024-05-20T05:33:24.551Z"
   },
   {
    "duration": 9,
    "start_time": "2024-05-20T05:33:26.203Z"
   },
   {
    "duration": 9,
    "start_time": "2024-05-20T05:33:39.377Z"
   },
   {
    "duration": 6,
    "start_time": "2024-05-20T05:33:57.042Z"
   },
   {
    "duration": 5,
    "start_time": "2024-05-20T05:34:09.572Z"
   },
   {
    "duration": 28,
    "start_time": "2024-05-20T05:34:10.232Z"
   },
   {
    "duration": 24,
    "start_time": "2024-05-20T05:34:21.421Z"
   },
   {
    "duration": 24,
    "start_time": "2024-05-20T05:34:33.239Z"
   },
   {
    "duration": 6,
    "start_time": "2024-05-20T05:35:18.135Z"
   },
   {
    "duration": 7,
    "start_time": "2024-05-20T05:35:19.160Z"
   },
   {
    "duration": 249,
    "start_time": "2024-05-20T05:35:38.790Z"
   },
   {
    "duration": 64,
    "start_time": "2024-05-20T05:37:19.914Z"
   },
   {
    "duration": 17,
    "start_time": "2024-05-20T05:37:56.721Z"
   },
   {
    "duration": 27,
    "start_time": "2024-05-20T05:37:59.104Z"
   },
   {
    "duration": 23,
    "start_time": "2024-05-20T05:38:05.303Z"
   },
   {
    "duration": 22,
    "start_time": "2024-05-20T05:38:44.907Z"
   },
   {
    "duration": 23,
    "start_time": "2024-05-20T05:38:49.811Z"
   },
   {
    "duration": 5,
    "start_time": "2024-05-20T05:39:00.329Z"
   },
   {
    "duration": 23,
    "start_time": "2024-05-20T05:39:20.459Z"
   },
   {
    "duration": 40,
    "start_time": "2024-05-20T05:39:23.014Z"
   },
   {
    "duration": 3947,
    "start_time": "2024-05-20T05:42:17.358Z"
   },
   {
    "duration": 36,
    "start_time": "2024-05-20T05:42:59.417Z"
   },
   {
    "duration": 4,
    "start_time": "2024-05-20T05:43:40.362Z"
   },
   {
    "duration": 7,
    "start_time": "2024-05-20T05:43:44.586Z"
   },
   {
    "duration": 9,
    "start_time": "2024-05-20T05:43:48.592Z"
   },
   {
    "duration": 75,
    "start_time": "2024-05-20T05:45:00.841Z"
   },
   {
    "duration": 16,
    "start_time": "2024-05-20T05:45:17.300Z"
   },
   {
    "duration": 55,
    "start_time": "2024-05-20T05:45:39.675Z"
   },
   {
    "duration": 786,
    "start_time": "2024-05-20T05:47:38.502Z"
   },
   {
    "duration": 563,
    "start_time": "2024-05-20T05:48:07.301Z"
   },
   {
    "duration": 744,
    "start_time": "2024-05-20T05:48:52.993Z"
   },
   {
    "duration": 747,
    "start_time": "2024-05-20T05:50:14.187Z"
   },
   {
    "duration": 3793,
    "start_time": "2024-05-20T05:55:41.142Z"
   },
   {
    "duration": 7,
    "start_time": "2024-05-20T05:56:05.520Z"
   },
   {
    "duration": 8,
    "start_time": "2024-05-20T05:56:22.944Z"
   },
   {
    "duration": 743,
    "start_time": "2024-05-20T05:56:54.521Z"
   },
   {
    "duration": 8,
    "start_time": "2024-05-20T05:56:55.724Z"
   },
   {
    "duration": 3828,
    "start_time": "2024-05-20T05:57:52.684Z"
   },
   {
    "duration": 7,
    "start_time": "2024-05-20T05:57:56.515Z"
   },
   {
    "duration": 44,
    "start_time": "2024-05-20T06:01:40.664Z"
   },
   {
    "duration": 154,
    "start_time": "2024-05-20T06:01:50.321Z"
   },
   {
    "duration": 28,
    "start_time": "2024-05-20T06:03:50.375Z"
   },
   {
    "duration": 23,
    "start_time": "2024-05-20T06:04:09.200Z"
   },
   {
    "duration": 4,
    "start_time": "2024-05-20T06:04:12.824Z"
   },
   {
    "duration": 4,
    "start_time": "2024-05-20T06:04:28.882Z"
   },
   {
    "duration": 3,
    "start_time": "2024-05-20T06:05:36.079Z"
   },
   {
    "duration": 4,
    "start_time": "2024-05-20T06:05:51.311Z"
   },
   {
    "duration": 5,
    "start_time": "2024-05-20T06:06:41.597Z"
   },
   {
    "duration": 4,
    "start_time": "2024-05-20T06:07:05.867Z"
   },
   {
    "duration": 8,
    "start_time": "2024-05-20T06:10:24.084Z"
   },
   {
    "duration": 6,
    "start_time": "2024-05-20T06:10:27.977Z"
   },
   {
    "duration": 4,
    "start_time": "2024-05-20T06:10:32.293Z"
   },
   {
    "duration": 4,
    "start_time": "2024-05-20T06:10:33.205Z"
   },
   {
    "duration": 10,
    "start_time": "2024-05-20T06:10:51.548Z"
   },
   {
    "duration": 1357,
    "start_time": "2024-05-20T07:57:12.207Z"
   },
   {
    "duration": 56,
    "start_time": "2024-05-20T07:57:15.498Z"
   },
   {
    "duration": 43,
    "start_time": "2024-05-20T07:57:16.195Z"
   },
   {
    "duration": 33,
    "start_time": "2024-05-20T07:57:16.242Z"
   },
   {
    "duration": 27,
    "start_time": "2024-05-20T07:57:16.278Z"
   },
   {
    "duration": 11,
    "start_time": "2024-05-20T07:57:16.309Z"
   },
   {
    "duration": 4,
    "start_time": "2024-05-20T07:57:16.326Z"
   },
   {
    "duration": 19,
    "start_time": "2024-05-20T07:57:16.410Z"
   },
   {
    "duration": 28,
    "start_time": "2024-05-20T07:57:16.492Z"
   },
   {
    "duration": 8,
    "start_time": "2024-05-20T07:57:16.576Z"
   },
   {
    "duration": 22,
    "start_time": "2024-05-20T07:57:16.748Z"
   },
   {
    "duration": 6,
    "start_time": "2024-05-20T07:57:16.793Z"
   },
   {
    "duration": 5,
    "start_time": "2024-05-20T07:57:16.880Z"
   },
   {
    "duration": 244,
    "start_time": "2024-05-20T07:57:16.930Z"
   },
   {
    "duration": 10,
    "start_time": "2024-05-20T07:57:17.177Z"
   },
   {
    "duration": 8,
    "start_time": "2024-05-20T07:57:17.201Z"
   },
   {
    "duration": 8,
    "start_time": "2024-05-20T07:57:17.213Z"
   },
   {
    "duration": 7,
    "start_time": "2024-05-20T07:57:17.378Z"
   },
   {
    "duration": 17,
    "start_time": "2024-05-20T07:57:17.635Z"
   },
   {
    "duration": 9,
    "start_time": "2024-05-20T07:57:18.063Z"
   },
   {
    "duration": 26,
    "start_time": "2024-05-20T07:57:18.320Z"
   },
   {
    "duration": 37,
    "start_time": "2024-05-20T07:57:18.582Z"
   },
   {
    "duration": 4,
    "start_time": "2024-05-20T07:57:18.844Z"
   },
   {
    "duration": 12,
    "start_time": "2024-05-20T07:57:19.353Z"
   },
   {
    "duration": 112,
    "start_time": "2024-05-20T07:57:19.605Z"
   },
   {
    "duration": 155,
    "start_time": "2024-05-20T07:57:19.873Z"
   },
   {
    "duration": 6,
    "start_time": "2024-05-20T07:57:20.175Z"
   },
   {
    "duration": 12,
    "start_time": "2024-05-20T07:57:20.809Z"
   },
   {
    "duration": 20,
    "start_time": "2024-05-20T07:57:21.077Z"
   },
   {
    "duration": 24,
    "start_time": "2024-05-20T07:57:21.389Z"
   },
   {
    "duration": 6,
    "start_time": "2024-05-20T07:57:22.302Z"
   },
   {
    "duration": 3,
    "start_time": "2024-05-20T07:57:23.104Z"
   },
   {
    "duration": 26,
    "start_time": "2024-05-20T07:57:23.386Z"
   },
   {
    "duration": 17,
    "start_time": "2024-05-20T07:57:23.678Z"
   },
   {
    "duration": 4,
    "start_time": "2024-05-20T07:57:25.638Z"
   },
   {
    "duration": 3,
    "start_time": "2024-05-20T07:57:26.083Z"
   },
   {
    "duration": 476,
    "start_time": "2024-05-20T07:57:26.787Z"
   },
   {
    "duration": 3,
    "start_time": "2024-05-20T07:57:44.483Z"
   },
   {
    "duration": 10,
    "start_time": "2024-05-20T07:57:47.190Z"
   },
   {
    "duration": 57,
    "start_time": "2024-05-20T07:58:01.746Z"
   },
   {
    "duration": 25414,
    "start_time": "2024-05-20T07:59:10.930Z"
   },
   {
    "duration": 64,
    "start_time": "2024-05-20T08:00:32.899Z"
   },
   {
    "duration": 686,
    "start_time": "2024-05-20T08:00:46.361Z"
   },
   {
    "duration": 5113,
    "start_time": "2024-05-20T19:42:43.120Z"
   },
   {
    "duration": 106,
    "start_time": "2024-05-20T19:42:48.236Z"
   },
   {
    "duration": 42,
    "start_time": "2024-05-20T19:42:48.344Z"
   },
   {
    "duration": 44,
    "start_time": "2024-05-20T19:42:48.390Z"
   },
   {
    "duration": 6,
    "start_time": "2024-05-20T19:42:48.437Z"
   },
   {
    "duration": 8,
    "start_time": "2024-05-20T19:42:48.447Z"
   },
   {
    "duration": 4,
    "start_time": "2024-05-20T19:42:48.458Z"
   },
   {
    "duration": 50,
    "start_time": "2024-05-20T19:42:48.465Z"
   },
   {
    "duration": 25,
    "start_time": "2024-05-20T19:42:48.519Z"
   },
   {
    "duration": 8,
    "start_time": "2024-05-20T19:42:48.549Z"
   },
   {
    "duration": 52,
    "start_time": "2024-05-20T19:42:48.561Z"
   },
   {
    "duration": 5,
    "start_time": "2024-05-20T19:42:48.616Z"
   },
   {
    "duration": 6,
    "start_time": "2024-05-20T19:42:48.624Z"
   },
   {
    "duration": 213,
    "start_time": "2024-05-20T19:42:48.633Z"
   },
   {
    "duration": 10,
    "start_time": "2024-05-20T19:42:48.849Z"
   },
   {
    "duration": 9,
    "start_time": "2024-05-20T19:42:48.862Z"
   },
   {
    "duration": 7,
    "start_time": "2024-05-20T19:42:48.874Z"
   },
   {
    "duration": 9,
    "start_time": "2024-05-20T19:42:48.912Z"
   },
   {
    "duration": 19,
    "start_time": "2024-05-20T19:42:49.181Z"
   },
   {
    "duration": 8,
    "start_time": "2024-05-20T19:42:49.987Z"
   },
   {
    "duration": 26,
    "start_time": "2024-05-20T19:42:50.604Z"
   },
   {
    "duration": 34,
    "start_time": "2024-05-20T19:42:56.389Z"
   },
   {
    "duration": 3,
    "start_time": "2024-05-20T19:42:56.913Z"
   },
   {
    "duration": 12,
    "start_time": "2024-05-20T19:42:57.058Z"
   },
   {
    "duration": 170,
    "start_time": "2024-05-20T19:42:57.168Z"
   },
   {
    "duration": 166,
    "start_time": "2024-05-20T19:42:57.341Z"
   },
   {
    "duration": 6,
    "start_time": "2024-05-20T19:42:58.112Z"
   },
   {
    "duration": 13,
    "start_time": "2024-05-20T19:42:58.343Z"
   },
   {
    "duration": 19,
    "start_time": "2024-05-20T19:42:58.607Z"
   },
   {
    "duration": 25,
    "start_time": "2024-05-20T19:42:58.917Z"
   },
   {
    "duration": 5,
    "start_time": "2024-05-20T19:42:59.272Z"
   },
   {
    "duration": 3,
    "start_time": "2024-05-20T19:42:59.767Z"
   },
   {
    "duration": 23,
    "start_time": "2024-05-20T19:43:00.536Z"
   },
   {
    "duration": 17,
    "start_time": "2024-05-20T19:43:01.051Z"
   },
   {
    "duration": 4,
    "start_time": "2024-05-20T19:43:03.333Z"
   },
   {
    "duration": 4,
    "start_time": "2024-05-20T19:43:06.786Z"
   },
   {
    "duration": 4,
    "start_time": "2024-05-20T19:43:22.863Z"
   },
   {
    "duration": 418,
    "start_time": "2024-05-20T19:43:23.133Z"
   },
   {
    "duration": 4,
    "start_time": "2024-05-20T19:43:26.398Z"
   },
   {
    "duration": 3,
    "start_time": "2024-05-20T19:43:26.648Z"
   },
   {
    "duration": 9,
    "start_time": "2024-05-20T19:43:27.073Z"
   },
   {
    "duration": 97,
    "start_time": "2024-05-20T19:43:29.954Z"
   },
   {
    "duration": 9,
    "start_time": "2024-05-20T19:43:32.739Z"
   },
   {
    "duration": 44,
    "start_time": "2024-05-20T19:43:33.245Z"
   },
   {
    "duration": 25295,
    "start_time": "2024-05-20T19:43:52.940Z"
   },
   {
    "duration": 57,
    "start_time": "2024-05-20T19:44:21.632Z"
   },
   {
    "duration": 738,
    "start_time": "2024-05-20T19:44:29.846Z"
   },
   {
    "duration": 3819,
    "start_time": "2024-05-20T19:44:33.198Z"
   },
   {
    "duration": 7,
    "start_time": "2024-05-20T19:44:37.021Z"
   },
   {
    "duration": 113,
    "start_time": "2024-05-20T19:44:39.411Z"
   },
   {
    "duration": 9652,
    "start_time": "2024-05-20T19:45:28.863Z"
   },
   {
    "duration": 0,
    "start_time": "2024-05-20T19:46:24.013Z"
   },
   {
    "duration": 25361,
    "start_time": "2024-05-20T19:46:43.593Z"
   },
   {
    "duration": 84454,
    "start_time": "2024-05-20T19:47:17.073Z"
   },
   {
    "duration": 6,
    "start_time": "2024-05-20T19:48:57.968Z"
   },
   {
    "duration": 83833,
    "start_time": "2024-05-20T19:49:31.879Z"
   },
   {
    "duration": 5362,
    "start_time": "2024-05-21T20:12:48.230Z"
   },
   {
    "duration": 95,
    "start_time": "2024-05-21T20:12:53.595Z"
   },
   {
    "duration": 42,
    "start_time": "2024-05-21T20:12:53.692Z"
   },
   {
    "duration": 36,
    "start_time": "2024-05-21T20:12:53.738Z"
   },
   {
    "duration": 33,
    "start_time": "2024-05-21T20:12:53.776Z"
   },
   {
    "duration": 9,
    "start_time": "2024-05-21T20:12:53.813Z"
   },
   {
    "duration": 5,
    "start_time": "2024-05-21T20:12:53.825Z"
   },
   {
    "duration": 17,
    "start_time": "2024-05-21T20:12:53.833Z"
   },
   {
    "duration": 62,
    "start_time": "2024-05-21T20:12:53.854Z"
   },
   {
    "duration": 12,
    "start_time": "2024-05-21T20:12:53.922Z"
   },
   {
    "duration": 16,
    "start_time": "2024-05-21T20:12:53.937Z"
   },
   {
    "duration": 6,
    "start_time": "2024-05-21T20:12:53.956Z"
   },
   {
    "duration": 46,
    "start_time": "2024-05-21T20:12:53.966Z"
   },
   {
    "duration": 208,
    "start_time": "2024-05-21T20:12:54.016Z"
   },
   {
    "duration": 10,
    "start_time": "2024-05-21T20:12:54.227Z"
   },
   {
    "duration": 9,
    "start_time": "2024-05-21T20:12:54.241Z"
   },
   {
    "duration": 8,
    "start_time": "2024-05-21T20:12:54.255Z"
   },
   {
    "duration": 45,
    "start_time": "2024-05-21T20:12:54.266Z"
   },
   {
    "duration": 20,
    "start_time": "2024-05-21T20:12:54.313Z"
   },
   {
    "duration": 10,
    "start_time": "2024-05-21T20:12:54.337Z"
   },
   {
    "duration": 64,
    "start_time": "2024-05-21T20:12:54.350Z"
   },
   {
    "duration": 43,
    "start_time": "2024-05-21T20:12:54.418Z"
   },
   {
    "duration": 4,
    "start_time": "2024-05-21T20:12:54.464Z"
   },
   {
    "duration": 46,
    "start_time": "2024-05-21T20:12:54.470Z"
   },
   {
    "duration": 152,
    "start_time": "2024-05-21T20:12:54.519Z"
   },
   {
    "duration": 169,
    "start_time": "2024-05-21T20:12:54.673Z"
   },
   {
    "duration": 7,
    "start_time": "2024-05-21T20:12:54.849Z"
   },
   {
    "duration": 5,
    "start_time": "2024-05-21T20:12:56.374Z"
   },
   {
    "duration": 75,
    "start_time": "2024-05-21T20:12:56.648Z"
   },
   {
    "duration": 20,
    "start_time": "2024-05-21T20:12:56.875Z"
   },
   {
    "duration": 22,
    "start_time": "2024-05-21T20:12:57.084Z"
   },
   {
    "duration": 5,
    "start_time": "2024-05-21T20:12:57.837Z"
   },
   {
    "duration": 3,
    "start_time": "2024-05-21T20:12:58.083Z"
   },
   {
    "duration": 22,
    "start_time": "2024-05-21T20:12:58.578Z"
   },
   {
    "duration": 23,
    "start_time": "2024-05-21T20:12:58.964Z"
   },
   {
    "duration": 3,
    "start_time": "2024-05-21T20:13:00.805Z"
   },
   {
    "duration": 4,
    "start_time": "2024-05-21T20:13:04.281Z"
   },
   {
    "duration": 3,
    "start_time": "2024-05-21T20:13:05.664Z"
   },
   {
    "duration": 10,
    "start_time": "2024-05-21T20:13:08.935Z"
   },
   {
    "duration": 59,
    "start_time": "2024-05-21T20:13:10.201Z"
   },
   {
    "duration": 17,
    "start_time": "2024-05-21T20:14:29.152Z"
   },
   {
    "duration": 40,
    "start_time": "2024-05-21T20:15:02.918Z"
   },
   {
    "duration": 39,
    "start_time": "2024-05-21T20:15:08.045Z"
   },
   {
    "duration": 38,
    "start_time": "2024-05-21T20:15:19.934Z"
   },
   {
    "duration": 36,
    "start_time": "2024-05-21T20:15:21.963Z"
   },
   {
    "duration": 48,
    "start_time": "2024-05-21T20:15:59.154Z"
   },
   {
    "duration": 4,
    "start_time": "2024-05-21T20:18:06.480Z"
   },
   {
    "duration": 428,
    "start_time": "2024-05-21T20:18:25.793Z"
   },
   {
    "duration": 25,
    "start_time": "2024-05-21T20:18:56.295Z"
   },
   {
    "duration": 4,
    "start_time": "2024-05-21T20:18:59.456Z"
   },
   {
    "duration": 259,
    "start_time": "2024-05-21T20:19:04.542Z"
   },
   {
    "duration": 8,
    "start_time": "2024-05-21T20:19:36.897Z"
   },
   {
    "duration": 1046,
    "start_time": "2024-05-21T20:20:00.029Z"
   },
   {
    "duration": 24,
    "start_time": "2024-05-21T20:20:09.834Z"
   },
   {
    "duration": 25,
    "start_time": "2024-05-21T20:20:12.223Z"
   },
   {
    "duration": 25,
    "start_time": "2024-05-21T20:20:17.021Z"
   },
   {
    "duration": 24,
    "start_time": "2024-05-21T20:20:19.368Z"
   },
   {
    "duration": 9,
    "start_time": "2024-05-21T20:20:25.440Z"
   },
   {
    "duration": 58,
    "start_time": "2024-05-21T20:20:38.378Z"
   },
   {
    "duration": 8,
    "start_time": "2024-05-21T20:20:42.238Z"
   },
   {
    "duration": 66,
    "start_time": "2024-05-21T20:35:21.522Z"
   },
   {
    "duration": 5,
    "start_time": "2024-05-21T20:40:33.097Z"
   },
   {
    "duration": 7,
    "start_time": "2024-05-21T20:41:04.981Z"
   },
   {
    "duration": 544,
    "start_time": "2024-05-21T20:41:08.312Z"
   },
   {
    "duration": 7,
    "start_time": "2024-05-21T20:41:21.894Z"
   },
   {
    "duration": 6,
    "start_time": "2024-05-21T20:41:27.751Z"
   },
   {
    "duration": 23,
    "start_time": "2024-05-21T20:41:47.836Z"
   },
   {
    "duration": 6,
    "start_time": "2024-05-21T20:41:57.197Z"
   },
   {
    "duration": 7,
    "start_time": "2024-05-21T20:42:10.836Z"
   },
   {
    "duration": 56,
    "start_time": "2024-05-21T20:43:15.744Z"
   },
   {
    "duration": 285,
    "start_time": "2024-05-21T20:43:22.426Z"
   },
   {
    "duration": 5,
    "start_time": "2024-05-21T20:43:45.567Z"
   },
   {
    "duration": 23,
    "start_time": "2024-05-21T20:43:49.066Z"
   },
   {
    "duration": 6,
    "start_time": "2024-05-21T20:44:38.449Z"
   },
   {
    "duration": 315,
    "start_time": "2024-05-21T20:44:43.225Z"
   },
   {
    "duration": 96,
    "start_time": "2024-05-21T20:45:04.493Z"
   },
   {
    "duration": 14,
    "start_time": "2024-05-21T20:45:09.673Z"
   },
   {
    "duration": 9,
    "start_time": "2024-05-21T20:45:33.448Z"
   },
   {
    "duration": 5,
    "start_time": "2024-05-21T20:46:54.787Z"
   },
   {
    "duration": 19,
    "start_time": "2024-05-21T20:46:58.022Z"
   },
   {
    "duration": 11,
    "start_time": "2024-05-21T20:47:34.708Z"
   },
   {
    "duration": 6,
    "start_time": "2024-05-21T20:47:38.761Z"
   },
   {
    "duration": 5,
    "start_time": "2024-05-21T20:47:49.234Z"
   },
   {
    "duration": 11,
    "start_time": "2024-05-21T20:48:31.338Z"
   },
   {
    "duration": 477,
    "start_time": "2024-05-21T20:48:41.033Z"
   },
   {
    "duration": 5,
    "start_time": "2024-05-21T20:49:21.784Z"
   },
   {
    "duration": 25,
    "start_time": "2024-05-21T20:49:35.794Z"
   },
   {
    "duration": 25,
    "start_time": "2024-05-21T20:49:40.931Z"
   },
   {
    "duration": 8,
    "start_time": "2024-05-21T20:51:26.160Z"
   },
   {
    "duration": 7,
    "start_time": "2024-05-21T20:51:38.611Z"
   },
   {
    "duration": 7,
    "start_time": "2024-05-21T20:51:47.934Z"
   },
   {
    "duration": 5,
    "start_time": "2024-05-21T20:51:54.511Z"
   },
   {
    "duration": 23,
    "start_time": "2024-05-21T20:53:14.406Z"
   },
   {
    "duration": 7,
    "start_time": "2024-05-21T20:53:16.744Z"
   },
   {
    "duration": 13,
    "start_time": "2024-05-21T20:53:17.086Z"
   },
   {
    "duration": 7,
    "start_time": "2024-05-21T20:53:19.912Z"
   },
   {
    "duration": 9,
    "start_time": "2024-05-21T20:53:34.903Z"
   },
   {
    "duration": 6,
    "start_time": "2024-05-21T20:57:15.548Z"
   },
   {
    "duration": 21,
    "start_time": "2024-05-21T20:57:35.058Z"
   },
   {
    "duration": 10,
    "start_time": "2024-05-21T20:57:40.981Z"
   },
   {
    "duration": 27,
    "start_time": "2024-05-21T20:57:45.304Z"
   },
   {
    "duration": 11,
    "start_time": "2024-05-21T20:57:45.990Z"
   },
   {
    "duration": 5,
    "start_time": "2024-05-21T20:58:53.255Z"
   },
   {
    "duration": 22,
    "start_time": "2024-05-21T20:58:59.315Z"
   },
   {
    "duration": 24,
    "start_time": "2024-05-21T20:59:03.752Z"
   },
   {
    "duration": 22,
    "start_time": "2024-05-21T20:59:04.237Z"
   },
   {
    "duration": 5,
    "start_time": "2024-05-21T20:59:11.358Z"
   },
   {
    "duration": 23,
    "start_time": "2024-05-21T20:59:18.021Z"
   },
   {
    "duration": 22,
    "start_time": "2024-05-21T20:59:18.984Z"
   },
   {
    "duration": 6,
    "start_time": "2024-05-21T21:00:30.421Z"
   },
   {
    "duration": 5,
    "start_time": "2024-05-21T21:00:36.732Z"
   },
   {
    "duration": 10,
    "start_time": "2024-05-21T21:00:40.897Z"
   },
   {
    "duration": 11,
    "start_time": "2024-05-21T21:01:08.880Z"
   },
   {
    "duration": 11,
    "start_time": "2024-05-21T21:01:15.220Z"
   },
   {
    "duration": 4,
    "start_time": "2024-05-21T21:01:27.114Z"
   },
   {
    "duration": 55,
    "start_time": "2024-05-21T21:01:27.388Z"
   },
   {
    "duration": 37,
    "start_time": "2024-05-21T21:01:27.474Z"
   },
   {
    "duration": 33,
    "start_time": "2024-05-21T21:01:28.468Z"
   },
   {
    "duration": 6,
    "start_time": "2024-05-21T21:01:28.504Z"
   },
   {
    "duration": 8,
    "start_time": "2024-05-21T21:01:28.514Z"
   },
   {
    "duration": 4,
    "start_time": "2024-05-21T21:01:28.525Z"
   },
   {
    "duration": 15,
    "start_time": "2024-05-21T21:01:28.607Z"
   },
   {
    "duration": 24,
    "start_time": "2024-05-21T21:01:28.627Z"
   },
   {
    "duration": 9,
    "start_time": "2024-05-21T21:01:28.653Z"
   },
   {
    "duration": 50,
    "start_time": "2024-05-21T21:01:28.664Z"
   },
   {
    "duration": 5,
    "start_time": "2024-05-21T21:01:28.718Z"
   },
   {
    "duration": 6,
    "start_time": "2024-05-21T21:01:28.803Z"
   },
   {
    "duration": 197,
    "start_time": "2024-05-21T21:01:28.813Z"
   },
   {
    "duration": 10,
    "start_time": "2024-05-21T21:01:29.134Z"
   },
   {
    "duration": 8,
    "start_time": "2024-05-21T21:01:29.285Z"
   },
   {
    "duration": 7,
    "start_time": "2024-05-21T21:01:33.465Z"
   },
   {
    "duration": 7,
    "start_time": "2024-05-21T21:01:33.477Z"
   },
   {
    "duration": 17,
    "start_time": "2024-05-21T21:01:33.507Z"
   },
   {
    "duration": 10,
    "start_time": "2024-05-21T21:01:33.527Z"
   },
   {
    "duration": 26,
    "start_time": "2024-05-21T21:01:33.540Z"
   },
   {
    "duration": 72,
    "start_time": "2024-05-21T21:01:33.569Z"
   },
   {
    "duration": 3,
    "start_time": "2024-05-21T21:01:33.646Z"
   },
   {
    "duration": 11,
    "start_time": "2024-05-21T21:01:33.653Z"
   },
   {
    "duration": 4,
    "start_time": "2024-05-21T21:01:33.666Z"
   },
   {
    "duration": 159,
    "start_time": "2024-05-21T21:01:33.710Z"
   },
   {
    "duration": 7,
    "start_time": "2024-05-21T21:01:33.872Z"
   },
   {
    "duration": 28,
    "start_time": "2024-05-21T21:01:33.882Z"
   },
   {
    "duration": 20,
    "start_time": "2024-05-21T21:01:33.913Z"
   },
   {
    "duration": 24,
    "start_time": "2024-05-21T21:01:33.935Z"
   },
   {
    "duration": 6,
    "start_time": "2024-05-21T21:01:33.962Z"
   },
   {
    "duration": 3,
    "start_time": "2024-05-21T21:01:34.010Z"
   },
   {
    "duration": 24,
    "start_time": "2024-05-21T21:01:34.402Z"
   },
   {
    "duration": 14,
    "start_time": "2024-05-21T21:01:35.473Z"
   },
   {
    "duration": 3,
    "start_time": "2024-05-21T21:01:36.722Z"
   },
   {
    "duration": 4,
    "start_time": "2024-05-21T21:01:37.225Z"
   },
   {
    "duration": 5,
    "start_time": "2024-05-21T21:01:41.037Z"
   },
   {
    "duration": 3,
    "start_time": "2024-05-21T21:01:42.908Z"
   },
   {
    "duration": 5,
    "start_time": "2024-05-21T21:01:55.059Z"
   },
   {
    "duration": 27,
    "start_time": "2024-05-21T21:01:58.350Z"
   },
   {
    "duration": 26,
    "start_time": "2024-05-21T21:02:09.366Z"
   },
   {
    "duration": 107,
    "start_time": "2024-05-21T21:02:25.736Z"
   },
   {
    "duration": 77,
    "start_time": "2024-05-21T21:02:31.390Z"
   },
   {
    "duration": 81,
    "start_time": "2024-05-21T21:02:45.307Z"
   },
   {
    "duration": 15,
    "start_time": "2024-05-21T21:03:04.982Z"
   },
   {
    "duration": 4,
    "start_time": "2024-05-21T21:04:20.729Z"
   },
   {
    "duration": 8,
    "start_time": "2024-05-21T21:04:54.745Z"
   },
   {
    "duration": 52,
    "start_time": "2024-05-21T21:04:58.368Z"
   },
   {
    "duration": 9,
    "start_time": "2024-05-21T21:05:24.550Z"
   },
   {
    "duration": 48,
    "start_time": "2024-05-21T21:05:27.820Z"
   },
   {
    "duration": 8,
    "start_time": "2024-05-21T21:06:11.780Z"
   },
   {
    "duration": 8,
    "start_time": "2024-05-21T21:06:21.037Z"
   },
   {
    "duration": 248,
    "start_time": "2024-05-21T21:06:23.234Z"
   },
   {
    "duration": 11,
    "start_time": "2024-05-21T21:06:33.490Z"
   },
   {
    "duration": 219,
    "start_time": "2024-05-21T21:06:36.033Z"
   },
   {
    "duration": 8,
    "start_time": "2024-05-21T21:06:45.676Z"
   },
   {
    "duration": 220,
    "start_time": "2024-05-21T21:06:48.210Z"
   },
   {
    "duration": 377,
    "start_time": "2024-05-21T21:07:30.027Z"
   },
   {
    "duration": 422,
    "start_time": "2024-05-21T21:08:14.283Z"
   },
   {
    "duration": 26043,
    "start_time": "2024-05-21T21:09:17.641Z"
   },
   {
    "duration": 84736,
    "start_time": "2024-05-21T21:09:46.921Z"
   },
   {
    "duration": 86667,
    "start_time": "2024-05-21T21:11:53.115Z"
   },
   {
    "duration": 97753,
    "start_time": "2024-05-21T21:22:29.666Z"
   },
   {
    "duration": 5,
    "start_time": "2024-05-21T21:25:07.955Z"
   },
   {
    "duration": 29,
    "start_time": "2024-05-21T21:25:54.467Z"
   },
   {
    "duration": 15,
    "start_time": "2024-05-21T21:25:58.584Z"
   },
   {
    "duration": 69375,
    "start_time": "2024-05-21T21:25:59.175Z"
   },
   {
    "duration": 326,
    "start_time": "2024-05-21T21:28:16.362Z"
   },
   {
    "duration": 376,
    "start_time": "2024-05-21T21:28:31.084Z"
   },
   {
    "duration": 16,
    "start_time": "2024-05-21T21:29:29.903Z"
   },
   {
    "duration": 40,
    "start_time": "2024-05-21T21:34:26.950Z"
   },
   {
    "duration": 368,
    "start_time": "2024-05-21T21:38:12.243Z"
   },
   {
    "duration": 380,
    "start_time": "2024-05-21T21:38:17.391Z"
   },
   {
    "duration": 339,
    "start_time": "2024-05-21T21:38:19.244Z"
   },
   {
    "duration": 41,
    "start_time": "2024-05-21T21:40:34.285Z"
   },
   {
    "duration": 84443,
    "start_time": "2024-05-21T21:41:45.143Z"
   },
   {
    "duration": 17,
    "start_time": "2024-05-21T21:43:09.590Z"
   },
   {
    "duration": 224,
    "start_time": "2024-05-21T21:43:09.610Z"
   },
   {
    "duration": 30,
    "start_time": "2024-05-21T21:47:01.335Z"
   },
   {
    "duration": 23,
    "start_time": "2024-05-21T21:47:32.278Z"
   },
   {
    "duration": 10110,
    "start_time": "2024-05-21T21:47:39.163Z"
   },
   {
    "duration": 615,
    "start_time": "2024-05-21T21:49:04.906Z"
   },
   {
    "duration": 240,
    "start_time": "2024-05-21T21:49:17.537Z"
   },
   {
    "duration": 35,
    "start_time": "2024-05-21T21:50:02.200Z"
   },
   {
    "duration": 26,
    "start_time": "2024-05-21T21:50:15.798Z"
   },
   {
    "duration": 27,
    "start_time": "2024-05-21T21:50:28.667Z"
   },
   {
    "duration": 425,
    "start_time": "2024-05-21T21:50:56.206Z"
   },
   {
    "duration": 257,
    "start_time": "2024-05-21T21:51:02.020Z"
   },
   {
    "duration": 376,
    "start_time": "2024-05-21T21:51:05.856Z"
   },
   {
    "duration": 268,
    "start_time": "2024-05-21T21:51:12.199Z"
   },
   {
    "duration": 444,
    "start_time": "2024-05-21T21:51:22.870Z"
   },
   {
    "duration": 285,
    "start_time": "2024-05-21T21:51:23.318Z"
   },
   {
    "duration": 33,
    "start_time": "2024-05-21T21:53:26.320Z"
   },
   {
    "duration": 15,
    "start_time": "2024-05-21T21:53:52.605Z"
   },
   {
    "duration": 2001992,
    "start_time": "2024-05-21T21:54:00.875Z"
   },
   {
    "duration": 5067,
    "start_time": "2024-05-22T00:21:13.520Z"
   },
   {
    "duration": 65,
    "start_time": "2024-05-22T00:21:20.288Z"
   },
   {
    "duration": 42,
    "start_time": "2024-05-22T00:21:20.701Z"
   },
   {
    "duration": 32,
    "start_time": "2024-05-22T00:21:21.066Z"
   },
   {
    "duration": 7,
    "start_time": "2024-05-22T00:21:21.379Z"
   },
   {
    "duration": 8,
    "start_time": "2024-05-22T00:21:21.647Z"
   },
   {
    "duration": 4,
    "start_time": "2024-05-22T00:21:21.965Z"
   },
   {
    "duration": 17,
    "start_time": "2024-05-22T00:21:22.440Z"
   },
   {
    "duration": 25,
    "start_time": "2024-05-22T00:21:22.502Z"
   },
   {
    "duration": 8,
    "start_time": "2024-05-22T00:21:22.589Z"
   },
   {
    "duration": 14,
    "start_time": "2024-05-22T00:21:22.689Z"
   },
   {
    "duration": 7,
    "start_time": "2024-05-22T00:21:22.906Z"
   },
   {
    "duration": 6,
    "start_time": "2024-05-22T00:21:23.662Z"
   },
   {
    "duration": 192,
    "start_time": "2024-05-22T00:21:24.146Z"
   },
   {
    "duration": 13,
    "start_time": "2024-05-22T00:21:24.342Z"
   },
   {
    "duration": 11,
    "start_time": "2024-05-22T00:21:24.360Z"
   },
   {
    "duration": 9,
    "start_time": "2024-05-22T00:21:24.400Z"
   },
   {
    "duration": 8,
    "start_time": "2024-05-22T00:21:24.488Z"
   },
   {
    "duration": 19,
    "start_time": "2024-05-22T00:21:25.515Z"
   },
   {
    "duration": 9,
    "start_time": "2024-05-22T00:21:25.974Z"
   },
   {
    "duration": 27,
    "start_time": "2024-05-22T00:21:26.253Z"
   },
   {
    "duration": 40,
    "start_time": "2024-05-22T00:21:26.522Z"
   },
   {
    "duration": 4,
    "start_time": "2024-05-22T00:21:26.912Z"
   },
   {
    "duration": 16,
    "start_time": "2024-05-22T00:21:28.140Z"
   },
   {
    "duration": 113,
    "start_time": "2024-05-22T00:21:28.506Z"
   },
   {
    "duration": 152,
    "start_time": "2024-05-22T00:21:28.853Z"
   },
   {
    "duration": 8,
    "start_time": "2024-05-22T00:21:29.187Z"
   },
   {
    "duration": 8,
    "start_time": "2024-05-22T00:21:29.590Z"
   },
   {
    "duration": 23,
    "start_time": "2024-05-22T00:21:29.969Z"
   },
   {
    "duration": 25,
    "start_time": "2024-05-22T00:21:30.315Z"
   },
   {
    "duration": 11,
    "start_time": "2024-05-22T00:21:30.665Z"
   },
   {
    "duration": 4,
    "start_time": "2024-05-22T00:21:30.946Z"
   },
   {
    "duration": 23,
    "start_time": "2024-05-22T00:21:31.327Z"
   },
   {
    "duration": 4,
    "start_time": "2024-05-22T00:21:38.154Z"
   },
   {
    "duration": 8,
    "start_time": "2024-05-22T00:21:40.291Z"
   },
   {
    "duration": 4,
    "start_time": "2024-05-22T00:21:42.520Z"
   },
   {
    "duration": 503,
    "start_time": "2024-05-22T00:21:45.154Z"
   },
   {
    "duration": 0,
    "start_time": "2024-05-22T00:22:57.273Z"
   },
   {
    "duration": 0,
    "start_time": "2024-05-22T00:22:57.275Z"
   },
   {
    "duration": 0,
    "start_time": "2024-05-22T00:22:57.277Z"
   },
   {
    "duration": 0,
    "start_time": "2024-05-22T00:22:57.279Z"
   },
   {
    "duration": 0,
    "start_time": "2024-05-22T00:22:57.281Z"
   },
   {
    "duration": 0,
    "start_time": "2024-05-22T00:22:57.283Z"
   },
   {
    "duration": 4,
    "start_time": "2024-05-22T00:22:59.779Z"
   },
   {
    "duration": 10,
    "start_time": "2024-05-22T00:23:00.840Z"
   },
   {
    "duration": 4,
    "start_time": "2024-05-22T00:23:01.778Z"
   },
   {
    "duration": 307,
    "start_time": "2024-05-22T00:23:03.876Z"
   },
   {
    "duration": 86643,
    "start_time": "2024-05-22T00:23:07.514Z"
   },
   {
    "duration": 9968,
    "start_time": "2024-05-22T00:24:34.161Z"
   },
   {
    "duration": 3337,
    "start_time": "2024-05-22T00:24:44.132Z"
   },
   {
    "duration": 0,
    "start_time": "2024-05-22T00:24:47.472Z"
   },
   {
    "duration": 297,
    "start_time": "2024-05-22T00:25:44.511Z"
   },
   {
    "duration": 279,
    "start_time": "2024-05-22T00:26:00.658Z"
   },
   {
    "duration": 2843,
    "start_time": "2024-05-22T00:26:07.699Z"
   },
   {
    "duration": 55,
    "start_time": "2024-05-22T00:26:13.458Z"
   },
   {
    "duration": 88856,
    "start_time": "2024-05-22T00:27:18.131Z"
   },
   {
    "duration": 5012,
    "start_time": "2024-05-22T05:02:48.750Z"
   },
   {
    "duration": 88,
    "start_time": "2024-05-22T05:03:34.430Z"
   },
   {
    "duration": 43,
    "start_time": "2024-05-22T05:03:34.807Z"
   },
   {
    "duration": 33,
    "start_time": "2024-05-22T05:03:35.141Z"
   },
   {
    "duration": 6,
    "start_time": "2024-05-22T05:03:35.403Z"
   },
   {
    "duration": 8,
    "start_time": "2024-05-22T05:03:35.905Z"
   },
   {
    "duration": 4,
    "start_time": "2024-05-22T05:03:35.981Z"
   },
   {
    "duration": 17,
    "start_time": "2024-05-22T05:03:36.066Z"
   },
   {
    "duration": 30,
    "start_time": "2024-05-22T05:03:36.152Z"
   },
   {
    "duration": 7,
    "start_time": "2024-05-22T05:03:36.241Z"
   },
   {
    "duration": 14,
    "start_time": "2024-05-22T05:03:36.390Z"
   },
   {
    "duration": 5,
    "start_time": "2024-05-22T05:03:36.418Z"
   },
   {
    "duration": 9,
    "start_time": "2024-05-22T05:03:36.525Z"
   },
   {
    "duration": 244,
    "start_time": "2024-05-22T05:03:36.630Z"
   },
   {
    "duration": 9,
    "start_time": "2024-05-22T05:03:36.877Z"
   },
   {
    "duration": 24,
    "start_time": "2024-05-22T05:03:36.889Z"
   },
   {
    "duration": 7,
    "start_time": "2024-05-22T05:03:36.916Z"
   },
   {
    "duration": 7,
    "start_time": "2024-05-22T05:03:36.984Z"
   },
   {
    "duration": 17,
    "start_time": "2024-05-22T05:03:37.039Z"
   },
   {
    "duration": 8,
    "start_time": "2024-05-22T05:03:37.079Z"
   },
   {
    "duration": 26,
    "start_time": "2024-05-22T05:03:37.276Z"
   },
   {
    "duration": 35,
    "start_time": "2024-05-22T05:03:37.342Z"
   },
   {
    "duration": 3,
    "start_time": "2024-05-22T05:03:37.393Z"
   },
   {
    "duration": 11,
    "start_time": "2024-05-22T05:03:38.006Z"
   },
   {
    "duration": 112,
    "start_time": "2024-05-22T05:03:38.395Z"
   },
   {
    "duration": 152,
    "start_time": "2024-05-22T05:03:38.688Z"
   },
   {
    "duration": 6,
    "start_time": "2024-05-22T05:03:38.991Z"
   },
   {
    "duration": 8,
    "start_time": "2024-05-22T05:03:39.241Z"
   },
   {
    "duration": 20,
    "start_time": "2024-05-22T05:03:39.555Z"
   },
   {
    "duration": 23,
    "start_time": "2024-05-22T05:03:39.898Z"
   },
   {
    "duration": 6,
    "start_time": "2024-05-22T05:03:40.193Z"
   },
   {
    "duration": 3,
    "start_time": "2024-05-22T05:03:40.840Z"
   },
   {
    "duration": 23,
    "start_time": "2024-05-22T05:03:41.227Z"
   },
   {
    "duration": 3,
    "start_time": "2024-05-22T05:03:43.269Z"
   },
   {
    "duration": 3,
    "start_time": "2024-05-22T05:03:44.458Z"
   },
   {
    "duration": 13,
    "start_time": "2024-05-22T05:03:45.074Z"
   },
   {
    "duration": 4,
    "start_time": "2024-05-22T05:03:47.607Z"
   },
   {
    "duration": 215,
    "start_time": "2024-05-22T05:03:50.828Z"
   },
   {
    "duration": 1158,
    "start_time": "2024-05-22T05:04:43.474Z"
   },
   {
    "duration": 2922267,
    "start_time": "2024-05-22T05:07:14.779Z"
   },
   {
    "duration": 44,
    "start_time": "2024-05-22T05:57:03.507Z"
   },
   {
    "duration": 48198,
    "start_time": "2024-05-22T05:57:10.914Z"
   },
   {
    "duration": 97,
    "start_time": "2024-05-22T05:57:59.115Z"
   },
   {
    "duration": 1129,
    "start_time": "2024-05-22T05:58:33.718Z"
   },
   {
    "duration": 229,
    "start_time": "2024-05-22T05:59:04.139Z"
   },
   {
    "duration": 236,
    "start_time": "2024-05-22T05:59:18.005Z"
   },
   {
    "duration": 5110,
    "start_time": "2024-05-22T16:44:07.188Z"
   },
   {
    "duration": 82,
    "start_time": "2024-05-22T16:44:12.301Z"
   },
   {
    "duration": 42,
    "start_time": "2024-05-22T16:44:14.374Z"
   },
   {
    "duration": 31,
    "start_time": "2024-05-22T16:44:14.731Z"
   },
   {
    "duration": 5,
    "start_time": "2024-05-22T16:44:15.146Z"
   },
   {
    "duration": 9,
    "start_time": "2024-05-22T16:44:15.496Z"
   },
   {
    "duration": 4,
    "start_time": "2024-05-22T16:44:15.770Z"
   },
   {
    "duration": 18,
    "start_time": "2024-05-22T16:44:16.259Z"
   },
   {
    "duration": 26,
    "start_time": "2024-05-22T16:44:17.004Z"
   },
   {
    "duration": 8,
    "start_time": "2024-05-22T16:44:17.222Z"
   },
   {
    "duration": 15,
    "start_time": "2024-05-22T16:44:17.565Z"
   },
   {
    "duration": 5,
    "start_time": "2024-05-22T16:44:18.319Z"
   },
   {
    "duration": 7,
    "start_time": "2024-05-22T16:44:18.578Z"
   },
   {
    "duration": 177,
    "start_time": "2024-05-22T16:44:18.916Z"
   },
   {
    "duration": 11,
    "start_time": "2024-05-22T16:44:19.379Z"
   },
   {
    "duration": 9,
    "start_time": "2024-05-22T16:44:19.740Z"
   },
   {
    "duration": 7,
    "start_time": "2024-05-22T16:44:20.164Z"
   },
   {
    "duration": 7,
    "start_time": "2024-05-22T16:44:20.648Z"
   },
   {
    "duration": 17,
    "start_time": "2024-05-22T16:44:20.735Z"
   },
   {
    "duration": 9,
    "start_time": "2024-05-22T16:44:20.821Z"
   },
   {
    "duration": 25,
    "start_time": "2024-05-22T16:44:20.960Z"
   },
   {
    "duration": 36,
    "start_time": "2024-05-22T16:44:21.852Z"
   },
   {
    "duration": 4,
    "start_time": "2024-05-22T16:44:22.176Z"
   },
   {
    "duration": 472,
    "start_time": "2024-05-22T16:46:17.788Z"
   },
   {
    "duration": 11,
    "start_time": "2024-05-22T16:46:35.861Z"
   },
   {
    "duration": 10,
    "start_time": "2024-05-22T16:46:36.346Z"
   },
   {
    "duration": 4,
    "start_time": "2024-05-22T16:46:36.567Z"
   },
   {
    "duration": 4,
    "start_time": "2024-05-22T16:46:37.419Z"
   },
   {
    "duration": 11,
    "start_time": "2024-05-22T16:46:38.121Z"
   },
   {
    "duration": 120,
    "start_time": "2024-05-22T16:46:38.412Z"
   },
   {
    "duration": 151,
    "start_time": "2024-05-22T16:46:38.618Z"
   },
   {
    "duration": 4,
    "start_time": "2024-05-22T16:46:39.547Z"
   },
   {
    "duration": 9,
    "start_time": "2024-05-22T16:46:39.879Z"
   },
   {
    "duration": 20,
    "start_time": "2024-05-22T16:46:40.815Z"
   },
   {
    "duration": 14,
    "start_time": "2024-05-22T16:46:41.134Z"
   },
   {
    "duration": 6,
    "start_time": "2024-05-22T16:46:41.707Z"
   },
   {
    "duration": 15,
    "start_time": "2024-05-22T16:46:48.474Z"
   },
   {
    "duration": 7,
    "start_time": "2024-05-22T16:46:51.286Z"
   },
   {
    "duration": 4,
    "start_time": "2024-05-22T16:47:45.299Z"
   },
   {
    "duration": 4,
    "start_time": "2024-05-22T16:47:45.857Z"
   },
   {
    "duration": 8,
    "start_time": "2024-05-22T16:47:47.802Z"
   },
   {
    "duration": 4,
    "start_time": "2024-05-22T16:47:49.360Z"
   },
   {
    "duration": 4,
    "start_time": "2024-05-22T16:48:53.042Z"
   },
   {
    "duration": 4,
    "start_time": "2024-05-22T16:48:53.398Z"
   },
   {
    "duration": 8,
    "start_time": "2024-05-22T16:48:53.696Z"
   },
   {
    "duration": 3,
    "start_time": "2024-05-22T16:48:59.024Z"
   },
   {
    "duration": 201,
    "start_time": "2024-05-22T16:49:00.518Z"
   },
   {
    "duration": 84726,
    "start_time": "2024-05-22T16:49:08.584Z"
   },
   {
    "duration": 9903,
    "start_time": "2024-05-22T16:50:33.313Z"
   },
   {
    "duration": 523,
    "start_time": "2024-05-22T16:50:43.219Z"
   },
   {
    "duration": 293,
    "start_time": "2024-05-22T16:50:43.745Z"
   },
   {
    "duration": 134,
    "start_time": "2024-05-22T16:50:52.126Z"
   },
   {
    "duration": 2016829,
    "start_time": "2024-05-22T16:51:09.755Z"
   },
   {
    "duration": 6,
    "start_time": "2024-05-22T17:32:53.950Z"
   },
   {
    "duration": 0,
    "start_time": "2024-05-22T18:01:10.367Z"
   },
   {
    "duration": 7,
    "start_time": "2024-05-22T18:01:14.082Z"
   },
   {
    "duration": 2376076,
    "start_time": "2024-05-22T18:01:15.919Z"
   },
   {
    "duration": 10531,
    "start_time": "2024-05-22T18:41:41.170Z"
   },
   {
    "duration": 58350,
    "start_time": "2024-05-22T18:43:16.386Z"
   },
   {
    "duration": 10557,
    "start_time": "2024-05-22T18:44:40.278Z"
   },
   {
    "duration": 28835,
    "start_time": "2024-05-22T18:45:08.717Z"
   },
   {
    "duration": 872314,
    "start_time": "2024-05-22T18:47:04.580Z"
   },
   {
    "duration": 0,
    "start_time": "2024-05-22T19:04:58.708Z"
   },
   {
    "duration": 439729,
    "start_time": "2024-05-22T19:05:16.106Z"
   },
   {
    "duration": 36361,
    "start_time": "2024-05-22T19:18:42.504Z"
   },
   {
    "duration": 443785,
    "start_time": "2024-05-22T19:20:43.227Z"
   },
   {
    "duration": 6436,
    "start_time": "2024-05-22T23:25:11.412Z"
   },
   {
    "duration": 99,
    "start_time": "2024-05-22T23:25:23.059Z"
   },
   {
    "duration": 46,
    "start_time": "2024-05-22T23:25:23.179Z"
   },
   {
    "duration": 52,
    "start_time": "2024-05-22T23:25:23.362Z"
   },
   {
    "duration": 6,
    "start_time": "2024-05-22T23:25:23.502Z"
   },
   {
    "duration": 12,
    "start_time": "2024-05-22T23:25:23.804Z"
   },
   {
    "duration": 5,
    "start_time": "2024-05-22T23:25:23.820Z"
   },
   {
    "duration": 24,
    "start_time": "2024-05-22T23:25:23.880Z"
   },
   {
    "duration": 36,
    "start_time": "2024-05-22T23:25:24.136Z"
   },
   {
    "duration": 8,
    "start_time": "2024-05-22T23:25:24.333Z"
   },
   {
    "duration": 19,
    "start_time": "2024-05-22T23:25:24.621Z"
   },
   {
    "duration": 6,
    "start_time": "2024-05-22T23:25:24.786Z"
   },
   {
    "duration": 8,
    "start_time": "2024-05-22T23:25:25.311Z"
   },
   {
    "duration": 205,
    "start_time": "2024-05-22T23:25:25.386Z"
   },
   {
    "duration": 11,
    "start_time": "2024-05-22T23:25:25.594Z"
   },
   {
    "duration": 28,
    "start_time": "2024-05-22T23:25:25.609Z"
   },
   {
    "duration": 8,
    "start_time": "2024-05-22T23:25:25.648Z"
   },
   {
    "duration": 10,
    "start_time": "2024-05-22T23:25:26.030Z"
   },
   {
    "duration": 18,
    "start_time": "2024-05-22T23:25:26.264Z"
   },
   {
    "duration": 10,
    "start_time": "2024-05-22T23:25:26.451Z"
   },
   {
    "duration": 28,
    "start_time": "2024-05-22T23:25:26.662Z"
   },
   {
    "duration": 48,
    "start_time": "2024-05-22T23:25:27.572Z"
   },
   {
    "duration": 4,
    "start_time": "2024-05-22T23:25:27.891Z"
   },
   {
    "duration": 12,
    "start_time": "2024-05-22T23:25:28.471Z"
   },
   {
    "duration": 274,
    "start_time": "2024-05-22T23:25:29.575Z"
   },
   {
    "duration": 165,
    "start_time": "2024-05-22T23:25:30.120Z"
   },
   {
    "duration": 7,
    "start_time": "2024-05-22T23:25:30.708Z"
   },
   {
    "duration": 9,
    "start_time": "2024-05-22T23:25:30.719Z"
   },
   {
    "duration": 21,
    "start_time": "2024-05-22T23:25:31.153Z"
   },
   {
    "duration": 17,
    "start_time": "2024-05-22T23:25:31.401Z"
   },
   {
    "duration": 4,
    "start_time": "2024-05-22T23:25:33.209Z"
   },
   {
    "duration": 4,
    "start_time": "2024-05-22T23:25:33.484Z"
   },
   {
    "duration": 9,
    "start_time": "2024-05-22T23:25:33.704Z"
   },
   {
    "duration": 4,
    "start_time": "2024-05-22T23:25:34.846Z"
   },
   {
    "duration": 262,
    "start_time": "2024-05-22T23:25:37.107Z"
   },
   {
    "duration": 87322,
    "start_time": "2024-05-22T23:25:37.517Z"
   },
   {
    "duration": 11769,
    "start_time": "2024-05-22T23:27:04.844Z"
   },
   {
    "duration": 487,
    "start_time": "2024-05-22T23:28:32.879Z"
   },
   {
    "duration": 7,
    "start_time": "2024-05-22T23:36:52.807Z"
   },
   {
    "duration": 6,
    "start_time": "2024-05-22T23:38:23.665Z"
   },
   {
    "duration": 76,
    "start_time": "2024-05-22T23:38:35.977Z"
   },
   {
    "duration": 23,
    "start_time": "2024-05-22T23:38:49.782Z"
   },
   {
    "duration": 8,
    "start_time": "2024-05-22T23:38:58.022Z"
   },
   {
    "duration": 4,
    "start_time": "2024-05-22T23:38:58.314Z"
   },
   {
    "duration": 8,
    "start_time": "2024-05-22T23:38:58.631Z"
   },
   {
    "duration": 4,
    "start_time": "2024-05-22T23:39:00.173Z"
   },
   {
    "duration": 221,
    "start_time": "2024-05-22T23:39:06.219Z"
   },
   {
    "duration": 23,
    "start_time": "2024-05-22T23:40:04.635Z"
   },
   {
    "duration": 140553,
    "start_time": "2024-05-22T23:40:07.237Z"
   },
   {
    "duration": 162279,
    "start_time": "2024-05-22T23:43:29.411Z"
   },
   {
    "duration": 23591,
    "start_time": "2024-05-22T23:48:26.402Z"
   },
   {
    "duration": 159975,
    "start_time": "2024-05-22T23:51:11.024Z"
   },
   {
    "duration": 86685,
    "start_time": "2024-05-22T23:53:57.762Z"
   },
   {
    "duration": 32,
    "start_time": "2024-05-22T23:59:46.087Z"
   },
   {
    "duration": 6,
    "start_time": "2024-05-23T00:01:00.976Z"
   },
   {
    "duration": 29,
    "start_time": "2024-05-23T00:01:08.964Z"
   },
   {
    "duration": 751,
    "start_time": "2024-05-23T00:02:02.941Z"
   },
   {
    "duration": 19,
    "start_time": "2024-05-23T00:02:07.443Z"
   },
   {
    "duration": 34,
    "start_time": "2024-05-23T00:02:26.152Z"
   },
   {
    "duration": 6,
    "start_time": "2024-05-23T00:02:42.895Z"
   },
   {
    "duration": 59,
    "start_time": "2024-05-23T00:02:43.479Z"
   },
   {
    "duration": 40,
    "start_time": "2024-05-23T00:02:43.546Z"
   },
   {
    "duration": 43,
    "start_time": "2024-05-23T00:02:43.693Z"
   },
   {
    "duration": 7,
    "start_time": "2024-05-23T00:02:43.765Z"
   },
   {
    "duration": 10,
    "start_time": "2024-05-23T00:02:44.114Z"
   },
   {
    "duration": 4,
    "start_time": "2024-05-23T00:02:44.850Z"
   },
   {
    "duration": 24,
    "start_time": "2024-05-23T00:02:44.860Z"
   },
   {
    "duration": 30,
    "start_time": "2024-05-23T00:02:45.027Z"
   },
   {
    "duration": 9,
    "start_time": "2024-05-23T00:02:45.561Z"
   },
   {
    "duration": 16,
    "start_time": "2024-05-23T00:02:45.814Z"
   },
   {
    "duration": 11,
    "start_time": "2024-05-23T00:02:46.048Z"
   },
   {
    "duration": 7,
    "start_time": "2024-05-23T00:02:46.191Z"
   },
   {
    "duration": 191,
    "start_time": "2024-05-23T00:02:46.419Z"
   },
   {
    "duration": 12,
    "start_time": "2024-05-23T00:02:46.643Z"
   },
   {
    "duration": 9,
    "start_time": "2024-05-23T00:02:46.877Z"
   },
   {
    "duration": 12,
    "start_time": "2024-05-23T00:02:47.070Z"
   },
   {
    "duration": 8,
    "start_time": "2024-05-23T00:02:47.241Z"
   },
   {
    "duration": 22,
    "start_time": "2024-05-23T00:02:47.633Z"
   },
   {
    "duration": 6,
    "start_time": "2024-05-23T00:03:04.360Z"
   },
   {
    "duration": 55,
    "start_time": "2024-05-23T00:03:04.979Z"
   },
   {
    "duration": 46,
    "start_time": "2024-05-23T00:03:05.069Z"
   },
   {
    "duration": 45,
    "start_time": "2024-05-23T00:03:05.172Z"
   },
   {
    "duration": 9,
    "start_time": "2024-05-23T00:03:05.222Z"
   },
   {
    "duration": 9,
    "start_time": "2024-05-23T00:03:05.415Z"
   },
   {
    "duration": 5,
    "start_time": "2024-05-23T00:03:05.427Z"
   },
   {
    "duration": 27,
    "start_time": "2024-05-23T00:03:05.956Z"
   },
   {
    "duration": 30,
    "start_time": "2024-05-23T00:03:06.751Z"
   },
   {
    "duration": 10,
    "start_time": "2024-05-23T00:03:06.952Z"
   },
   {
    "duration": 22,
    "start_time": "2024-05-23T00:03:07.139Z"
   },
   {
    "duration": 5,
    "start_time": "2024-05-23T00:03:07.307Z"
   },
   {
    "duration": 6,
    "start_time": "2024-05-23T00:03:07.499Z"
   },
   {
    "duration": 188,
    "start_time": "2024-05-23T00:03:07.807Z"
   },
   {
    "duration": 9,
    "start_time": "2024-05-23T00:03:08.379Z"
   },
   {
    "duration": 8,
    "start_time": "2024-05-23T00:03:08.685Z"
   },
   {
    "duration": 8,
    "start_time": "2024-05-23T00:03:08.885Z"
   },
   {
    "duration": 4,
    "start_time": "2024-05-23T00:03:09.369Z"
   },
   {
    "duration": 24,
    "start_time": "2024-05-23T00:03:09.793Z"
   },
   {
    "duration": 28,
    "start_time": "2024-05-23T00:03:23.371Z"
   },
   {
    "duration": 25,
    "start_time": "2024-05-23T00:03:26.813Z"
   },
   {
    "duration": 9,
    "start_time": "2024-05-23T00:03:32.939Z"
   },
   {
    "duration": 33,
    "start_time": "2024-05-23T00:03:34.605Z"
   },
   {
    "duration": 27,
    "start_time": "2024-05-23T00:03:48.059Z"
   },
   {
    "duration": 49,
    "start_time": "2024-05-23T00:03:56.351Z"
   },
   {
    "duration": 11,
    "start_time": "2024-05-23T00:03:59.653Z"
   },
   {
    "duration": 31,
    "start_time": "2024-05-23T00:04:05.506Z"
   },
   {
    "duration": 44,
    "start_time": "2024-05-23T00:04:08.483Z"
   },
   {
    "duration": 4,
    "start_time": "2024-05-23T00:04:08.902Z"
   },
   {
    "duration": 36,
    "start_time": "2024-05-23T00:06:51.068Z"
   },
   {
    "duration": 10,
    "start_time": "2024-05-23T00:07:31.667Z"
   },
   {
    "duration": 8,
    "start_time": "2024-05-23T00:07:33.929Z"
   },
   {
    "duration": 7,
    "start_time": "2024-05-23T00:08:15.529Z"
   },
   {
    "duration": 40,
    "start_time": "2024-05-23T00:08:18.533Z"
   },
   {
    "duration": 8,
    "start_time": "2024-05-23T00:08:40.463Z"
   },
   {
    "duration": 15,
    "start_time": "2024-05-23T00:08:47.079Z"
   },
   {
    "duration": 5,
    "start_time": "2024-05-23T00:09:27.566Z"
   },
   {
    "duration": 498,
    "start_time": "2024-05-23T00:09:40.409Z"
   },
   {
    "duration": 8,
    "start_time": "2024-05-23T00:09:46.738Z"
   },
   {
    "duration": 20,
    "start_time": "2024-05-23T00:09:52.685Z"
   },
   {
    "duration": 5,
    "start_time": "2024-05-23T00:10:10.255Z"
   },
   {
    "duration": 13,
    "start_time": "2024-05-23T00:10:12.363Z"
   },
   {
    "duration": 4,
    "start_time": "2024-05-23T00:10:13.516Z"
   },
   {
    "duration": 5,
    "start_time": "2024-05-23T00:10:18.385Z"
   },
   {
    "duration": 14,
    "start_time": "2024-05-23T00:10:18.649Z"
   },
   {
    "duration": 4,
    "start_time": "2024-05-23T00:10:18.942Z"
   },
   {
    "duration": 13,
    "start_time": "2024-05-23T00:10:20.270Z"
   },
   {
    "duration": 4,
    "start_time": "2024-05-23T00:10:29.966Z"
   },
   {
    "duration": 154,
    "start_time": "2024-05-23T00:10:30.300Z"
   },
   {
    "duration": 43,
    "start_time": "2024-05-23T00:10:30.617Z"
   },
   {
    "duration": 5,
    "start_time": "2024-05-23T00:10:31.060Z"
   },
   {
    "duration": 19,
    "start_time": "2024-05-23T00:10:32.558Z"
   },
   {
    "duration": 7,
    "start_time": "2024-05-23T00:10:35.042Z"
   },
   {
    "duration": 10,
    "start_time": "2024-05-23T00:10:35.876Z"
   },
   {
    "duration": 27,
    "start_time": "2024-05-23T00:10:36.492Z"
   },
   {
    "duration": 28,
    "start_time": "2024-05-23T00:10:36.615Z"
   },
   {
    "duration": 261,
    "start_time": "2024-05-23T00:10:57.592Z"
   },
   {
    "duration": 21,
    "start_time": "2024-05-23T00:10:58.150Z"
   },
   {
    "duration": 6,
    "start_time": "2024-05-23T00:11:02.913Z"
   },
   {
    "duration": 59,
    "start_time": "2024-05-23T00:11:03.856Z"
   },
   {
    "duration": 48,
    "start_time": "2024-05-23T00:11:03.919Z"
   },
   {
    "duration": 37,
    "start_time": "2024-05-23T00:11:03.970Z"
   },
   {
    "duration": 28,
    "start_time": "2024-05-23T00:11:04.010Z"
   },
   {
    "duration": 11,
    "start_time": "2024-05-23T00:11:04.056Z"
   },
   {
    "duration": 7,
    "start_time": "2024-05-23T00:11:04.077Z"
   },
   {
    "duration": 17,
    "start_time": "2024-05-23T00:11:04.122Z"
   },
   {
    "duration": 32,
    "start_time": "2024-05-23T00:11:04.147Z"
   },
   {
    "duration": 9,
    "start_time": "2024-05-23T00:11:04.208Z"
   },
   {
    "duration": 17,
    "start_time": "2024-05-23T00:11:04.431Z"
   },
   {
    "duration": 10,
    "start_time": "2024-05-23T00:11:04.680Z"
   },
   {
    "duration": 6,
    "start_time": "2024-05-23T00:11:04.890Z"
   },
   {
    "duration": 291,
    "start_time": "2024-05-23T00:11:05.275Z"
   },
   {
    "duration": 13,
    "start_time": "2024-05-23T00:11:05.569Z"
   },
   {
    "duration": 9,
    "start_time": "2024-05-23T00:11:06.052Z"
   },
   {
    "duration": 10,
    "start_time": "2024-05-23T00:11:06.066Z"
   },
   {
    "duration": 9,
    "start_time": "2024-05-23T00:11:06.729Z"
   },
   {
    "duration": 22,
    "start_time": "2024-05-23T00:11:06.945Z"
   },
   {
    "duration": 9,
    "start_time": "2024-05-23T00:11:07.566Z"
   },
   {
    "duration": 28,
    "start_time": "2024-05-23T00:11:07.580Z"
   },
   {
    "duration": 6,
    "start_time": "2024-05-23T00:11:07.855Z"
   },
   {
    "duration": 47,
    "start_time": "2024-05-23T00:11:08.383Z"
   },
   {
    "duration": 3,
    "start_time": "2024-05-23T00:11:08.683Z"
   },
   {
    "duration": 14,
    "start_time": "2024-05-23T00:11:09.235Z"
   },
   {
    "duration": 4,
    "start_time": "2024-05-23T00:11:09.495Z"
   },
   {
    "duration": 148,
    "start_time": "2024-05-23T00:11:09.642Z"
   },
   {
    "duration": 32,
    "start_time": "2024-05-23T00:11:09.974Z"
   },
   {
    "duration": 6,
    "start_time": "2024-05-23T00:11:10.412Z"
   },
   {
    "duration": 20,
    "start_time": "2024-05-23T00:11:10.776Z"
   },
   {
    "duration": 24,
    "start_time": "2024-05-23T00:11:13.647Z"
   },
   {
    "duration": 10,
    "start_time": "2024-05-23T00:11:13.970Z"
   },
   {
    "duration": 130,
    "start_time": "2024-05-23T00:11:14.212Z"
   },
   {
    "duration": 28,
    "start_time": "2024-05-23T00:11:14.374Z"
   },
   {
    "duration": 5,
    "start_time": "2024-05-23T00:11:14.627Z"
   },
   {
    "duration": 26,
    "start_time": "2024-05-23T00:11:16.303Z"
   },
   {
    "duration": 28867,
    "start_time": "2024-05-23T00:11:22.336Z"
   },
   {
    "duration": 4,
    "start_time": "2024-05-23T00:11:59.189Z"
   },
   {
    "duration": 5,
    "start_time": "2024-05-23T00:11:59.554Z"
   },
   {
    "duration": 9,
    "start_time": "2024-05-23T00:12:00.048Z"
   },
   {
    "duration": 4,
    "start_time": "2024-05-23T00:12:02.616Z"
   },
   {
    "duration": 132338,
    "start_time": "2024-05-23T00:12:07.218Z"
   },
   {
    "duration": 0,
    "start_time": "2024-05-23T00:14:19.562Z"
   },
   {
    "duration": 1548,
    "start_time": "2024-05-23T00:14:42.021Z"
   },
   {
    "duration": 65,
    "start_time": "2024-05-23T00:14:43.573Z"
   },
   {
    "duration": 54,
    "start_time": "2024-05-23T00:14:43.643Z"
   },
   {
    "duration": 64,
    "start_time": "2024-05-23T00:14:43.703Z"
   },
   {
    "duration": 6,
    "start_time": "2024-05-23T00:14:43.989Z"
   },
   {
    "duration": 10,
    "start_time": "2024-05-23T00:14:44.000Z"
   },
   {
    "duration": 4,
    "start_time": "2024-05-23T00:14:44.014Z"
   },
   {
    "duration": 84,
    "start_time": "2024-05-23T00:14:44.154Z"
   },
   {
    "duration": 31,
    "start_time": "2024-05-23T00:14:44.326Z"
   },
   {
    "duration": 8,
    "start_time": "2024-05-23T00:14:44.946Z"
   },
   {
    "duration": 17,
    "start_time": "2024-05-23T00:14:45.232Z"
   },
   {
    "duration": 6,
    "start_time": "2024-05-23T00:14:45.254Z"
   },
   {
    "duration": 7,
    "start_time": "2024-05-23T00:14:45.747Z"
   },
   {
    "duration": 227,
    "start_time": "2024-05-23T00:14:46.850Z"
   },
   {
    "duration": 10,
    "start_time": "2024-05-23T00:14:47.234Z"
   },
   {
    "duration": 11,
    "start_time": "2024-05-23T00:14:47.476Z"
   },
   {
    "duration": 8,
    "start_time": "2024-05-23T00:14:47.656Z"
   },
   {
    "duration": 7,
    "start_time": "2024-05-23T00:14:47.833Z"
   },
   {
    "duration": 19,
    "start_time": "2024-05-23T00:14:48.579Z"
   },
   {
    "duration": 9,
    "start_time": "2024-05-23T00:14:48.857Z"
   },
   {
    "duration": 28,
    "start_time": "2024-05-23T00:14:49.476Z"
   },
   {
    "duration": 8,
    "start_time": "2024-05-23T00:14:50.494Z"
   },
   {
    "duration": 42,
    "start_time": "2024-05-23T00:14:50.897Z"
   },
   {
    "duration": 4,
    "start_time": "2024-05-23T00:14:51.295Z"
   },
   {
    "duration": 15,
    "start_time": "2024-05-23T00:14:51.511Z"
   },
   {
    "duration": 123,
    "start_time": "2024-05-23T00:14:52.147Z"
   },
   {
    "duration": 167,
    "start_time": "2024-05-23T00:14:52.893Z"
   },
   {
    "duration": 31,
    "start_time": "2024-05-23T00:14:53.448Z"
   },
   {
    "duration": 6,
    "start_time": "2024-05-23T00:14:53.951Z"
   },
   {
    "duration": 18,
    "start_time": "2024-05-23T00:14:56.204Z"
   },
   {
    "duration": 5,
    "start_time": "2024-05-23T00:14:58.458Z"
   },
   {
    "duration": 9,
    "start_time": "2024-05-23T00:14:58.996Z"
   },
   {
    "duration": 21,
    "start_time": "2024-05-23T00:14:59.053Z"
   },
   {
    "duration": 22,
    "start_time": "2024-05-23T00:14:59.456Z"
   },
   {
    "duration": 12,
    "start_time": "2024-05-23T00:15:00.814Z"
   },
   {
    "duration": 26,
    "start_time": "2024-05-23T00:15:01.373Z"
   },
   {
    "duration": 14,
    "start_time": "2024-05-23T00:15:02.721Z"
   },
   {
    "duration": 5,
    "start_time": "2024-05-23T00:15:39.119Z"
   },
   {
    "duration": 56,
    "start_time": "2024-05-23T00:15:39.670Z"
   },
   {
    "duration": 40,
    "start_time": "2024-05-23T00:15:39.845Z"
   },
   {
    "duration": 35,
    "start_time": "2024-05-23T00:15:40.097Z"
   },
   {
    "duration": 7,
    "start_time": "2024-05-23T00:15:40.244Z"
   },
   {
    "duration": 10,
    "start_time": "2024-05-23T00:15:40.445Z"
   },
   {
    "duration": 4,
    "start_time": "2024-05-23T00:15:40.648Z"
   },
   {
    "duration": 18,
    "start_time": "2024-05-23T00:15:40.827Z"
   },
   {
    "duration": 26,
    "start_time": "2024-05-23T00:15:41.006Z"
   },
   {
    "duration": 8,
    "start_time": "2024-05-23T00:15:41.191Z"
   },
   {
    "duration": 17,
    "start_time": "2024-05-23T00:15:41.457Z"
   },
   {
    "duration": 5,
    "start_time": "2024-05-23T00:15:41.581Z"
   },
   {
    "duration": 5,
    "start_time": "2024-05-23T00:15:41.781Z"
   },
   {
    "duration": 202,
    "start_time": "2024-05-23T00:15:41.958Z"
   },
   {
    "duration": 10,
    "start_time": "2024-05-23T00:15:42.163Z"
   },
   {
    "duration": 10,
    "start_time": "2024-05-23T00:15:42.320Z"
   },
   {
    "duration": 8,
    "start_time": "2024-05-23T00:15:42.526Z"
   },
   {
    "duration": 8,
    "start_time": "2024-05-23T00:15:42.704Z"
   },
   {
    "duration": 23,
    "start_time": "2024-05-23T00:15:42.875Z"
   },
   {
    "duration": 10,
    "start_time": "2024-05-23T00:15:43.303Z"
   },
   {
    "duration": 31,
    "start_time": "2024-05-23T00:15:43.318Z"
   },
   {
    "duration": 5,
    "start_time": "2024-05-23T00:15:44.055Z"
   },
   {
    "duration": 39,
    "start_time": "2024-05-23T00:15:44.402Z"
   },
   {
    "duration": 4,
    "start_time": "2024-05-23T00:15:45.038Z"
   },
   {
    "duration": 14,
    "start_time": "2024-05-23T00:15:45.409Z"
   },
   {
    "duration": 4,
    "start_time": "2024-05-23T00:15:45.884Z"
   },
   {
    "duration": 13,
    "start_time": "2024-05-23T00:15:57.647Z"
   },
   {
    "duration": 4,
    "start_time": "2024-05-23T00:15:58.090Z"
   },
   {
    "duration": 155,
    "start_time": "2024-05-23T00:15:58.554Z"
   },
   {
    "duration": 33,
    "start_time": "2024-05-23T00:15:59.033Z"
   },
   {
    "duration": 1163,
    "start_time": "2024-05-23T00:15:59.071Z"
   },
   {
    "duration": 19,
    "start_time": "2024-05-23T00:16:13.749Z"
   },
   {
    "duration": 6,
    "start_time": "2024-05-23T00:16:18.705Z"
   },
   {
    "duration": 10,
    "start_time": "2024-05-23T00:16:19.223Z"
   },
   {
    "duration": 22,
    "start_time": "2024-05-23T00:16:19.681Z"
   },
   {
    "duration": 17,
    "start_time": "2024-05-23T00:16:25.865Z"
   },
   {
    "duration": 6,
    "start_time": "2024-05-23T00:16:30.892Z"
   },
   {
    "duration": 26,
    "start_time": "2024-05-23T00:16:31.611Z"
   },
   {
    "duration": 14,
    "start_time": "2024-05-23T00:16:32.598Z"
   },
   {
    "duration": 37,
    "start_time": "2024-05-23T00:16:36.780Z"
   },
   {
    "duration": 4,
    "start_time": "2024-05-23T00:17:06.485Z"
   },
   {
    "duration": 4,
    "start_time": "2024-05-23T00:17:06.866Z"
   },
   {
    "duration": 11,
    "start_time": "2024-05-23T00:17:09.116Z"
   },
   {
    "duration": 5,
    "start_time": "2024-05-23T00:17:10.214Z"
   },
   {
    "duration": 286218,
    "start_time": "2024-05-23T00:17:14.706Z"
   },
   {
    "duration": 7,
    "start_time": "2024-05-23T00:22:38.585Z"
   },
   {
    "duration": 64,
    "start_time": "2024-05-23T00:22:39.845Z"
   },
   {
    "duration": 50,
    "start_time": "2024-05-23T00:22:40.828Z"
   },
   {
    "duration": 63,
    "start_time": "2024-05-23T00:22:40.883Z"
   },
   {
    "duration": 7,
    "start_time": "2024-05-23T00:22:40.949Z"
   },
   {
    "duration": 10,
    "start_time": "2024-05-23T00:22:41.078Z"
   },
   {
    "duration": 5,
    "start_time": "2024-05-23T00:22:41.478Z"
   },
   {
    "duration": 19,
    "start_time": "2024-05-23T00:22:41.784Z"
   },
   {
    "duration": 31,
    "start_time": "2024-05-23T00:22:42.081Z"
   },
   {
    "duration": 10,
    "start_time": "2024-05-23T00:22:42.844Z"
   },
   {
    "duration": 16,
    "start_time": "2024-05-23T00:22:42.857Z"
   },
   {
    "duration": 11,
    "start_time": "2024-05-23T00:22:43.098Z"
   },
   {
    "duration": 6,
    "start_time": "2024-05-23T00:22:43.472Z"
   },
   {
    "duration": 193,
    "start_time": "2024-05-23T00:22:43.806Z"
   },
   {
    "duration": 11,
    "start_time": "2024-05-23T00:22:44.144Z"
   },
   {
    "duration": 11,
    "start_time": "2024-05-23T00:22:44.499Z"
   },
   {
    "duration": 10,
    "start_time": "2024-05-23T00:22:44.881Z"
   },
   {
    "duration": 7,
    "start_time": "2024-05-23T00:22:45.176Z"
   },
   {
    "duration": 20,
    "start_time": "2024-05-23T00:22:45.621Z"
   },
   {
    "duration": 11,
    "start_time": "2024-05-23T00:22:46.020Z"
   },
   {
    "duration": 28,
    "start_time": "2024-05-23T00:22:46.352Z"
   },
   {
    "duration": 6,
    "start_time": "2024-05-23T00:22:46.951Z"
   },
   {
    "duration": 50,
    "start_time": "2024-05-23T00:22:47.289Z"
   },
   {
    "duration": 5,
    "start_time": "2024-05-23T00:22:47.858Z"
   },
   {
    "duration": 12,
    "start_time": "2024-05-23T00:22:48.587Z"
   },
   {
    "duration": 9,
    "start_time": "2024-05-23T00:22:49.313Z"
   },
   {
    "duration": 166,
    "start_time": "2024-05-23T00:22:49.327Z"
   },
   {
    "duration": 39,
    "start_time": "2024-05-23T00:22:49.909Z"
   },
   {
    "duration": 22,
    "start_time": "2024-05-23T00:22:50.612Z"
   },
   {
    "duration": 7,
    "start_time": "2024-05-23T00:22:51.058Z"
   },
   {
    "duration": 9,
    "start_time": "2024-05-23T00:22:51.428Z"
   },
   {
    "duration": 21,
    "start_time": "2024-05-23T00:22:51.699Z"
   },
   {
    "duration": 17,
    "start_time": "2024-05-23T00:22:52.549Z"
   },
   {
    "duration": 6,
    "start_time": "2024-05-23T00:22:52.602Z"
   },
   {
    "duration": 23,
    "start_time": "2024-05-23T00:22:52.773Z"
   },
   {
    "duration": 16,
    "start_time": "2024-05-23T00:22:53.287Z"
   },
   {
    "duration": 4,
    "start_time": "2024-05-23T00:22:54.903Z"
   },
   {
    "duration": 4,
    "start_time": "2024-05-23T00:22:55.201Z"
   },
   {
    "duration": 11,
    "start_time": "2024-05-23T00:22:55.635Z"
   },
   {
    "duration": 4,
    "start_time": "2024-05-23T00:22:57.098Z"
   },
   {
    "duration": 105715,
    "start_time": "2024-05-23T00:22:59.843Z"
   },
   {
    "duration": 2038,
    "start_time": "2024-05-23T00:26:16.414Z"
   },
   {
    "duration": 15,
    "start_time": "2024-05-23T00:26:20.207Z"
   },
   {
    "duration": 14,
    "start_time": "2024-05-23T00:26:28.712Z"
   },
   {
    "duration": 2042,
    "start_time": "2024-05-23T00:26:53.809Z"
   },
   {
    "duration": 14,
    "start_time": "2024-05-23T00:26:57.816Z"
   },
   {
    "duration": 1481,
    "start_time": "2024-05-23T00:27:25.809Z"
   },
   {
    "duration": 7,
    "start_time": "2024-05-23T00:27:34.322Z"
   },
   {
    "duration": 15,
    "start_time": "2024-05-23T00:27:48.252Z"
   },
   {
    "duration": 1804,
    "start_time": "2024-05-23T00:28:00.732Z"
   },
   {
    "duration": 8,
    "start_time": "2024-05-23T00:28:03.744Z"
   },
   {
    "duration": 15,
    "start_time": "2024-05-23T00:28:11.108Z"
   },
   {
    "duration": 103081,
    "start_time": "2024-05-23T00:28:18.496Z"
   },
   {
    "duration": 13280,
    "start_time": "2024-05-23T00:30:01.583Z"
   },
   {
    "duration": 5,
    "start_time": "2024-05-23T00:30:29.478Z"
   },
   {
    "duration": 1808,
    "start_time": "2024-05-23T00:30:29.759Z"
   },
   {
    "duration": 14,
    "start_time": "2024-05-23T00:30:31.570Z"
   },
   {
    "duration": 4,
    "start_time": "2024-05-23T00:30:31.587Z"
   },
   {
    "duration": 43,
    "start_time": "2024-05-23T00:30:31.597Z"
   },
   {
    "duration": 3,
    "start_time": "2024-05-23T00:30:31.644Z"
   },
   {
    "duration": 162,
    "start_time": "2024-05-23T00:30:36.308Z"
   },
   {
    "duration": 42,
    "start_time": "2024-05-23T00:30:36.629Z"
   },
   {
    "duration": 19,
    "start_time": "2024-05-23T00:30:36.871Z"
   },
   {
    "duration": 6,
    "start_time": "2024-05-23T00:30:37.607Z"
   },
   {
    "duration": 14,
    "start_time": "2024-05-23T00:30:38.050Z"
   },
   {
    "duration": 21,
    "start_time": "2024-05-23T00:30:38.131Z"
   },
   {
    "duration": 20,
    "start_time": "2024-05-23T00:30:38.348Z"
   },
   {
    "duration": 11,
    "start_time": "2024-05-23T00:30:38.600Z"
   },
   {
    "duration": 29,
    "start_time": "2024-05-23T00:30:38.886Z"
   },
   {
    "duration": 20,
    "start_time": "2024-05-23T00:30:39.094Z"
   },
   {
    "duration": 4,
    "start_time": "2024-05-23T00:30:40.572Z"
   },
   {
    "duration": 4,
    "start_time": "2024-05-23T00:30:40.781Z"
   },
   {
    "duration": 11,
    "start_time": "2024-05-23T00:30:41.061Z"
   },
   {
    "duration": 7,
    "start_time": "2024-05-23T00:30:41.739Z"
   },
   {
    "duration": 242916,
    "start_time": "2024-05-23T00:30:43.798Z"
   },
   {
    "duration": 13689,
    "start_time": "2024-05-23T00:34:46.718Z"
   },
   {
    "duration": 13813,
    "start_time": "2024-05-23T00:35:13.450Z"
   },
   {
    "duration": 13763,
    "start_time": "2024-05-23T00:35:42.852Z"
   },
   {
    "duration": 673241,
    "start_time": "2024-05-23T00:36:28.233Z"
   },
   {
    "duration": 0,
    "start_time": "2024-05-23T00:47:41.478Z"
   },
   {
    "duration": 8,
    "start_time": "2024-05-23T00:47:59.436Z"
   },
   {
    "duration": 8,
    "start_time": "2024-05-23T00:48:33.413Z"
   },
   {
    "duration": 8,
    "start_time": "2024-05-23T00:49:24.368Z"
   },
   {
    "duration": 16,
    "start_time": "2024-05-23T00:49:45.622Z"
   },
   {
    "duration": 9,
    "start_time": "2024-05-23T00:49:48.868Z"
   },
   {
    "duration": 17,
    "start_time": "2024-05-23T00:49:53.594Z"
   },
   {
    "duration": 9,
    "start_time": "2024-05-23T00:49:55.627Z"
   },
   {
    "duration": 13,
    "start_time": "2024-05-23T00:50:04.113Z"
   },
   {
    "duration": 3,
    "start_time": "2024-05-23T00:50:06.443Z"
   },
   {
    "duration": 7,
    "start_time": "2024-05-23T00:50:06.696Z"
   },
   {
    "duration": 11,
    "start_time": "2024-05-23T00:50:06.999Z"
   },
   {
    "duration": 7,
    "start_time": "2024-05-23T00:50:11.170Z"
   },
   {
    "duration": 1726,
    "start_time": "2024-05-23T00:54:11.802Z"
   },
   {
    "duration": 65,
    "start_time": "2024-05-23T00:54:15.373Z"
   },
   {
    "duration": 47,
    "start_time": "2024-05-23T00:54:15.458Z"
   },
   {
    "duration": 39,
    "start_time": "2024-05-23T00:54:15.534Z"
   },
   {
    "duration": 8,
    "start_time": "2024-05-23T00:54:15.623Z"
   },
   {
    "duration": 11,
    "start_time": "2024-05-23T00:54:15.700Z"
   },
   {
    "duration": 5,
    "start_time": "2024-05-23T00:54:15.782Z"
   },
   {
    "duration": 95,
    "start_time": "2024-05-23T00:54:15.913Z"
   },
   {
    "duration": 45,
    "start_time": "2024-05-23T00:54:16.012Z"
   },
   {
    "duration": 11,
    "start_time": "2024-05-23T00:54:16.061Z"
   },
   {
    "duration": 17,
    "start_time": "2024-05-23T00:54:17.151Z"
   },
   {
    "duration": 6,
    "start_time": "2024-05-23T00:54:17.175Z"
   },
   {
    "duration": 7,
    "start_time": "2024-05-23T00:54:17.364Z"
   },
   {
    "duration": 193,
    "start_time": "2024-05-23T00:54:17.376Z"
   },
   {
    "duration": 11,
    "start_time": "2024-05-23T00:54:17.574Z"
   },
   {
    "duration": 11,
    "start_time": "2024-05-23T00:54:17.589Z"
   },
   {
    "duration": 36,
    "start_time": "2024-05-23T00:54:17.604Z"
   },
   {
    "duration": 7,
    "start_time": "2024-05-23T00:54:17.652Z"
   },
   {
    "duration": 19,
    "start_time": "2024-05-23T00:54:17.716Z"
   },
   {
    "duration": 9,
    "start_time": "2024-05-23T00:54:17.766Z"
   },
   {
    "duration": 29,
    "start_time": "2024-05-23T00:54:19.698Z"
   },
   {
    "duration": 7,
    "start_time": "2024-05-23T00:54:20.143Z"
   },
   {
    "duration": 1553,
    "start_time": "2024-05-23T00:54:20.386Z"
   },
   {
    "duration": 39,
    "start_time": "2024-05-23T00:54:21.943Z"
   },
   {
    "duration": 4,
    "start_time": "2024-05-23T00:54:21.987Z"
   },
   {
    "duration": 45,
    "start_time": "2024-05-23T00:54:21.996Z"
   },
   {
    "duration": 134,
    "start_time": "2024-05-23T00:54:22.045Z"
   },
   {
    "duration": 211,
    "start_time": "2024-05-23T00:54:22.187Z"
   },
   {
    "duration": 57,
    "start_time": "2024-05-23T00:54:22.404Z"
   },
   {
    "duration": 23,
    "start_time": "2024-05-23T00:54:22.465Z"
   },
   {
    "duration": 6,
    "start_time": "2024-05-23T00:54:24.790Z"
   },
   {
    "duration": 10,
    "start_time": "2024-05-23T00:54:24.801Z"
   },
   {
    "duration": 22,
    "start_time": "2024-05-23T00:54:25.396Z"
   },
   {
    "duration": 19,
    "start_time": "2024-05-23T00:54:25.422Z"
   },
   {
    "duration": 6,
    "start_time": "2024-05-23T00:54:25.444Z"
   },
   {
    "duration": 19,
    "start_time": "2024-05-23T00:54:25.453Z"
   },
   {
    "duration": 9,
    "start_time": "2024-05-23T00:54:25.476Z"
   },
   {
    "duration": 59,
    "start_time": "2024-05-23T00:54:25.488Z"
   },
   {
    "duration": 4,
    "start_time": "2024-05-23T00:54:25.706Z"
   },
   {
    "duration": 6,
    "start_time": "2024-05-23T00:54:26.040Z"
   },
   {
    "duration": 9,
    "start_time": "2024-05-23T00:54:26.160Z"
   },
   {
    "duration": 4,
    "start_time": "2024-05-23T00:54:26.801Z"
   },
   {
    "duration": 192182,
    "start_time": "2024-05-23T00:54:28.634Z"
   },
   {
    "duration": 9,
    "start_time": "2024-05-23T00:59:54.772Z"
   },
   {
    "duration": 2297,
    "start_time": "2024-05-23T01:00:57.999Z"
   },
   {
    "duration": 13,
    "start_time": "2024-05-23T01:01:05.516Z"
   },
   {
    "duration": 11,
    "start_time": "2024-05-23T01:01:12.891Z"
   },
   {
    "duration": 4,
    "start_time": "2024-05-23T01:01:13.248Z"
   },
   {
    "duration": 12,
    "start_time": "2024-05-23T01:01:13.925Z"
   },
   {
    "duration": 3,
    "start_time": "2024-05-23T01:01:16.499Z"
   },
   {
    "duration": 148,
    "start_time": "2024-05-23T01:01:16.957Z"
   },
   {
    "duration": 35,
    "start_time": "2024-05-23T01:01:17.222Z"
   },
   {
    "duration": 16,
    "start_time": "2024-05-23T01:01:17.534Z"
   },
   {
    "duration": 5,
    "start_time": "2024-05-23T01:01:19.323Z"
   },
   {
    "duration": 9,
    "start_time": "2024-05-23T01:01:19.599Z"
   },
   {
    "duration": 19,
    "start_time": "2024-05-23T01:01:20.304Z"
   },
   {
    "duration": 18,
    "start_time": "2024-05-23T01:01:20.623Z"
   },
   {
    "duration": 6,
    "start_time": "2024-05-23T01:01:22.011Z"
   },
   {
    "duration": 14,
    "start_time": "2024-05-23T01:01:22.371Z"
   },
   {
    "duration": 8,
    "start_time": "2024-05-23T01:01:23.071Z"
   },
   {
    "duration": 12,
    "start_time": "2024-05-23T01:01:23.239Z"
   },
   {
    "duration": 4,
    "start_time": "2024-05-23T01:01:28.251Z"
   },
   {
    "duration": 3,
    "start_time": "2024-05-23T01:01:29.381Z"
   },
   {
    "duration": 9,
    "start_time": "2024-05-23T01:01:29.388Z"
   },
   {
    "duration": 3,
    "start_time": "2024-05-23T01:01:30.210Z"
   },
   {
    "duration": 540279,
    "start_time": "2024-05-23T01:01:39.129Z"
   },
   {
    "duration": 213,
    "start_time": "2024-05-23T01:10:42.879Z"
   },
   {
    "duration": 553579,
    "start_time": "2024-05-23T01:10:47.509Z"
   },
   {
    "duration": 615200,
    "start_time": "2024-05-23T01:46:28.665Z"
   },
   {
    "duration": 18804,
    "start_time": "2024-05-23T02:45:38.935Z"
   },
   {
    "duration": 17242,
    "start_time": "2024-05-23T02:47:23.460Z"
   },
   {
    "duration": 12947,
    "start_time": "2024-05-23T02:47:55.806Z"
   },
   {
    "duration": 556508,
    "start_time": "2024-05-23T02:48:42.169Z"
   },
   {
    "duration": 564534,
    "start_time": "2024-05-23T03:10:05.434Z"
   },
   {
    "duration": 5,
    "start_time": "2024-05-23T03:42:00.561Z"
   },
   {
    "duration": 55,
    "start_time": "2024-05-23T03:42:01.279Z"
   },
   {
    "duration": 37,
    "start_time": "2024-05-23T03:42:01.381Z"
   },
   {
    "duration": 33,
    "start_time": "2024-05-23T03:42:01.441Z"
   },
   {
    "duration": 6,
    "start_time": "2024-05-23T03:42:01.485Z"
   },
   {
    "duration": 10,
    "start_time": "2024-05-23T03:42:01.677Z"
   },
   {
    "duration": 4,
    "start_time": "2024-05-23T03:42:01.784Z"
   },
   {
    "duration": 16,
    "start_time": "2024-05-23T03:42:01.894Z"
   },
   {
    "duration": 25,
    "start_time": "2024-05-23T03:42:02.038Z"
   },
   {
    "duration": 8,
    "start_time": "2024-05-23T03:42:02.080Z"
   },
   {
    "duration": 15,
    "start_time": "2024-05-23T03:42:02.227Z"
   },
   {
    "duration": 5,
    "start_time": "2024-05-23T03:42:02.387Z"
   },
   {
    "duration": 6,
    "start_time": "2024-05-23T03:42:02.555Z"
   },
   {
    "duration": 186,
    "start_time": "2024-05-23T03:42:02.876Z"
   },
   {
    "duration": 10,
    "start_time": "2024-05-23T03:42:03.067Z"
   },
   {
    "duration": 10,
    "start_time": "2024-05-23T03:42:03.097Z"
   },
   {
    "duration": 7,
    "start_time": "2024-05-23T03:42:03.274Z"
   },
   {
    "duration": 8,
    "start_time": "2024-05-23T03:42:03.400Z"
   },
   {
    "duration": 16,
    "start_time": "2024-05-23T03:42:03.637Z"
   },
   {
    "duration": 9,
    "start_time": "2024-05-23T03:42:03.722Z"
   },
   {
    "duration": 26,
    "start_time": "2024-05-23T03:42:03.990Z"
   },
   {
    "duration": 4,
    "start_time": "2024-05-23T03:42:04.424Z"
   },
   {
    "duration": 5,
    "start_time": "2024-05-23T03:42:04.823Z"
   },
   {
    "duration": 43,
    "start_time": "2024-05-23T03:42:04.943Z"
   },
   {
    "duration": 4,
    "start_time": "2024-05-23T03:42:05.172Z"
   },
   {
    "duration": 12,
    "start_time": "2024-05-23T03:42:05.360Z"
   },
   {
    "duration": 4,
    "start_time": "2024-05-23T03:42:05.547Z"
   },
   {
    "duration": 150,
    "start_time": "2024-05-23T03:42:06.087Z"
   },
   {
    "duration": 33,
    "start_time": "2024-05-23T03:42:06.335Z"
   },
   {
    "duration": 17,
    "start_time": "2024-05-23T03:42:06.506Z"
   },
   {
    "duration": 5,
    "start_time": "2024-05-23T03:42:07.301Z"
   },
   {
    "duration": 9,
    "start_time": "2024-05-23T03:42:07.538Z"
   },
   {
    "duration": 18,
    "start_time": "2024-05-23T03:42:07.787Z"
   },
   {
    "duration": 17,
    "start_time": "2024-05-23T03:42:08.068Z"
   },
   {
    "duration": 6,
    "start_time": "2024-05-23T03:42:08.306Z"
   },
   {
    "duration": 14,
    "start_time": "2024-05-23T03:42:08.562Z"
   },
   {
    "duration": 7,
    "start_time": "2024-05-23T03:42:08.810Z"
   },
   {
    "duration": 13,
    "start_time": "2024-05-23T03:42:09.561Z"
   },
   {
    "duration": 4,
    "start_time": "2024-05-23T03:42:11.232Z"
   },
   {
    "duration": 5,
    "start_time": "2024-05-23T03:42:11.501Z"
   },
   {
    "duration": 9,
    "start_time": "2024-05-23T03:42:11.963Z"
   },
   {
    "duration": 3,
    "start_time": "2024-05-23T03:42:12.710Z"
   },
   {
    "duration": 173449,
    "start_time": "2024-05-23T03:42:19.407Z"
   },
   {
    "duration": 16159,
    "start_time": "2024-05-23T03:45:12.861Z"
   },
   {
    "duration": 548937,
    "start_time": "2024-05-23T03:45:29.023Z"
   },
   {
    "duration": 172930,
    "start_time": "2024-05-23T03:54:37.964Z"
   },
   {
    "duration": 538797,
    "start_time": "2024-05-23T03:58:20.853Z"
   },
   {
    "duration": 1515944,
    "start_time": "2024-05-23T05:57:01.031Z"
   },
   {
    "duration": 0,
    "start_time": "2024-05-23T06:22:16.978Z"
   },
   {
    "duration": 6,
    "start_time": "2024-05-23T06:22:24.333Z"
   },
   {
    "duration": 1402684,
    "start_time": "2024-05-23T06:22:30.665Z"
   },
   {
    "duration": 1350217,
    "start_time": "2024-05-23T06:54:25.731Z"
   },
   {
    "duration": 1342353,
    "start_time": "2024-05-23T07:25:20.839Z"
   },
   {
    "duration": 4,
    "start_time": "2024-05-23T07:51:37.204Z"
   },
   {
    "duration": 27,
    "start_time": "2024-05-23T07:51:40.263Z"
   },
   {
    "duration": 27,
    "start_time": "2024-05-23T07:52:52.719Z"
   },
   {
    "duration": 2237,
    "start_time": "2024-05-23T07:53:21.285Z"
   },
   {
    "duration": 4,
    "start_time": "2024-05-23T07:53:29.873Z"
   },
   {
    "duration": 2730,
    "start_time": "2024-05-23T07:53:33.916Z"
   },
   {
    "duration": 2737,
    "start_time": "2024-05-23T07:54:47.494Z"
   },
   {
    "duration": 34,
    "start_time": "2024-05-23T07:55:34.045Z"
   },
   {
    "duration": 30,
    "start_time": "2024-05-23T07:56:51.631Z"
   },
   {
    "duration": 34,
    "start_time": "2024-05-23T07:57:01.227Z"
   },
   {
    "duration": 6562,
    "start_time": "2024-05-23T07:57:17.772Z"
   },
   {
    "duration": 30,
    "start_time": "2024-05-23T07:57:41.355Z"
   },
   {
    "duration": 6392,
    "start_time": "2024-05-23T07:57:44.451Z"
   },
   {
    "duration": 2558,
    "start_time": "2024-05-23T07:58:01.685Z"
   },
   {
    "duration": 2746,
    "start_time": "2024-05-23T07:58:22.992Z"
   },
   {
    "duration": 42509,
    "start_time": "2024-05-23T07:58:41.463Z"
   },
   {
    "duration": 22,
    "start_time": "2024-05-23T07:59:29.468Z"
   },
   {
    "duration": 27,
    "start_time": "2024-05-23T07:59:35.950Z"
   },
   {
    "duration": 8,
    "start_time": "2024-05-23T08:00:01.459Z"
   },
   {
    "duration": 3035,
    "start_time": "2024-05-23T08:00:13.377Z"
   },
   {
    "duration": 3664,
    "start_time": "2024-05-23T08:00:25.372Z"
   },
   {
    "duration": 4157,
    "start_time": "2024-05-23T08:01:00.546Z"
   },
   {
    "duration": 2938,
    "start_time": "2024-05-23T08:01:29.218Z"
   },
   {
    "duration": 3169,
    "start_time": "2024-05-23T08:01:46.069Z"
   },
   {
    "duration": 4350,
    "start_time": "2024-05-23T08:02:04.388Z"
   },
   {
    "duration": 2767,
    "start_time": "2024-05-23T08:02:22.290Z"
   },
   {
    "duration": 3610,
    "start_time": "2024-05-23T08:02:59.248Z"
   },
   {
    "duration": 3597,
    "start_time": "2024-05-23T08:03:26.377Z"
   },
   {
    "duration": 3747,
    "start_time": "2024-05-23T08:03:36.110Z"
   },
   {
    "duration": 42,
    "start_time": "2024-05-23T08:03:49.899Z"
   },
   {
    "duration": 3637,
    "start_time": "2024-05-23T08:03:54.420Z"
   },
   {
    "duration": 172849,
    "start_time": "2024-05-23T08:04:59.169Z"
   },
   {
    "duration": 3297,
    "start_time": "2024-05-23T08:09:08.368Z"
   },
   {
    "duration": 30,
    "start_time": "2024-05-23T08:09:41.843Z"
   },
   {
    "duration": 8724,
    "start_time": "2024-05-23T08:09:58.576Z"
   },
   {
    "duration": 4570,
    "start_time": "2024-05-23T08:10:25.968Z"
   },
   {
    "duration": 5802,
    "start_time": "2024-05-23T08:10:47.327Z"
   },
   {
    "duration": 8078,
    "start_time": "2024-05-23T08:10:58.910Z"
   },
   {
    "duration": 41,
    "start_time": "2024-05-23T08:11:14.074Z"
   },
   {
    "duration": 7323,
    "start_time": "2024-05-23T08:11:19.705Z"
   },
   {
    "duration": 7932,
    "start_time": "2024-05-23T08:11:46.538Z"
   },
   {
    "duration": 7993,
    "start_time": "2024-05-23T08:12:02.065Z"
   },
   {
    "duration": 7048,
    "start_time": "2024-05-23T08:12:42.482Z"
   },
   {
    "duration": 2602,
    "start_time": "2024-05-23T08:14:08.252Z"
   },
   {
    "duration": 42,
    "start_time": "2024-05-23T08:14:22.807Z"
   },
   {
    "duration": 29,
    "start_time": "2024-05-23T08:14:38.285Z"
   },
   {
    "duration": 4635,
    "start_time": "2024-05-23T08:14:43.103Z"
   },
   {
    "duration": 2828,
    "start_time": "2024-05-23T08:14:59.125Z"
   },
   {
    "duration": 5430,
    "start_time": "2024-05-24T00:00:12.886Z"
   },
   {
    "duration": 97,
    "start_time": "2024-05-24T00:00:21.895Z"
   },
   {
    "duration": 47,
    "start_time": "2024-05-24T00:00:22.000Z"
   },
   {
    "duration": 38,
    "start_time": "2024-05-24T00:00:22.073Z"
   },
   {
    "duration": 6,
    "start_time": "2024-05-24T00:00:22.153Z"
   },
   {
    "duration": 11,
    "start_time": "2024-05-24T00:00:22.597Z"
   },
   {
    "duration": 5,
    "start_time": "2024-05-24T00:00:22.901Z"
   },
   {
    "duration": 22,
    "start_time": "2024-05-24T00:00:23.094Z"
   },
   {
    "duration": 26,
    "start_time": "2024-05-24T00:00:23.285Z"
   },
   {
    "duration": 9,
    "start_time": "2024-05-24T00:00:23.491Z"
   },
   {
    "duration": 19,
    "start_time": "2024-05-24T00:00:23.635Z"
   },
   {
    "duration": 6,
    "start_time": "2024-05-24T00:00:23.828Z"
   },
   {
    "duration": 8,
    "start_time": "2024-05-24T00:00:23.990Z"
   },
   {
    "duration": 262,
    "start_time": "2024-05-24T00:00:24.161Z"
   },
   {
    "duration": 15,
    "start_time": "2024-05-24T00:00:24.426Z"
   },
   {
    "duration": 15,
    "start_time": "2024-05-24T00:00:24.499Z"
   },
   {
    "duration": 13,
    "start_time": "2024-05-24T00:00:24.671Z"
   },
   {
    "duration": 8,
    "start_time": "2024-05-24T00:00:24.965Z"
   },
   {
    "duration": 29,
    "start_time": "2024-05-24T00:00:25.124Z"
   },
   {
    "duration": 12,
    "start_time": "2024-05-24T00:00:25.324Z"
   },
   {
    "duration": 29,
    "start_time": "2024-05-24T00:00:25.517Z"
   },
   {
    "duration": 9,
    "start_time": "2024-05-24T00:00:26.221Z"
   },
   {
    "duration": 4,
    "start_time": "2024-05-24T00:00:26.529Z"
   },
   {
    "duration": 49,
    "start_time": "2024-05-24T00:00:26.615Z"
   },
   {
    "duration": 5,
    "start_time": "2024-05-24T00:00:26.898Z"
   },
   {
    "duration": 17,
    "start_time": "2024-05-24T00:00:28.023Z"
   },
   {
    "duration": 162,
    "start_time": "2024-05-24T00:00:30.470Z"
   },
   {
    "duration": 217,
    "start_time": "2024-05-24T00:00:30.869Z"
   },
   {
    "duration": 43,
    "start_time": "2024-05-24T00:00:31.267Z"
   },
   {
    "duration": 22,
    "start_time": "2024-05-24T00:00:31.590Z"
   },
   {
    "duration": 6,
    "start_time": "2024-05-24T00:00:32.694Z"
   },
   {
    "duration": 11,
    "start_time": "2024-05-24T00:00:33.011Z"
   },
   {
    "duration": 22,
    "start_time": "2024-05-24T00:00:33.306Z"
   },
   {
    "duration": 18,
    "start_time": "2024-05-24T00:00:33.625Z"
   },
   {
    "duration": 7,
    "start_time": "2024-05-24T00:00:34.075Z"
   },
   {
    "duration": 19,
    "start_time": "2024-05-24T00:00:34.439Z"
   },
   {
    "duration": 11,
    "start_time": "2024-05-24T00:00:34.804Z"
   },
   {
    "duration": 89,
    "start_time": "2024-05-24T00:00:35.106Z"
   },
   {
    "duration": 4,
    "start_time": "2024-05-24T00:00:36.886Z"
   },
   {
    "duration": 4,
    "start_time": "2024-05-24T00:00:37.289Z"
   },
   {
    "duration": 12,
    "start_time": "2024-05-24T00:00:37.819Z"
   },
   {
    "duration": 5,
    "start_time": "2024-05-24T00:00:38.588Z"
   },
   {
    "duration": 181916,
    "start_time": "2024-05-24T00:00:42.390Z"
   },
   {
    "duration": 103557,
    "start_time": "2024-05-24T00:03:44.310Z"
   },
   {
    "duration": 1153,
    "start_time": "2024-05-24T00:06:16.069Z"
   },
   {
    "duration": 253,
    "start_time": "2024-05-24T00:07:14.067Z"
   },
   {
    "duration": 223,
    "start_time": "2024-05-24T00:07:30.588Z"
   },
   {
    "duration": 206,
    "start_time": "2024-05-24T00:07:44.647Z"
   },
   {
    "duration": 217,
    "start_time": "2024-05-24T00:07:58.350Z"
   },
   {
    "duration": 0,
    "start_time": "2024-05-24T00:09:45.416Z"
   },
   {
    "duration": 14,
    "start_time": "2024-05-24T00:09:55.489Z"
   },
   {
    "duration": 5241,
    "start_time": "2024-05-24T01:42:17.903Z"
   },
   {
    "duration": 91,
    "start_time": "2024-05-24T01:42:23.201Z"
   },
   {
    "duration": 122,
    "start_time": "2024-05-24T01:42:38.713Z"
   },
   {
    "duration": 38,
    "start_time": "2024-05-24T01:42:40.314Z"
   },
   {
    "duration": 6,
    "start_time": "2024-05-24T01:42:40.539Z"
   },
   {
    "duration": 10,
    "start_time": "2024-05-24T01:42:40.702Z"
   },
   {
    "duration": 4,
    "start_time": "2024-05-24T01:42:40.870Z"
   },
   {
    "duration": 17,
    "start_time": "2024-05-24T01:42:41.052Z"
   },
   {
    "duration": 27,
    "start_time": "2024-05-24T01:42:41.222Z"
   },
   {
    "duration": 9,
    "start_time": "2024-05-24T01:42:41.456Z"
   },
   {
    "duration": 33,
    "start_time": "2024-05-24T01:43:18.084Z"
   },
   {
    "duration": 6,
    "start_time": "2024-05-24T01:43:18.473Z"
   },
   {
    "duration": 9,
    "start_time": "2024-05-24T01:43:18.653Z"
   },
   {
    "duration": 4,
    "start_time": "2024-05-24T01:43:18.815Z"
   },
   {
    "duration": 18,
    "start_time": "2024-05-24T01:43:19.320Z"
   },
   {
    "duration": 25,
    "start_time": "2024-05-24T01:43:19.391Z"
   },
   {
    "duration": 8,
    "start_time": "2024-05-24T01:43:19.498Z"
   },
   {
    "duration": 14,
    "start_time": "2024-05-24T01:43:19.580Z"
   },
   {
    "duration": 5,
    "start_time": "2024-05-24T01:43:19.690Z"
   },
   {
    "duration": 7,
    "start_time": "2024-05-24T01:43:19.786Z"
   },
   {
    "duration": 199,
    "start_time": "2024-05-24T01:43:19.927Z"
   },
   {
    "duration": 11,
    "start_time": "2024-05-24T01:43:20.131Z"
   },
   {
    "duration": 10,
    "start_time": "2024-05-24T01:43:20.146Z"
   },
   {
    "duration": 8,
    "start_time": "2024-05-24T01:43:20.505Z"
   },
   {
    "duration": 8,
    "start_time": "2024-05-24T01:43:20.517Z"
   },
   {
    "duration": 18,
    "start_time": "2024-05-24T01:43:20.745Z"
   },
   {
    "duration": 9,
    "start_time": "2024-05-24T01:43:20.892Z"
   },
   {
    "duration": 27,
    "start_time": "2024-05-24T01:43:21.093Z"
   },
   {
    "duration": 7,
    "start_time": "2024-05-24T01:43:21.543Z"
   },
   {
    "duration": 3,
    "start_time": "2024-05-24T01:43:21.978Z"
   },
   {
    "duration": 38,
    "start_time": "2024-05-24T01:43:21.985Z"
   },
   {
    "duration": 3,
    "start_time": "2024-05-24T01:43:22.206Z"
   },
   {
    "duration": 13,
    "start_time": "2024-05-24T01:43:22.465Z"
   },
   {
    "duration": 188,
    "start_time": "2024-05-24T01:43:22.691Z"
   },
   {
    "duration": 164,
    "start_time": "2024-05-24T01:43:23.449Z"
   },
   {
    "duration": 31,
    "start_time": "2024-05-24T01:43:24.362Z"
   },
   {
    "duration": 18,
    "start_time": "2024-05-24T01:43:24.752Z"
   },
   {
    "duration": 6,
    "start_time": "2024-05-24T01:43:25.846Z"
   },
   {
    "duration": 9,
    "start_time": "2024-05-24T01:43:26.946Z"
   },
   {
    "duration": 21,
    "start_time": "2024-05-24T01:43:26.959Z"
   },
   {
    "duration": 17,
    "start_time": "2024-05-24T01:43:27.385Z"
   },
   {
    "duration": 9,
    "start_time": "2024-05-24T01:43:27.700Z"
   },
   {
    "duration": 18,
    "start_time": "2024-05-24T01:43:28.072Z"
   },
   {
    "duration": 8,
    "start_time": "2024-05-24T01:43:28.371Z"
   },
   {
    "duration": 14,
    "start_time": "2024-05-24T01:43:28.835Z"
   },
   {
    "duration": 4,
    "start_time": "2024-05-24T01:43:33.506Z"
   },
   {
    "duration": 4,
    "start_time": "2024-05-24T01:43:33.679Z"
   },
   {
    "duration": 9,
    "start_time": "2024-05-24T01:43:33.914Z"
   },
   {
    "duration": 5,
    "start_time": "2024-05-24T01:43:34.752Z"
   },
   {
    "duration": 175506,
    "start_time": "2024-05-24T01:43:49.492Z"
   },
   {
    "duration": 1204712,
    "start_time": "2024-05-24T01:47:16.175Z"
   },
   {
    "duration": 7153,
    "start_time": "2024-05-24T02:18:52.274Z"
   },
   {
    "duration": 245,
    "start_time": "2024-05-24T02:20:15.315Z"
   },
   {
    "duration": 35,
    "start_time": "2024-05-24T02:22:37.020Z"
   },
   {
    "duration": 36,
    "start_time": "2024-05-24T02:22:41.250Z"
   },
   {
    "duration": 7,
    "start_time": "2024-05-24T02:22:43.993Z"
   },
   {
    "duration": 6,
    "start_time": "2024-05-24T02:22:55.951Z"
   },
   {
    "duration": 7,
    "start_time": "2024-05-24T02:22:59.798Z"
   },
   {
    "duration": 79,
    "start_time": "2024-05-24T02:23:11.666Z"
   },
   {
    "duration": 7,
    "start_time": "2024-05-24T02:24:09.494Z"
   },
   {
    "duration": 7,
    "start_time": "2024-05-24T02:25:53.192Z"
   },
   {
    "duration": 12,
    "start_time": "2024-05-24T02:26:09.728Z"
   },
   {
    "duration": 52,
    "start_time": "2024-05-24T02:26:22.114Z"
   },
   {
    "duration": 9,
    "start_time": "2024-05-24T02:26:33.549Z"
   },
   {
    "duration": 40,
    "start_time": "2024-05-24T02:26:49.196Z"
   },
   {
    "duration": 52,
    "start_time": "2024-05-24T02:26:54.987Z"
   },
   {
    "duration": 11,
    "start_time": "2024-05-24T02:27:16.020Z"
   },
   {
    "duration": 9,
    "start_time": "2024-05-24T02:27:19.076Z"
   },
   {
    "duration": 32,
    "start_time": "2024-05-24T02:27:31.417Z"
   },
   {
    "duration": 31,
    "start_time": "2024-05-24T02:27:40.723Z"
   },
   {
    "duration": 65,
    "start_time": "2024-05-24T02:28:16.072Z"
   },
   {
    "duration": 7,
    "start_time": "2024-05-24T02:28:26.842Z"
   },
   {
    "duration": 8,
    "start_time": "2024-05-24T02:28:31.021Z"
   },
   {
    "duration": 35,
    "start_time": "2024-05-24T02:29:15.342Z"
   },
   {
    "duration": 987,
    "start_time": "2024-05-24T02:31:06.757Z"
   },
   {
    "duration": 98,
    "start_time": "2024-05-24T02:32:55.343Z"
   },
   {
    "duration": 66,
    "start_time": "2024-05-24T02:33:03.081Z"
   },
   {
    "duration": 46,
    "start_time": "2024-05-24T02:34:45.614Z"
   },
   {
    "duration": 78,
    "start_time": "2024-05-24T02:34:51.667Z"
   },
   {
    "duration": 8,
    "start_time": "2024-05-24T02:36:06.072Z"
   },
   {
    "duration": 27,
    "start_time": "2024-05-24T02:36:15.401Z"
   },
   {
    "duration": 21,
    "start_time": "2024-05-24T02:36:27.506Z"
   },
   {
    "duration": 442,
    "start_time": "2024-05-24T02:36:44.796Z"
   },
   {
    "duration": 7595,
    "start_time": "2024-05-24T02:37:14.633Z"
   },
   {
    "duration": 106,
    "start_time": "2024-05-24T02:41:09.546Z"
   },
   {
    "duration": 16273,
    "start_time": "2024-05-24T02:41:21.897Z"
   },
   {
    "duration": 15728,
    "start_time": "2024-05-24T02:43:53.401Z"
   },
   {
    "duration": 163,
    "start_time": "2024-05-24T02:45:36.765Z"
   },
   {
    "duration": 11133,
    "start_time": "2024-05-24T02:45:43.735Z"
   },
   {
    "duration": 43388,
    "start_time": "2024-05-24T02:46:28.966Z"
   },
   {
    "duration": 0,
    "start_time": "2024-05-24T02:47:51.032Z"
   },
   {
    "duration": 17482,
    "start_time": "2024-05-24T02:47:53.975Z"
   },
   {
    "duration": 99,
    "start_time": "2024-05-24T02:50:16.339Z"
   },
   {
    "duration": 43916,
    "start_time": "2024-05-24T02:50:31.838Z"
   },
   {
    "duration": 28052,
    "start_time": "2024-05-24T02:53:19.376Z"
   },
   {
    "duration": 5425,
    "start_time": "2024-05-24T02:55:34.405Z"
   },
   {
    "duration": 89,
    "start_time": "2024-05-24T02:57:42.959Z"
   },
   {
    "duration": 35483,
    "start_time": "2024-05-24T02:58:02.380Z"
   },
   {
    "duration": 8,
    "start_time": "2024-05-24T02:59:28.546Z"
   },
   {
    "duration": 76,
    "start_time": "2024-05-24T02:59:38.263Z"
   },
   {
    "duration": 35,
    "start_time": "2024-05-24T02:59:46.433Z"
   },
   {
    "duration": 47,
    "start_time": "2024-05-24T02:59:55.495Z"
   },
   {
    "duration": 9,
    "start_time": "2024-05-24T03:00:07.979Z"
   },
   {
    "duration": 9,
    "start_time": "2024-05-24T03:00:15.893Z"
   },
   {
    "duration": 1469,
    "start_time": "2024-05-24T03:01:35.258Z"
   },
   {
    "duration": 1503,
    "start_time": "2024-05-24T03:01:47.229Z"
   },
   {
    "duration": 1292,
    "start_time": "2024-05-24T03:01:53.946Z"
   },
   {
    "duration": 1390,
    "start_time": "2024-05-24T03:01:59.545Z"
   },
   {
    "duration": 1017,
    "start_time": "2024-05-24T03:02:05.619Z"
   },
   {
    "duration": 1330,
    "start_time": "2024-05-24T03:02:14.106Z"
   },
   {
    "duration": 1327,
    "start_time": "2024-05-24T03:02:19.538Z"
   },
   {
    "duration": 1425,
    "start_time": "2024-05-24T03:02:38.409Z"
   },
   {
    "duration": 1332,
    "start_time": "2024-05-24T03:02:46.157Z"
   },
   {
    "duration": 11339,
    "start_time": "2024-05-24T03:02:55.630Z"
   },
   {
    "duration": 1340,
    "start_time": "2024-05-24T03:03:18.054Z"
   },
   {
    "duration": 3503037,
    "start_time": "2024-05-24T03:03:47.401Z"
   },
   {
    "duration": 29487,
    "start_time": "2024-05-24T04:06:01.664Z"
   },
   {
    "duration": 139,
    "start_time": "2024-05-24T04:06:33.492Z"
   },
   {
    "duration": 717945,
    "start_time": "2024-05-24T04:06:45.603Z"
   },
   {
    "duration": 2255726,
    "start_time": "2024-05-24T04:19:50.728Z"
   },
   {
    "duration": 734,
    "start_time": "2024-05-24T05:00:18.727Z"
   },
   {
    "duration": 2326,
    "start_time": "2024-05-24T05:00:40.728Z"
   },
   {
    "duration": 1771,
    "start_time": "2024-05-24T05:02:54.166Z"
   },
   {
    "duration": 8405,
    "start_time": "2024-05-24T05:03:02.327Z"
   },
   {
    "duration": 1624,
    "start_time": "2024-05-24T05:03:19.528Z"
   },
   {
    "duration": 2018,
    "start_time": "2024-05-24T05:03:25.543Z"
   },
   {
    "duration": 1902,
    "start_time": "2024-05-24T05:03:32.628Z"
   },
   {
    "duration": 9087,
    "start_time": "2024-05-24T05:03:46.456Z"
   },
   {
    "duration": 8209,
    "start_time": "2024-05-24T05:04:00.033Z"
   },
   {
    "duration": 7373,
    "start_time": "2024-05-24T05:04:15.578Z"
   },
   {
    "duration": 1610,
    "start_time": "2024-05-24T05:04:29.527Z"
   },
   {
    "duration": 1918,
    "start_time": "2024-05-24T05:04:35.429Z"
   },
   {
    "duration": 2496,
    "start_time": "2024-05-24T05:04:52.454Z"
   },
   {
    "duration": 2606,
    "start_time": "2024-05-24T05:04:57.229Z"
   },
   {
    "duration": 2426,
    "start_time": "2024-05-24T05:05:12.627Z"
   },
   {
    "duration": 2719,
    "start_time": "2024-05-24T05:05:19.627Z"
   },
   {
    "duration": 2710,
    "start_time": "2024-05-24T05:05:31.927Z"
   },
   {
    "duration": 2593,
    "start_time": "2024-05-24T05:05:46.443Z"
   },
   {
    "duration": 2626,
    "start_time": "2024-05-24T05:06:01.127Z"
   },
   {
    "duration": 3022,
    "start_time": "2024-05-24T05:06:21.927Z"
   },
   {
    "duration": 3316,
    "start_time": "2024-05-24T05:06:28.140Z"
   },
   {
    "duration": 3626,
    "start_time": "2024-05-24T05:06:40.827Z"
   },
   {
    "duration": 7817,
    "start_time": "2024-05-24T05:08:42.127Z"
   },
   {
    "duration": 9507,
    "start_time": "2024-05-24T05:08:58.438Z"
   },
   {
    "duration": 7566,
    "start_time": "2024-05-24T05:09:12.467Z"
   },
   {
    "duration": 6720,
    "start_time": "2024-05-24T05:09:25.149Z"
   },
   {
    "duration": 4648,
    "start_time": "2024-05-24T05:09:36.027Z"
   },
   {
    "duration": 1514,
    "start_time": "2024-05-24T05:09:44.455Z"
   },
   {
    "duration": 6925,
    "start_time": "2024-05-24T05:09:50.128Z"
   },
   {
    "duration": 7316,
    "start_time": "2024-05-24T05:09:59.227Z"
   },
   {
    "duration": 8014,
    "start_time": "2024-05-24T05:10:11.828Z"
   },
   {
    "duration": 128,
    "start_time": "2024-05-24T05:14:12.327Z"
   },
   {
    "duration": 4410650,
    "start_time": "2024-05-24T05:14:28.144Z"
   },
   {
    "duration": 5216,
    "start_time": "2024-05-24T15:34:46.393Z"
   },
   {
    "duration": 64,
    "start_time": "2024-05-24T15:34:51.614Z"
   },
   {
    "duration": 44,
    "start_time": "2024-05-24T15:34:51.682Z"
   },
   {
    "duration": 36,
    "start_time": "2024-05-24T15:34:51.730Z"
   },
   {
    "duration": 7,
    "start_time": "2024-05-24T15:34:51.769Z"
   },
   {
    "duration": 41,
    "start_time": "2024-05-24T15:34:51.779Z"
   },
   {
    "duration": 5,
    "start_time": "2024-05-24T15:34:51.823Z"
   },
   {
    "duration": 18,
    "start_time": "2024-05-24T15:34:51.831Z"
   },
   {
    "duration": 67,
    "start_time": "2024-05-24T15:34:51.852Z"
   },
   {
    "duration": 8,
    "start_time": "2024-05-24T15:34:51.924Z"
   },
   {
    "duration": 15,
    "start_time": "2024-05-24T15:34:51.935Z"
   },
   {
    "duration": 5,
    "start_time": "2024-05-24T15:34:51.953Z"
   },
   {
    "duration": 6,
    "start_time": "2024-05-24T15:34:51.962Z"
   },
   {
    "duration": 195,
    "start_time": "2024-05-24T15:34:52.013Z"
   },
   {
    "duration": 10,
    "start_time": "2024-05-24T15:34:52.213Z"
   },
   {
    "duration": 13,
    "start_time": "2024-05-24T15:34:52.231Z"
   },
   {
    "duration": 7,
    "start_time": "2024-05-24T15:34:52.307Z"
   },
   {
    "duration": 7,
    "start_time": "2024-05-24T15:34:52.668Z"
   },
   {
    "duration": 18,
    "start_time": "2024-05-24T15:34:53.074Z"
   },
   {
    "duration": 9,
    "start_time": "2024-05-24T15:34:53.681Z"
   },
   {
    "duration": 27,
    "start_time": "2024-05-24T15:34:53.948Z"
   },
   {
    "duration": 7,
    "start_time": "2024-05-24T15:34:54.452Z"
   },
   {
    "duration": 3,
    "start_time": "2024-05-24T15:34:54.696Z"
   },
   {
    "duration": 36,
    "start_time": "2024-05-24T15:34:54.988Z"
   },
   {
    "duration": 4,
    "start_time": "2024-05-24T15:34:55.283Z"
   },
   {
    "duration": 12,
    "start_time": "2024-05-24T15:34:55.575Z"
   },
   {
    "duration": 176,
    "start_time": "2024-05-24T15:34:56.070Z"
   },
   {
    "duration": 168,
    "start_time": "2024-05-24T15:34:56.444Z"
   },
   {
    "duration": 30,
    "start_time": "2024-05-24T15:34:56.791Z"
   },
   {
    "duration": 18,
    "start_time": "2024-05-24T15:34:57.133Z"
   },
   {
    "duration": 5,
    "start_time": "2024-05-24T15:34:57.931Z"
   },
   {
    "duration": 8,
    "start_time": "2024-05-24T15:34:58.171Z"
   },
   {
    "duration": 21,
    "start_time": "2024-05-24T15:34:58.418Z"
   },
   {
    "duration": 17,
    "start_time": "2024-05-24T15:34:58.812Z"
   },
   {
    "duration": 9,
    "start_time": "2024-05-24T15:34:59.018Z"
   },
   {
    "duration": 16,
    "start_time": "2024-05-24T15:34:59.517Z"
   },
   {
    "duration": 8,
    "start_time": "2024-05-24T15:34:59.613Z"
   },
   {
    "duration": 13,
    "start_time": "2024-05-24T15:34:59.738Z"
   },
   {
    "duration": 3,
    "start_time": "2024-05-24T15:35:00.623Z"
   },
   {
    "duration": 3,
    "start_time": "2024-05-24T15:35:00.864Z"
   },
   {
    "duration": 8,
    "start_time": "2024-05-24T15:35:05.829Z"
   },
   {
    "duration": 4,
    "start_time": "2024-05-24T15:35:07.435Z"
   },
   {
    "duration": 226,
    "start_time": "2024-05-24T15:35:38.187Z"
   },
   {
    "duration": 172729,
    "start_time": "2024-05-24T15:35:50.784Z"
   },
   {
    "duration": 16408,
    "start_time": "2024-05-24T15:40:10.324Z"
   },
   {
    "duration": 31895,
    "start_time": "2024-05-24T15:41:09.034Z"
   },
   {
    "duration": 322,
    "start_time": "2024-05-25T00:12:32.789Z"
   },
   {
    "duration": 1617,
    "start_time": "2024-05-25T00:12:40.815Z"
   },
   {
    "duration": 83,
    "start_time": "2024-05-25T00:12:42.436Z"
   },
   {
    "duration": 49,
    "start_time": "2024-05-25T00:12:42.523Z"
   },
   {
    "duration": 64,
    "start_time": "2024-05-25T00:12:42.576Z"
   },
   {
    "duration": 7,
    "start_time": "2024-05-25T00:12:42.643Z"
   },
   {
    "duration": 11,
    "start_time": "2024-05-25T00:12:42.653Z"
   },
   {
    "duration": 5,
    "start_time": "2024-05-25T00:12:42.666Z"
   },
   {
    "duration": 18,
    "start_time": "2024-05-25T00:12:42.712Z"
   },
   {
    "duration": 26,
    "start_time": "2024-05-25T00:12:42.764Z"
   },
   {
    "duration": 7,
    "start_time": "2024-05-25T00:12:42.864Z"
   },
   {
    "duration": 16,
    "start_time": "2024-05-25T00:12:43.105Z"
   },
   {
    "duration": 6,
    "start_time": "2024-05-25T00:12:43.146Z"
   },
   {
    "duration": 6,
    "start_time": "2024-05-25T00:12:43.252Z"
   },
   {
    "duration": 187,
    "start_time": "2024-05-25T00:12:43.458Z"
   },
   {
    "duration": 10,
    "start_time": "2024-05-25T00:12:43.648Z"
   },
   {
    "duration": 9,
    "start_time": "2024-05-25T00:12:44.440Z"
   },
   {
    "duration": 8,
    "start_time": "2024-05-25T00:12:44.718Z"
   },
   {
    "duration": 8,
    "start_time": "2024-05-25T00:12:44.970Z"
   },
   {
    "duration": 18,
    "start_time": "2024-05-25T00:12:45.113Z"
   },
   {
    "duration": 8,
    "start_time": "2024-05-25T00:12:45.238Z"
   },
   {
    "duration": 28,
    "start_time": "2024-05-25T00:12:45.399Z"
   },
   {
    "duration": 7,
    "start_time": "2024-05-25T00:12:45.721Z"
   },
   {
    "duration": 4,
    "start_time": "2024-05-25T00:12:45.868Z"
   },
   {
    "duration": 37,
    "start_time": "2024-05-25T00:12:45.988Z"
   },
   {
    "duration": 3,
    "start_time": "2024-05-25T00:12:46.892Z"
   },
   {
    "duration": 13,
    "start_time": "2024-05-25T00:12:47.149Z"
   },
   {
    "duration": 115,
    "start_time": "2024-05-25T00:12:47.334Z"
   },
   {
    "duration": 163,
    "start_time": "2024-05-25T00:12:47.587Z"
   },
   {
    "duration": 30,
    "start_time": "2024-05-25T00:12:47.829Z"
   },
   {
    "duration": 17,
    "start_time": "2024-05-25T00:12:48.027Z"
   },
   {
    "duration": 5,
    "start_time": "2024-05-25T00:12:49.471Z"
   },
   {
    "duration": 9,
    "start_time": "2024-05-25T00:12:49.855Z"
   },
   {
    "duration": 21,
    "start_time": "2024-05-25T00:12:50.261Z"
   },
   {
    "duration": 16,
    "start_time": "2024-05-25T00:12:50.630Z"
   },
   {
    "duration": 6,
    "start_time": "2024-05-25T00:12:51.048Z"
   },
   {
    "duration": 21,
    "start_time": "2024-05-25T00:12:51.905Z"
   },
   {
    "duration": 8,
    "start_time": "2024-05-25T00:12:52.471Z"
   },
   {
    "duration": 17,
    "start_time": "2024-05-25T00:12:53.115Z"
   },
   {
    "duration": 4,
    "start_time": "2024-05-25T00:12:55.262Z"
   },
   {
    "duration": 4,
    "start_time": "2024-05-25T00:12:56.476Z"
   },
   {
    "duration": 8,
    "start_time": "2024-05-25T00:12:56.708Z"
   },
   {
    "duration": 3,
    "start_time": "2024-05-25T00:12:57.719Z"
   },
   {
    "duration": 207,
    "start_time": "2024-05-25T00:12:59.743Z"
   },
   {
    "duration": 179636,
    "start_time": "2024-05-25T00:13:07.350Z"
   },
   {
    "duration": 31469,
    "start_time": "2024-05-25T00:16:06.989Z"
   },
   {
    "duration": 154,
    "start_time": "2024-05-25T00:19:08.057Z"
   },
   {
    "duration": 33,
    "start_time": "2024-05-25T00:20:30.480Z"
   },
   {
    "duration": 266122,
    "start_time": "2024-05-25T00:20:43.548Z"
   },
   {
    "duration": 1011567,
    "start_time": "2024-05-25T00:25:23.458Z"
   },
   {
    "duration": 0,
    "start_time": "2024-05-25T00:42:15.029Z"
   },
   {
    "duration": 0,
    "start_time": "2024-05-25T00:42:15.031Z"
   },
   {
    "duration": 59807,
    "start_time": "2024-05-25T00:42:23.951Z"
   },
   {
    "duration": 1616364,
    "start_time": "2024-05-25T00:43:34.722Z"
   },
   {
    "duration": 21462,
    "start_time": "2024-05-25T01:10:43.942Z"
   },
   {
    "duration": 42197,
    "start_time": "2024-05-25T01:11:09.883Z"
   },
   {
    "duration": 938,
    "start_time": "2024-05-25T01:11:54.050Z"
   },
   {
    "duration": 0,
    "start_time": "2024-05-25T01:16:54.517Z"
   },
   {
    "duration": 26,
    "start_time": "2024-05-25T01:16:57.098Z"
   },
   {
    "duration": 8800,
    "start_time": "2024-05-25T01:16:57.668Z"
   },
   {
    "duration": 20356,
    "start_time": "2024-05-25T01:17:15.414Z"
   },
   {
    "duration": 45109,
    "start_time": "2024-05-25T01:17:38.649Z"
   },
   {
    "duration": 45,
    "start_time": "2024-05-25T01:18:50.700Z"
   },
   {
    "duration": 796065,
    "start_time": "2024-05-25T01:20:22.036Z"
   },
   {
    "duration": 5115,
    "start_time": "2024-05-25T18:33:52.602Z"
   },
   {
    "duration": 85,
    "start_time": "2024-05-25T18:33:58.910Z"
   },
   {
    "duration": 47,
    "start_time": "2024-05-25T18:33:59.378Z"
   },
   {
    "duration": 44,
    "start_time": "2024-05-25T18:34:00.080Z"
   },
   {
    "duration": 6,
    "start_time": "2024-05-25T18:34:00.419Z"
   },
   {
    "duration": 8,
    "start_time": "2024-05-25T18:34:00.706Z"
   },
   {
    "duration": 4,
    "start_time": "2024-05-25T18:34:01.163Z"
   },
   {
    "duration": 16,
    "start_time": "2024-05-25T18:34:01.491Z"
   },
   {
    "duration": 24,
    "start_time": "2024-05-25T18:34:02.102Z"
   },
   {
    "duration": 9,
    "start_time": "2024-05-25T18:34:02.711Z"
   },
   {
    "duration": 14,
    "start_time": "2024-05-25T18:34:03.073Z"
   },
   {
    "duration": 5,
    "start_time": "2024-05-25T18:34:03.456Z"
   },
   {
    "duration": 6,
    "start_time": "2024-05-25T18:34:04.014Z"
   },
   {
    "duration": 249,
    "start_time": "2024-05-25T18:34:04.254Z"
   },
   {
    "duration": 8,
    "start_time": "2024-05-25T18:34:04.585Z"
   },
   {
    "duration": 8,
    "start_time": "2024-05-25T18:34:04.892Z"
   },
   {
    "duration": 7,
    "start_time": "2024-05-25T18:34:05.161Z"
   },
   {
    "duration": 7,
    "start_time": "2024-05-25T18:34:05.332Z"
   },
   {
    "duration": 18,
    "start_time": "2024-05-25T18:34:05.563Z"
   },
   {
    "duration": 11,
    "start_time": "2024-05-25T18:34:05.806Z"
   },
   {
    "duration": 29,
    "start_time": "2024-05-25T18:34:06.204Z"
   },
   {
    "duration": 6,
    "start_time": "2024-05-25T18:34:06.813Z"
   },
   {
    "duration": 4,
    "start_time": "2024-05-25T18:34:07.082Z"
   },
   {
    "duration": 36,
    "start_time": "2024-05-25T18:34:07.439Z"
   },
   {
    "duration": 3,
    "start_time": "2024-05-25T18:34:07.740Z"
   },
   {
    "duration": 11,
    "start_time": "2024-05-25T18:34:08.020Z"
   },
   {
    "duration": 30,
    "start_time": "2024-05-25T18:34:08.306Z"
   },
   {
    "duration": 152,
    "start_time": "2024-05-25T18:34:08.878Z"
   },
   {
    "duration": 31,
    "start_time": "2024-05-25T18:34:09.593Z"
   },
   {
    "duration": 17,
    "start_time": "2024-05-25T18:34:10.532Z"
   },
   {
    "duration": 5,
    "start_time": "2024-05-25T18:34:12.411Z"
   },
   {
    "duration": 8,
    "start_time": "2024-05-25T18:34:13.140Z"
   },
   {
    "duration": 21,
    "start_time": "2024-05-25T18:34:13.816Z"
   },
   {
    "duration": 16,
    "start_time": "2024-05-25T18:34:14.963Z"
   },
   {
    "duration": 6,
    "start_time": "2024-05-25T18:34:17.753Z"
   },
   {
    "duration": 15,
    "start_time": "2024-05-25T18:34:22.680Z"
   },
   {
    "duration": 7,
    "start_time": "2024-05-25T18:34:23.566Z"
   },
   {
    "duration": 17,
    "start_time": "2024-05-25T18:34:24.766Z"
   },
   {
    "duration": 3,
    "start_time": "2024-05-25T18:34:28.175Z"
   },
   {
    "duration": 3,
    "start_time": "2024-05-25T18:34:29.057Z"
   },
   {
    "duration": 8,
    "start_time": "2024-05-25T18:34:29.775Z"
   },
   {
    "duration": 3,
    "start_time": "2024-05-25T18:34:31.037Z"
   },
   {
    "duration": 216,
    "start_time": "2024-05-25T18:34:37.572Z"
   },
   {
    "duration": 487,
    "start_time": "2024-05-25T18:36:31.128Z"
   },
   {
    "duration": 5238,
    "start_time": "2024-05-25T18:37:01.913Z"
   },
   {
    "duration": 4277,
    "start_time": "2024-05-25T18:37:24.443Z"
   },
   {
    "duration": 3770,
    "start_time": "2024-05-25T18:37:40.041Z"
   },
   {
    "duration": 5223,
    "start_time": "2024-05-25T18:38:20.545Z"
   },
   {
    "duration": 5477,
    "start_time": "2024-05-25T18:39:48.072Z"
   },
   {
    "duration": 5406,
    "start_time": "2024-05-25T18:40:13.142Z"
   },
   {
    "duration": 5347,
    "start_time": "2024-05-25T18:40:23.099Z"
   },
   {
    "duration": 6012,
    "start_time": "2024-05-25T18:40:32.990Z"
   },
   {
    "duration": 32,
    "start_time": "2024-05-25T18:41:12.557Z"
   },
   {
    "duration": 4047,
    "start_time": "2024-05-25T18:41:40.964Z"
   },
   {
    "duration": 6041,
    "start_time": "2024-05-25T18:42:07.197Z"
   },
   {
    "duration": 6606,
    "start_time": "2024-05-25T18:42:23.762Z"
   },
   {
    "duration": 6796,
    "start_time": "2024-05-25T18:42:35.840Z"
   },
   {
    "duration": 6028,
    "start_time": "2024-05-25T18:42:53.594Z"
   },
   {
    "duration": 6096,
    "start_time": "2024-05-25T18:43:03.225Z"
   },
   {
    "duration": 5129,
    "start_time": "2024-05-25T18:43:12.221Z"
   },
   {
    "duration": 4842,
    "start_time": "2024-05-25T18:43:24.802Z"
   },
   {
    "duration": 4946,
    "start_time": "2024-05-25T18:43:35.582Z"
   },
   {
    "duration": 5244,
    "start_time": "2024-05-25T18:43:41.484Z"
   },
   {
    "duration": 5489,
    "start_time": "2024-05-25T18:43:48.931Z"
   },
   {
    "duration": 5028,
    "start_time": "2024-05-25T18:43:55.911Z"
   },
   {
    "duration": 5051,
    "start_time": "2024-05-25T18:44:01.583Z"
   },
   {
    "duration": 4988,
    "start_time": "2024-05-25T18:44:17.975Z"
   },
   {
    "duration": 5053,
    "start_time": "2024-05-25T18:44:24.229Z"
   },
   {
    "duration": 4944,
    "start_time": "2024-05-25T18:44:37.500Z"
   },
   {
    "duration": 4968,
    "start_time": "2024-05-25T18:44:46.577Z"
   },
   {
    "duration": 4954,
    "start_time": "2024-05-25T18:44:52.693Z"
   },
   {
    "duration": 6054,
    "start_time": "2024-05-25T18:45:08.194Z"
   },
   {
    "duration": 11140,
    "start_time": "2024-05-25T18:45:33.355Z"
   },
   {
    "duration": 17,
    "start_time": "2024-05-25T18:47:05.998Z"
   },
   {
    "duration": 4196,
    "start_time": "2024-05-25T18:47:15.893Z"
   },
   {
    "duration": 4971,
    "start_time": "2024-05-25T18:48:13.210Z"
   },
   {
    "duration": 7877,
    "start_time": "2024-05-25T18:48:23.705Z"
   },
   {
    "duration": 5008,
    "start_time": "2024-05-25T18:48:35.138Z"
   },
   {
    "duration": 7222,
    "start_time": "2024-05-25T18:48:43.953Z"
   },
   {
    "duration": 9381,
    "start_time": "2024-05-25T18:48:52.578Z"
   },
   {
    "duration": 6684,
    "start_time": "2024-05-25T18:49:03.289Z"
   },
   {
    "duration": 4235,
    "start_time": "2024-05-25T18:49:14.714Z"
   },
   {
    "duration": 4396,
    "start_time": "2024-05-25T18:49:21.891Z"
   },
   {
    "duration": 9800,
    "start_time": "2024-05-25T18:49:28.002Z"
   },
   {
    "duration": 8696,
    "start_time": "2024-05-25T18:49:43.485Z"
   },
   {
    "duration": 7925,
    "start_time": "2024-05-25T18:49:55.023Z"
   },
   {
    "duration": 9432,
    "start_time": "2024-05-25T18:50:10.523Z"
   },
   {
    "duration": 9019,
    "start_time": "2024-05-25T18:50:22.272Z"
   },
   {
    "duration": 7560,
    "start_time": "2024-05-25T18:50:33.206Z"
   },
   {
    "duration": 9492,
    "start_time": "2024-05-25T18:50:42.559Z"
   },
   {
    "duration": 7388,
    "start_time": "2024-05-25T18:51:01.479Z"
   },
   {
    "duration": 4151,
    "start_time": "2024-05-25T18:51:11.531Z"
   },
   {
    "duration": 3267,
    "start_time": "2024-05-25T18:51:22.798Z"
   },
   {
    "duration": 5311,
    "start_time": "2024-05-25T18:51:59.172Z"
   },
   {
    "duration": 8433,
    "start_time": "2024-05-25T18:52:11.623Z"
   },
   {
    "duration": 340,
    "start_time": "2024-05-25T18:54:37.515Z"
   },
   {
    "duration": 42165,
    "start_time": "2024-05-25T18:55:36.399Z"
   },
   {
    "duration": 20706,
    "start_time": "2024-05-25T18:57:21.473Z"
   },
   {
    "duration": 21133,
    "start_time": "2024-05-25T18:57:47.427Z"
   },
   {
    "duration": 20545,
    "start_time": "2024-05-25T18:58:22.832Z"
   },
   {
    "duration": 20727,
    "start_time": "2024-05-25T18:58:48.160Z"
   },
   {
    "duration": 26564,
    "start_time": "2024-05-25T18:59:26.481Z"
   },
   {
    "duration": 20463,
    "start_time": "2024-05-25T19:00:28.482Z"
   },
   {
    "duration": 18,
    "start_time": "2024-05-25T19:00:57.911Z"
   },
   {
    "duration": 0,
    "start_time": "2024-05-25T19:04:58.960Z"
   },
   {
    "duration": 0,
    "start_time": "2024-05-25T19:04:58.963Z"
   },
   {
    "duration": 20965,
    "start_time": "2024-05-25T19:05:01.098Z"
   },
   {
    "duration": 7,
    "start_time": "2024-05-25T19:05:42.260Z"
   },
   {
    "duration": 12,
    "start_time": "2024-05-25T19:06:02.751Z"
   },
   {
    "duration": 9,
    "start_time": "2024-05-25T19:06:03.647Z"
   },
   {
    "duration": 12,
    "start_time": "2024-05-25T19:06:05.304Z"
   },
   {
    "duration": 4,
    "start_time": "2024-05-25T19:06:10.330Z"
   },
   {
    "duration": 4,
    "start_time": "2024-05-25T19:06:10.576Z"
   },
   {
    "duration": 8,
    "start_time": "2024-05-25T19:06:10.783Z"
   },
   {
    "duration": 3,
    "start_time": "2024-05-25T19:06:11.489Z"
   },
   {
    "duration": 226,
    "start_time": "2024-05-25T19:06:14.800Z"
   },
   {
    "duration": 6177,
    "start_time": "2024-05-25T19:06:36.144Z"
   },
   {
    "duration": 7090,
    "start_time": "2024-05-25T19:07:15.478Z"
   },
   {
    "duration": 7065,
    "start_time": "2024-05-25T19:07:30.568Z"
   },
   {
    "duration": 7140,
    "start_time": "2024-05-25T19:07:42.395Z"
   },
   {
    "duration": 7133,
    "start_time": "2024-05-25T19:07:51.517Z"
   },
   {
    "duration": 7046,
    "start_time": "2024-05-25T19:07:59.687Z"
   },
   {
    "duration": 7023,
    "start_time": "2024-05-25T19:08:14.375Z"
   },
   {
    "duration": 7138,
    "start_time": "2024-05-25T19:08:29.251Z"
   },
   {
    "duration": 7082,
    "start_time": "2024-05-25T19:08:40.320Z"
   },
   {
    "duration": 7154,
    "start_time": "2024-05-25T19:08:48.325Z"
   },
   {
    "duration": 7023,
    "start_time": "2024-05-25T19:08:58.828Z"
   },
   {
    "duration": 7225,
    "start_time": "2024-05-25T19:09:06.942Z"
   },
   {
    "duration": 7065,
    "start_time": "2024-05-25T19:09:15.705Z"
   },
   {
    "duration": 13,
    "start_time": "2024-05-25T19:12:21.502Z"
   },
   {
    "duration": 9,
    "start_time": "2024-05-25T19:12:48.081Z"
   },
   {
    "duration": 207,
    "start_time": "2024-05-25T19:12:50.667Z"
   },
   {
    "duration": 7104,
    "start_time": "2024-05-25T19:13:34.028Z"
   },
   {
    "duration": 6808,
    "start_time": "2024-05-25T19:48:10.970Z"
   },
   {
    "duration": 5334,
    "start_time": "2024-05-25T19:48:24.023Z"
   },
   {
    "duration": 5648,
    "start_time": "2024-05-25T19:48:58.678Z"
   },
   {
    "duration": 1849,
    "start_time": "2024-05-25T19:59:09.038Z"
   },
   {
    "duration": 6,
    "start_time": "2024-05-25T19:59:10.891Z"
   },
   {
    "duration": 8,
    "start_time": "2024-05-25T19:59:10.900Z"
   },
   {
    "duration": 20,
    "start_time": "2024-05-25T19:59:10.933Z"
   },
   {
    "duration": 17,
    "start_time": "2024-05-25T19:59:10.956Z"
   },
   {
    "duration": 6,
    "start_time": "2024-05-25T19:59:11.169Z"
   },
   {
    "duration": 14,
    "start_time": "2024-05-25T19:59:11.415Z"
   },
   {
    "duration": 10,
    "start_time": "2024-05-25T19:59:11.628Z"
   },
   {
    "duration": 14,
    "start_time": "2024-05-25T19:59:11.830Z"
   },
   {
    "duration": 4,
    "start_time": "2024-05-25T19:59:12.661Z"
   },
   {
    "duration": 3,
    "start_time": "2024-05-25T19:59:13.093Z"
   },
   {
    "duration": 9,
    "start_time": "2024-05-25T19:59:13.286Z"
   },
   {
    "duration": 4,
    "start_time": "2024-05-25T19:59:14.517Z"
   },
   {
    "duration": 5992,
    "start_time": "2024-05-25T19:59:31.668Z"
   },
   {
    "duration": 19497,
    "start_time": "2024-05-25T20:00:22.974Z"
   },
   {
    "duration": 5,
    "start_time": "2024-05-25T20:09:58.705Z"
   },
   {
    "duration": 56,
    "start_time": "2024-05-25T20:09:59.158Z"
   },
   {
    "duration": 39,
    "start_time": "2024-05-25T20:09:59.388Z"
   },
   {
    "duration": 62,
    "start_time": "2024-05-25T20:10:00.579Z"
   },
   {
    "duration": 6,
    "start_time": "2024-05-25T20:10:00.713Z"
   },
   {
    "duration": 11,
    "start_time": "2024-05-25T20:10:01.602Z"
   },
   {
    "duration": 8,
    "start_time": "2024-05-25T20:10:05.648Z"
   },
   {
    "duration": 5,
    "start_time": "2024-05-25T20:10:11.388Z"
   },
   {
    "duration": 51,
    "start_time": "2024-05-25T20:10:58.488Z"
   },
   {
    "duration": 39,
    "start_time": "2024-05-25T20:10:58.674Z"
   },
   {
    "duration": 51,
    "start_time": "2024-05-25T20:11:00.030Z"
   },
   {
    "duration": 35,
    "start_time": "2024-05-25T20:11:03.629Z"
   },
   {
    "duration": 34,
    "start_time": "2024-05-25T20:11:22.363Z"
   },
   {
    "duration": 37,
    "start_time": "2024-05-25T20:11:47.375Z"
   },
   {
    "duration": 6,
    "start_time": "2024-05-25T20:11:47.600Z"
   },
   {
    "duration": 28,
    "start_time": "2024-05-25T20:13:17.914Z"
   },
   {
    "duration": 4,
    "start_time": "2024-05-25T20:14:01.652Z"
   },
   {
    "duration": 8,
    "start_time": "2024-05-25T20:14:12.899Z"
   },
   {
    "duration": 15,
    "start_time": "2024-05-25T20:14:13.243Z"
   },
   {
    "duration": 6,
    "start_time": "2024-05-25T20:14:14.594Z"
   },
   {
    "duration": 6,
    "start_time": "2024-05-25T20:14:20.274Z"
   },
   {
    "duration": 202,
    "start_time": "2024-05-25T20:14:21.273Z"
   },
   {
    "duration": 10,
    "start_time": "2024-05-25T20:14:59.762Z"
   },
   {
    "duration": 16,
    "start_time": "2024-05-25T20:15:21.133Z"
   },
   {
    "duration": 12,
    "start_time": "2024-05-25T20:16:11.963Z"
   },
   {
    "duration": 34,
    "start_time": "2024-05-25T20:16:27.483Z"
   },
   {
    "duration": 6,
    "start_time": "2024-05-25T20:16:35.080Z"
   },
   {
    "duration": 4,
    "start_time": "2024-05-25T20:22:01.293Z"
   },
   {
    "duration": 56,
    "start_time": "2024-05-25T20:22:01.650Z"
   },
   {
    "duration": 37,
    "start_time": "2024-05-25T20:22:01.849Z"
   },
   {
    "duration": 37,
    "start_time": "2024-05-25T20:22:02.680Z"
   },
   {
    "duration": 6,
    "start_time": "2024-05-25T20:22:02.872Z"
   },
   {
    "duration": 9,
    "start_time": "2024-05-25T20:22:03.259Z"
   },
   {
    "duration": 9,
    "start_time": "2024-05-25T20:22:03.271Z"
   },
   {
    "duration": 4,
    "start_time": "2024-05-25T20:22:03.560Z"
   },
   {
    "duration": 17,
    "start_time": "2024-05-25T20:22:03.839Z"
   },
   {
    "duration": 25,
    "start_time": "2024-05-25T20:22:05.165Z"
   },
   {
    "duration": 10,
    "start_time": "2024-05-25T20:22:06.263Z"
   },
   {
    "duration": 14,
    "start_time": "2024-05-25T20:22:12.876Z"
   },
   {
    "duration": 5,
    "start_time": "2024-05-25T20:22:13.112Z"
   },
   {
    "duration": 6,
    "start_time": "2024-05-25T20:22:13.358Z"
   },
   {
    "duration": 182,
    "start_time": "2024-05-25T20:22:13.836Z"
   },
   {
    "duration": 5,
    "start_time": "2024-05-25T20:22:44.200Z"
   },
   {
    "duration": 43,
    "start_time": "2024-05-25T20:22:46.480Z"
   },
   {
    "duration": 10,
    "start_time": "2024-05-25T20:22:57.826Z"
   },
   {
    "duration": 12,
    "start_time": "2024-05-25T20:22:58.936Z"
   },
   {
    "duration": 34,
    "start_time": "2024-05-25T20:23:01.002Z"
   },
   {
    "duration": 8,
    "start_time": "2024-05-25T20:23:01.368Z"
   },
   {
    "duration": 7,
    "start_time": "2024-05-25T20:23:02.258Z"
   },
   {
    "duration": 5,
    "start_time": "2024-05-25T20:23:02.600Z"
   },
   {
    "duration": 18,
    "start_time": "2024-05-25T20:23:02.806Z"
   },
   {
    "duration": 9,
    "start_time": "2024-05-25T20:23:02.974Z"
   },
   {
    "duration": 26,
    "start_time": "2024-05-25T20:23:03.180Z"
   },
   {
    "duration": 6,
    "start_time": "2024-05-25T20:23:03.562Z"
   },
   {
    "duration": 4,
    "start_time": "2024-05-25T20:23:03.839Z"
   },
   {
    "duration": 37,
    "start_time": "2024-05-25T20:23:04.207Z"
   },
   {
    "duration": 4,
    "start_time": "2024-05-25T20:23:04.505Z"
   },
   {
    "duration": 12,
    "start_time": "2024-05-25T20:23:04.769Z"
   },
   {
    "duration": 3,
    "start_time": "2024-05-25T20:23:05.025Z"
   },
   {
    "duration": 143,
    "start_time": "2024-05-25T20:23:05.243Z"
   },
   {
    "duration": 35,
    "start_time": "2024-05-25T20:23:05.469Z"
   },
   {
    "duration": 19,
    "start_time": "2024-05-25T20:23:05.740Z"
   },
   {
    "duration": 1913,
    "start_time": "2024-05-25T20:23:06.178Z"
   },
   {
    "duration": 6,
    "start_time": "2024-05-25T20:23:08.094Z"
   },
   {
    "duration": 30,
    "start_time": "2024-05-25T20:23:08.103Z"
   },
   {
    "duration": 20,
    "start_time": "2024-05-25T20:23:08.138Z"
   },
   {
    "duration": 22,
    "start_time": "2024-05-25T20:23:08.161Z"
   },
   {
    "duration": 6,
    "start_time": "2024-05-25T20:23:08.186Z"
   },
   {
    "duration": 14,
    "start_time": "2024-05-25T20:23:08.312Z"
   },
   {
    "duration": 9,
    "start_time": "2024-05-25T20:23:09.091Z"
   },
   {
    "duration": 13,
    "start_time": "2024-05-25T20:23:09.609Z"
   },
   {
    "duration": 4,
    "start_time": "2024-05-25T20:23:15.092Z"
   },
   {
    "duration": 3,
    "start_time": "2024-05-25T20:23:15.543Z"
   },
   {
    "duration": 9,
    "start_time": "2024-05-25T20:23:15.923Z"
   },
   {
    "duration": 7,
    "start_time": "2024-05-25T20:23:17.131Z"
   },
   {
    "duration": 237,
    "start_time": "2024-05-25T20:23:23.299Z"
   },
   {
    "duration": 1690,
    "start_time": "2024-05-25T20:23:31.394Z"
   },
   {
    "duration": 673234,
    "start_time": "2024-05-25T20:23:54.673Z"
   },
   {
    "duration": 1736,
    "start_time": "2024-05-25T20:35:30.921Z"
   },
   {
    "duration": 3011,
    "start_time": "2024-05-25T20:35:57.364Z"
   },
   {
    "duration": 1913,
    "start_time": "2024-05-25T20:36:39.543Z"
   },
   {
    "duration": 6457,
    "start_time": "2024-05-25T20:37:08.479Z"
   },
   {
    "duration": 8011,
    "start_time": "2024-05-25T20:37:30.166Z"
   },
   {
    "duration": 6250,
    "start_time": "2024-05-25T20:38:26.396Z"
   },
   {
    "duration": 6307,
    "start_time": "2024-05-25T20:38:43.218Z"
   },
   {
    "duration": 6294,
    "start_time": "2024-05-25T20:39:04.630Z"
   },
   {
    "duration": 6309,
    "start_time": "2024-05-25T20:39:17.326Z"
   },
   {
    "duration": 6700,
    "start_time": "2024-05-25T20:39:52.138Z"
   },
   {
    "duration": 6776,
    "start_time": "2024-05-25T20:40:08.857Z"
   },
   {
    "duration": 6833,
    "start_time": "2024-05-25T20:40:21.136Z"
   },
   {
    "duration": 6812,
    "start_time": "2024-05-25T20:40:31.509Z"
   },
   {
    "duration": 6757,
    "start_time": "2024-05-25T20:40:45.417Z"
   },
   {
    "duration": 6782,
    "start_time": "2024-05-25T20:40:59.674Z"
   },
   {
    "duration": 6826,
    "start_time": "2024-05-25T20:41:30.946Z"
   },
   {
    "duration": 557156,
    "start_time": "2024-05-25T20:42:08.853Z"
   },
   {
    "duration": 92,
    "start_time": "2024-05-25T20:52:07.795Z"
   },
   {
    "duration": 91960,
    "start_time": "2024-05-25T20:52:29.885Z"
   },
   {
    "duration": 6376,
    "start_time": "2024-05-25T20:54:18.135Z"
   },
   {
    "duration": 6235,
    "start_time": "2024-05-25T20:54:29.393Z"
   },
   {
    "duration": 816281,
    "start_time": "2024-05-25T20:54:54.375Z"
   },
   {
    "duration": 138248,
    "start_time": "2024-05-25T21:16:22.606Z"
   },
   {
    "duration": 762454,
    "start_time": "2024-05-25T21:22:02.480Z"
   },
   {
    "duration": 27,
    "start_time": "2024-05-25T21:35:09.122Z"
   },
   {
    "duration": 27,
    "start_time": "2024-05-25T21:35:12.040Z"
   },
   {
    "duration": 33,
    "start_time": "2024-05-25T21:35:50.416Z"
   },
   {
    "duration": 9,
    "start_time": "2024-05-25T21:46:27.924Z"
   },
   {
    "duration": 61,
    "start_time": "2024-05-25T21:46:30.504Z"
   },
   {
    "duration": 4,
    "start_time": "2024-05-25T21:46:42.273Z"
   },
   {
    "duration": 3,
    "start_time": "2024-05-25T21:46:42.708Z"
   },
   {
    "duration": 10,
    "start_time": "2024-05-25T21:46:43.115Z"
   },
   {
    "duration": 3,
    "start_time": "2024-05-25T21:46:45.110Z"
   },
   {
    "duration": 217,
    "start_time": "2024-05-25T21:46:47.362Z"
   },
   {
    "duration": 6328,
    "start_time": "2024-05-25T21:47:00.497Z"
   },
   {
    "duration": 1594,
    "start_time": "2024-05-25T21:47:35.610Z"
   },
   {
    "duration": 62,
    "start_time": "2024-05-25T21:47:37.208Z"
   },
   {
    "duration": 44,
    "start_time": "2024-05-25T21:47:37.273Z"
   },
   {
    "duration": 33,
    "start_time": "2024-05-25T21:47:37.332Z"
   },
   {
    "duration": 7,
    "start_time": "2024-05-25T21:47:37.368Z"
   },
   {
    "duration": 12,
    "start_time": "2024-05-25T21:47:37.378Z"
   },
   {
    "duration": 40,
    "start_time": "2024-05-25T21:47:37.393Z"
   },
   {
    "duration": 4,
    "start_time": "2024-05-25T21:47:37.436Z"
   },
   {
    "duration": 17,
    "start_time": "2024-05-25T21:47:37.444Z"
   },
   {
    "duration": 25,
    "start_time": "2024-05-25T21:47:37.467Z"
   },
   {
    "duration": 11,
    "start_time": "2024-05-25T21:47:37.532Z"
   },
   {
    "duration": 19,
    "start_time": "2024-05-25T21:47:37.546Z"
   },
   {
    "duration": 6,
    "start_time": "2024-05-25T21:47:37.568Z"
   },
   {
    "duration": 7,
    "start_time": "2024-05-25T21:47:37.577Z"
   },
   {
    "duration": 230,
    "start_time": "2024-05-25T21:47:37.588Z"
   },
   {
    "duration": 13,
    "start_time": "2024-05-25T21:47:37.821Z"
   },
   {
    "duration": 10,
    "start_time": "2024-05-25T21:47:37.837Z"
   },
   {
    "duration": 11,
    "start_time": "2024-05-25T21:47:37.851Z"
   },
   {
    "duration": 34,
    "start_time": "2024-05-25T21:47:37.865Z"
   },
   {
    "duration": 7,
    "start_time": "2024-05-25T21:47:37.934Z"
   },
   {
    "duration": 7,
    "start_time": "2024-05-25T21:47:37.944Z"
   },
   {
    "duration": 6,
    "start_time": "2024-05-25T21:47:37.954Z"
   },
   {
    "duration": 18,
    "start_time": "2024-05-25T21:47:37.964Z"
   },
   {
    "duration": 54,
    "start_time": "2024-05-25T21:47:37.985Z"
   },
   {
    "duration": 25,
    "start_time": "2024-05-25T21:47:38.042Z"
   },
   {
    "duration": 6,
    "start_time": "2024-05-25T21:47:38.071Z"
   },
   {
    "duration": 3,
    "start_time": "2024-05-25T21:47:38.080Z"
   },
   {
    "duration": 36,
    "start_time": "2024-05-25T21:47:38.137Z"
   },
   {
    "duration": 4,
    "start_time": "2024-05-25T21:47:38.176Z"
   },
   {
    "duration": 13,
    "start_time": "2024-05-25T21:47:38.183Z"
   },
   {
    "duration": 58,
    "start_time": "2024-05-25T21:47:38.198Z"
   },
   {
    "duration": 172,
    "start_time": "2024-05-25T21:47:38.258Z"
   },
   {
    "duration": 36,
    "start_time": "2024-05-25T21:47:38.433Z"
   },
   {
    "duration": 16,
    "start_time": "2024-05-25T21:47:38.472Z"
   },
   {
    "duration": 1885,
    "start_time": "2024-05-25T21:47:38.490Z"
   },
   {
    "duration": 8,
    "start_time": "2024-05-25T21:47:40.378Z"
   },
   {
    "duration": 8,
    "start_time": "2024-05-25T21:47:40.389Z"
   },
   {
    "duration": 47,
    "start_time": "2024-05-25T21:47:40.400Z"
   },
   {
    "duration": 21,
    "start_time": "2024-05-25T21:47:40.450Z"
   },
   {
    "duration": 6,
    "start_time": "2024-05-25T21:47:40.474Z"
   },
   {
    "duration": 50,
    "start_time": "2024-05-25T21:47:40.483Z"
   },
   {
    "duration": 8,
    "start_time": "2024-05-25T21:47:40.536Z"
   },
   {
    "duration": 13,
    "start_time": "2024-05-25T21:47:40.547Z"
   },
   {
    "duration": 4,
    "start_time": "2024-05-25T21:47:40.563Z"
   },
   {
    "duration": 4,
    "start_time": "2024-05-25T21:47:40.570Z"
   },
   {
    "duration": 10,
    "start_time": "2024-05-25T21:47:40.577Z"
   },
   {
    "duration": 4,
    "start_time": "2024-05-25T21:47:40.634Z"
   },
   {
    "duration": 239,
    "start_time": "2024-05-25T21:47:40.641Z"
   },
   {
    "duration": 560329,
    "start_time": "2024-05-25T21:47:40.885Z"
   },
   {
    "duration": 754225,
    "start_time": "2024-05-25T21:57:01.217Z"
   },
   {
    "duration": 802488,
    "start_time": "2024-05-25T22:09:35.445Z"
   },
   {
    "duration": 137300,
    "start_time": "2024-05-25T22:22:57.935Z"
   },
   {
    "duration": 6297,
    "start_time": "2024-05-25T22:25:15.239Z"
   },
   {
    "duration": 17,
    "start_time": "2024-05-25T22:25:21.540Z"
   },
   {
    "duration": 319,
    "start_time": "2024-05-25T23:42:02.974Z"
   },
   {
    "duration": 656,
    "start_time": "2024-05-25T23:42:24.409Z"
   },
   {
    "duration": 24,
    "start_time": "2024-05-25T23:42:38.538Z"
   },
   {
    "duration": 36,
    "start_time": "2024-05-25T23:42:51.916Z"
   },
   {
    "duration": 23,
    "start_time": "2024-05-25T23:42:59.874Z"
   },
   {
    "duration": 25,
    "start_time": "2024-05-25T23:43:45.390Z"
   },
   {
    "duration": 9,
    "start_time": "2024-05-25T23:44:08.181Z"
   },
   {
    "duration": 1242,
    "start_time": "2024-05-25T23:44:18.010Z"
   },
   {
    "duration": 339,
    "start_time": "2024-05-25T23:44:29.733Z"
   },
   {
    "duration": 6,
    "start_time": "2024-05-25T23:44:33.723Z"
   },
   {
    "duration": 5,
    "start_time": "2024-05-25T23:44:43.976Z"
   },
   {
    "duration": 253,
    "start_time": "2024-05-25T23:44:51.857Z"
   },
   {
    "duration": 574,
    "start_time": "2024-05-25T23:45:12.633Z"
   },
   {
    "duration": 202,
    "start_time": "2024-05-25T23:45:23.696Z"
   },
   {
    "duration": 258,
    "start_time": "2024-05-25T23:45:36.390Z"
   },
   {
    "duration": 14,
    "start_time": "2024-05-25T23:45:51.773Z"
   },
   {
    "duration": 9,
    "start_time": "2024-05-25T23:47:13.724Z"
   },
   {
    "duration": 6,
    "start_time": "2024-05-25T23:47:23.260Z"
   },
   {
    "duration": 8,
    "start_time": "2024-05-25T23:47:48.279Z"
   },
   {
    "duration": 29,
    "start_time": "2024-05-25T23:48:08.267Z"
   },
   {
    "duration": 313,
    "start_time": "2024-05-25T23:48:18.957Z"
   },
   {
    "duration": 180,
    "start_time": "2024-05-25T23:48:38.481Z"
   },
   {
    "duration": 23,
    "start_time": "2024-05-25T23:48:54.876Z"
   },
   {
    "duration": 250,
    "start_time": "2024-05-25T23:48:58.288Z"
   },
   {
    "duration": 252,
    "start_time": "2024-05-25T23:49:48.949Z"
   },
   {
    "duration": 266,
    "start_time": "2024-05-25T23:50:36.462Z"
   },
   {
    "duration": 260,
    "start_time": "2024-05-25T23:50:44.551Z"
   },
   {
    "duration": 23,
    "start_time": "2024-05-25T23:51:02.713Z"
   },
   {
    "duration": 25,
    "start_time": "2024-05-25T23:51:06.341Z"
   },
   {
    "duration": 278,
    "start_time": "2024-05-25T23:51:09.770Z"
   },
   {
    "duration": 269,
    "start_time": "2024-05-25T23:52:32.446Z"
   },
   {
    "duration": 339,
    "start_time": "2024-05-25T23:52:38.891Z"
   },
   {
    "duration": 281,
    "start_time": "2024-05-25T23:53:41.689Z"
   },
   {
    "duration": 273,
    "start_time": "2024-05-25T23:53:59.818Z"
   },
   {
    "duration": 278,
    "start_time": "2024-05-25T23:55:13.145Z"
   },
   {
    "duration": 279,
    "start_time": "2024-05-25T23:55:23.007Z"
   },
   {
    "duration": 1832,
    "start_time": "2024-05-25T23:55:36.881Z"
   },
   {
    "duration": 14778,
    "start_time": "2024-05-25T23:55:57.808Z"
   },
   {
    "duration": 274,
    "start_time": "2024-05-25T23:56:22.685Z"
   },
   {
    "duration": 309,
    "start_time": "2024-05-25T23:56:29.078Z"
   },
   {
    "duration": 851,
    "start_time": "2024-05-25T23:58:34.224Z"
   },
   {
    "duration": 321,
    "start_time": "2024-05-25T23:58:57.005Z"
   },
   {
    "duration": 442,
    "start_time": "2024-05-25T23:59:07.537Z"
   },
   {
    "duration": 311,
    "start_time": "2024-05-25T23:59:10.132Z"
   },
   {
    "duration": 309,
    "start_time": "2024-05-25T23:59:19.132Z"
   },
   {
    "duration": 363,
    "start_time": "2024-05-25T23:59:25.436Z"
   },
   {
    "duration": 324,
    "start_time": "2024-05-25T23:59:32.461Z"
   },
   {
    "duration": 316,
    "start_time": "2024-05-25T23:59:42.563Z"
   },
   {
    "duration": 292,
    "start_time": "2024-05-25T23:59:46.231Z"
   },
   {
    "duration": 289,
    "start_time": "2024-05-25T23:59:50.953Z"
   },
   {
    "duration": 335,
    "start_time": "2024-05-25T23:59:55.776Z"
   },
   {
    "duration": 317,
    "start_time": "2024-05-26T00:00:01.164Z"
   },
   {
    "duration": 301,
    "start_time": "2024-05-26T00:00:12.160Z"
   },
   {
    "duration": 378,
    "start_time": "2024-05-26T00:00:26.561Z"
   },
   {
    "duration": 355,
    "start_time": "2024-05-26T00:00:34.318Z"
   },
   {
    "duration": 331,
    "start_time": "2024-05-26T00:00:51.720Z"
   },
   {
    "duration": 2108,
    "start_time": "2024-05-26T00:01:39.305Z"
   },
   {
    "duration": 41,
    "start_time": "2024-05-26T00:02:08.123Z"
   },
   {
    "duration": 63,
    "start_time": "2024-05-26T00:02:19.575Z"
   },
   {
    "duration": 942,
    "start_time": "2024-05-26T00:02:31.045Z"
   },
   {
    "duration": 449,
    "start_time": "2024-05-26T00:03:19.519Z"
   },
   {
    "duration": 513,
    "start_time": "2024-05-26T00:06:11.604Z"
   },
   {
    "duration": 481,
    "start_time": "2024-05-26T00:06:41.679Z"
   },
   {
    "duration": 470,
    "start_time": "2024-05-26T00:06:53.721Z"
   },
   {
    "duration": 56201,
    "start_time": "2024-05-26T00:11:57.893Z"
   },
   {
    "duration": 0,
    "start_time": "2024-05-26T00:12:54.097Z"
   },
   {
    "duration": 3216,
    "start_time": "2024-05-26T00:13:16.678Z"
   },
   {
    "duration": 3014,
    "start_time": "2024-05-26T00:13:40.079Z"
   },
   {
    "duration": 3444,
    "start_time": "2024-05-26T00:13:46.510Z"
   },
   {
    "duration": 3137,
    "start_time": "2024-05-26T00:13:55.054Z"
   },
   {
    "duration": 3453,
    "start_time": "2024-05-26T00:14:09.818Z"
   },
   {
    "duration": 3640,
    "start_time": "2024-05-26T00:14:22.621Z"
   },
   {
    "duration": 3467,
    "start_time": "2024-05-26T00:14:39.381Z"
   },
   {
    "duration": 3465,
    "start_time": "2024-05-26T00:14:50.659Z"
   },
   {
    "duration": 3147,
    "start_time": "2024-05-26T00:15:04.223Z"
   },
   {
    "duration": 3308,
    "start_time": "2024-05-26T00:15:15.656Z"
   },
   {
    "duration": 3197,
    "start_time": "2024-05-26T00:15:35.903Z"
   },
   {
    "duration": 3177,
    "start_time": "2024-05-26T00:15:49.784Z"
   },
   {
    "duration": 2782,
    "start_time": "2024-05-26T00:15:55.154Z"
   },
   {
    "duration": 3492,
    "start_time": "2024-05-26T00:16:04.989Z"
   },
   {
    "duration": 3002,
    "start_time": "2024-05-26T00:16:15.997Z"
   },
   {
    "duration": 5067,
    "start_time": "2024-05-26T00:16:23.564Z"
   },
   {
    "duration": 3867,
    "start_time": "2024-05-26T00:16:31.864Z"
   },
   {
    "duration": 2822,
    "start_time": "2024-05-26T00:16:45.274Z"
   },
   {
    "duration": 3403,
    "start_time": "2024-05-26T00:16:56.086Z"
   },
   {
    "duration": 949917,
    "start_time": "2024-05-26T00:17:30.753Z"
   },
   {
    "duration": 4,
    "start_time": "2024-05-26T00:33:20.673Z"
   },
   {
    "duration": 25,
    "start_time": "2024-05-26T00:33:20.681Z"
   },
   {
    "duration": 0,
    "start_time": "2024-05-26T00:33:20.745Z"
   },
   {
    "duration": 7300,
    "start_time": "2024-05-26T01:20:57.401Z"
   },
   {
    "duration": 236,
    "start_time": "2024-05-26T01:21:17.587Z"
   },
   {
    "duration": 18,
    "start_time": "2024-05-26T01:22:08.610Z"
   },
   {
    "duration": 1296,
    "start_time": "2024-05-26T01:22:15.665Z"
   },
   {
    "duration": 1689,
    "start_time": "2024-05-26T01:22:49.722Z"
   },
   {
    "duration": 76,
    "start_time": "2024-05-26T01:22:51.415Z"
   },
   {
    "duration": 62,
    "start_time": "2024-05-26T01:22:51.498Z"
   },
   {
    "duration": 43,
    "start_time": "2024-05-26T01:22:51.568Z"
   },
   {
    "duration": 26,
    "start_time": "2024-05-26T01:22:51.615Z"
   },
   {
    "duration": 12,
    "start_time": "2024-05-26T01:22:51.651Z"
   },
   {
    "duration": 10,
    "start_time": "2024-05-26T01:22:51.668Z"
   },
   {
    "duration": 9,
    "start_time": "2024-05-26T01:22:51.681Z"
   },
   {
    "duration": 480,
    "start_time": "2024-05-26T01:22:51.694Z"
   },
   {
    "duration": 0,
    "start_time": "2024-05-26T01:22:52.181Z"
   },
   {
    "duration": 0,
    "start_time": "2024-05-26T01:22:52.183Z"
   },
   {
    "duration": 0,
    "start_time": "2024-05-26T01:22:52.185Z"
   },
   {
    "duration": 0,
    "start_time": "2024-05-26T01:22:52.187Z"
   },
   {
    "duration": 0,
    "start_time": "2024-05-26T01:22:52.190Z"
   },
   {
    "duration": 0,
    "start_time": "2024-05-26T01:22:52.192Z"
   },
   {
    "duration": 0,
    "start_time": "2024-05-26T01:22:52.194Z"
   },
   {
    "duration": 0,
    "start_time": "2024-05-26T01:22:52.196Z"
   },
   {
    "duration": 0,
    "start_time": "2024-05-26T01:22:52.199Z"
   },
   {
    "duration": 0,
    "start_time": "2024-05-26T01:22:52.202Z"
   },
   {
    "duration": 0,
    "start_time": "2024-05-26T01:22:52.204Z"
   },
   {
    "duration": 0,
    "start_time": "2024-05-26T01:22:52.233Z"
   },
   {
    "duration": 0,
    "start_time": "2024-05-26T01:22:52.235Z"
   },
   {
    "duration": 0,
    "start_time": "2024-05-26T01:22:52.237Z"
   },
   {
    "duration": 0,
    "start_time": "2024-05-26T01:22:52.239Z"
   },
   {
    "duration": 0,
    "start_time": "2024-05-26T01:22:52.240Z"
   },
   {
    "duration": 0,
    "start_time": "2024-05-26T01:22:52.242Z"
   },
   {
    "duration": 0,
    "start_time": "2024-05-26T01:22:52.243Z"
   },
   {
    "duration": 0,
    "start_time": "2024-05-26T01:22:52.245Z"
   },
   {
    "duration": 0,
    "start_time": "2024-05-26T01:22:52.247Z"
   },
   {
    "duration": 0,
    "start_time": "2024-05-26T01:22:52.250Z"
   },
   {
    "duration": 0,
    "start_time": "2024-05-26T01:22:52.253Z"
   },
   {
    "duration": 0,
    "start_time": "2024-05-26T01:22:52.257Z"
   },
   {
    "duration": 0,
    "start_time": "2024-05-26T01:22:52.259Z"
   },
   {
    "duration": 0,
    "start_time": "2024-05-26T01:22:52.261Z"
   },
   {
    "duration": 0,
    "start_time": "2024-05-26T01:22:52.263Z"
   },
   {
    "duration": 0,
    "start_time": "2024-05-26T01:22:52.266Z"
   },
   {
    "duration": 0,
    "start_time": "2024-05-26T01:22:52.268Z"
   },
   {
    "duration": 0,
    "start_time": "2024-05-26T01:22:52.271Z"
   },
   {
    "duration": 0,
    "start_time": "2024-05-26T01:22:52.273Z"
   },
   {
    "duration": 0,
    "start_time": "2024-05-26T01:22:52.275Z"
   },
   {
    "duration": 1,
    "start_time": "2024-05-26T01:22:52.277Z"
   },
   {
    "duration": 1,
    "start_time": "2024-05-26T01:22:52.334Z"
   },
   {
    "duration": 0,
    "start_time": "2024-05-26T01:22:52.336Z"
   },
   {
    "duration": 0,
    "start_time": "2024-05-26T01:22:52.339Z"
   },
   {
    "duration": 0,
    "start_time": "2024-05-26T01:22:52.341Z"
   },
   {
    "duration": 0,
    "start_time": "2024-05-26T01:22:52.342Z"
   },
   {
    "duration": 0,
    "start_time": "2024-05-26T01:22:52.344Z"
   },
   {
    "duration": 0,
    "start_time": "2024-05-26T01:22:52.348Z"
   },
   {
    "duration": 0,
    "start_time": "2024-05-26T01:22:52.349Z"
   },
   {
    "duration": 0,
    "start_time": "2024-05-26T01:22:52.351Z"
   },
   {
    "duration": 1,
    "start_time": "2024-05-26T01:22:52.353Z"
   },
   {
    "duration": 0,
    "start_time": "2024-05-26T01:22:52.355Z"
   },
   {
    "duration": 0,
    "start_time": "2024-05-26T01:22:52.358Z"
   },
   {
    "duration": 0,
    "start_time": "2024-05-26T01:22:52.359Z"
   },
   {
    "duration": 0,
    "start_time": "2024-05-26T01:22:52.361Z"
   },
   {
    "duration": 0,
    "start_time": "2024-05-26T01:22:52.363Z"
   },
   {
    "duration": 1642,
    "start_time": "2024-05-26T01:26:36.444Z"
   },
   {
    "duration": 58,
    "start_time": "2024-05-26T01:26:38.089Z"
   },
   {
    "duration": 44,
    "start_time": "2024-05-26T01:26:38.150Z"
   },
   {
    "duration": 55,
    "start_time": "2024-05-26T01:26:38.198Z"
   },
   {
    "duration": 7,
    "start_time": "2024-05-26T01:26:38.256Z"
   },
   {
    "duration": 8,
    "start_time": "2024-05-26T01:26:38.268Z"
   },
   {
    "duration": 9,
    "start_time": "2024-05-26T01:26:38.279Z"
   },
   {
    "duration": 42,
    "start_time": "2024-05-26T01:26:38.291Z"
   },
   {
    "duration": 481,
    "start_time": "2024-05-26T01:26:38.337Z"
   },
   {
    "duration": 0,
    "start_time": "2024-05-26T01:26:38.825Z"
   },
   {
    "duration": 0,
    "start_time": "2024-05-26T01:26:38.833Z"
   },
   {
    "duration": 0,
    "start_time": "2024-05-26T01:26:38.835Z"
   },
   {
    "duration": 0,
    "start_time": "2024-05-26T01:26:38.838Z"
   },
   {
    "duration": 0,
    "start_time": "2024-05-26T01:26:38.840Z"
   },
   {
    "duration": 0,
    "start_time": "2024-05-26T01:26:38.843Z"
   },
   {
    "duration": 0,
    "start_time": "2024-05-26T01:26:38.845Z"
   },
   {
    "duration": 0,
    "start_time": "2024-05-26T01:26:38.848Z"
   },
   {
    "duration": 0,
    "start_time": "2024-05-26T01:26:38.851Z"
   },
   {
    "duration": 0,
    "start_time": "2024-05-26T01:26:38.853Z"
   },
   {
    "duration": 0,
    "start_time": "2024-05-26T01:26:38.855Z"
   },
   {
    "duration": 0,
    "start_time": "2024-05-26T01:26:38.858Z"
   },
   {
    "duration": 0,
    "start_time": "2024-05-26T01:26:38.859Z"
   },
   {
    "duration": 0,
    "start_time": "2024-05-26T01:26:38.861Z"
   },
   {
    "duration": 0,
    "start_time": "2024-05-26T01:26:38.863Z"
   },
   {
    "duration": 0,
    "start_time": "2024-05-26T01:26:38.866Z"
   },
   {
    "duration": 0,
    "start_time": "2024-05-26T01:26:38.868Z"
   },
   {
    "duration": 0,
    "start_time": "2024-05-26T01:26:38.869Z"
   },
   {
    "duration": 0,
    "start_time": "2024-05-26T01:26:38.872Z"
   },
   {
    "duration": 0,
    "start_time": "2024-05-26T01:26:38.873Z"
   },
   {
    "duration": 0,
    "start_time": "2024-05-26T01:26:38.932Z"
   },
   {
    "duration": 0,
    "start_time": "2024-05-26T01:26:38.934Z"
   },
   {
    "duration": 0,
    "start_time": "2024-05-26T01:26:38.936Z"
   },
   {
    "duration": 0,
    "start_time": "2024-05-26T01:26:38.938Z"
   },
   {
    "duration": 0,
    "start_time": "2024-05-26T01:26:38.940Z"
   },
   {
    "duration": 0,
    "start_time": "2024-05-26T01:26:38.942Z"
   },
   {
    "duration": 0,
    "start_time": "2024-05-26T01:26:38.944Z"
   },
   {
    "duration": 0,
    "start_time": "2024-05-26T01:26:38.947Z"
   },
   {
    "duration": 0,
    "start_time": "2024-05-26T01:26:38.949Z"
   },
   {
    "duration": 0,
    "start_time": "2024-05-26T01:26:38.950Z"
   },
   {
    "duration": 0,
    "start_time": "2024-05-26T01:26:38.952Z"
   },
   {
    "duration": 0,
    "start_time": "2024-05-26T01:26:38.954Z"
   },
   {
    "duration": 0,
    "start_time": "2024-05-26T01:26:38.957Z"
   },
   {
    "duration": 0,
    "start_time": "2024-05-26T01:26:38.959Z"
   },
   {
    "duration": 0,
    "start_time": "2024-05-26T01:26:38.961Z"
   },
   {
    "duration": 0,
    "start_time": "2024-05-26T01:26:38.964Z"
   },
   {
    "duration": 0,
    "start_time": "2024-05-26T01:26:38.966Z"
   },
   {
    "duration": 0,
    "start_time": "2024-05-26T01:26:38.968Z"
   },
   {
    "duration": 0,
    "start_time": "2024-05-26T01:26:38.969Z"
   },
   {
    "duration": 0,
    "start_time": "2024-05-26T01:26:38.971Z"
   },
   {
    "duration": 0,
    "start_time": "2024-05-26T01:26:38.974Z"
   },
   {
    "duration": 0,
    "start_time": "2024-05-26T01:26:39.032Z"
   },
   {
    "duration": 1,
    "start_time": "2024-05-26T01:26:39.034Z"
   },
   {
    "duration": 0,
    "start_time": "2024-05-26T01:26:39.037Z"
   },
   {
    "duration": 0,
    "start_time": "2024-05-26T01:26:39.039Z"
   },
   {
    "duration": 0,
    "start_time": "2024-05-26T01:26:39.042Z"
   },
   {
    "duration": 0,
    "start_time": "2024-05-26T01:26:39.044Z"
   },
   {
    "duration": 1594,
    "start_time": "2024-05-26T01:44:23.653Z"
   },
   {
    "duration": 60,
    "start_time": "2024-05-26T01:44:25.250Z"
   },
   {
    "duration": 49,
    "start_time": "2024-05-26T01:44:25.313Z"
   },
   {
    "duration": 36,
    "start_time": "2024-05-26T01:44:25.366Z"
   },
   {
    "duration": 37,
    "start_time": "2024-05-26T01:44:25.405Z"
   },
   {
    "duration": 10,
    "start_time": "2024-05-26T01:44:25.445Z"
   },
   {
    "duration": 11,
    "start_time": "2024-05-26T01:44:25.459Z"
   },
   {
    "duration": 6,
    "start_time": "2024-05-26T01:44:25.474Z"
   },
   {
    "duration": 637,
    "start_time": "2024-05-26T01:44:25.484Z"
   },
   {
    "duration": 0,
    "start_time": "2024-05-26T01:44:26.132Z"
   },
   {
    "duration": 0,
    "start_time": "2024-05-26T01:44:26.134Z"
   },
   {
    "duration": 0,
    "start_time": "2024-05-26T01:44:26.136Z"
   },
   {
    "duration": 0,
    "start_time": "2024-05-26T01:44:26.139Z"
   },
   {
    "duration": 0,
    "start_time": "2024-05-26T01:44:26.142Z"
   },
   {
    "duration": 0,
    "start_time": "2024-05-26T01:44:26.144Z"
   },
   {
    "duration": 0,
    "start_time": "2024-05-26T01:44:26.147Z"
   },
   {
    "duration": 0,
    "start_time": "2024-05-26T01:44:26.150Z"
   },
   {
    "duration": 0,
    "start_time": "2024-05-26T01:44:26.152Z"
   },
   {
    "duration": 0,
    "start_time": "2024-05-26T01:44:26.155Z"
   },
   {
    "duration": 0,
    "start_time": "2024-05-26T01:44:26.157Z"
   },
   {
    "duration": 0,
    "start_time": "2024-05-26T01:44:26.160Z"
   },
   {
    "duration": 0,
    "start_time": "2024-05-26T01:44:26.162Z"
   },
   {
    "duration": 0,
    "start_time": "2024-05-26T01:44:26.165Z"
   },
   {
    "duration": 0,
    "start_time": "2024-05-26T01:44:26.167Z"
   },
   {
    "duration": 1,
    "start_time": "2024-05-26T01:44:26.171Z"
   },
   {
    "duration": 0,
    "start_time": "2024-05-26T01:44:26.176Z"
   },
   {
    "duration": 0,
    "start_time": "2024-05-26T01:44:26.234Z"
   },
   {
    "duration": 0,
    "start_time": "2024-05-26T01:44:26.235Z"
   },
   {
    "duration": 0,
    "start_time": "2024-05-26T01:44:26.239Z"
   },
   {
    "duration": 0,
    "start_time": "2024-05-26T01:44:26.241Z"
   },
   {
    "duration": 0,
    "start_time": "2024-05-26T01:44:26.242Z"
   },
   {
    "duration": 0,
    "start_time": "2024-05-26T01:44:26.244Z"
   },
   {
    "duration": 0,
    "start_time": "2024-05-26T01:44:26.245Z"
   },
   {
    "duration": 0,
    "start_time": "2024-05-26T01:44:26.247Z"
   },
   {
    "duration": 0,
    "start_time": "2024-05-26T01:44:26.249Z"
   },
   {
    "duration": 0,
    "start_time": "2024-05-26T01:44:26.252Z"
   },
   {
    "duration": 0,
    "start_time": "2024-05-26T01:44:26.255Z"
   },
   {
    "duration": 0,
    "start_time": "2024-05-26T01:44:26.258Z"
   },
   {
    "duration": 0,
    "start_time": "2024-05-26T01:44:26.260Z"
   },
   {
    "duration": 0,
    "start_time": "2024-05-26T01:44:26.262Z"
   },
   {
    "duration": 0,
    "start_time": "2024-05-26T01:44:26.265Z"
   },
   {
    "duration": 0,
    "start_time": "2024-05-26T01:44:26.267Z"
   },
   {
    "duration": 0,
    "start_time": "2024-05-26T01:44:26.269Z"
   },
   {
    "duration": 0,
    "start_time": "2024-05-26T01:44:26.272Z"
   },
   {
    "duration": 0,
    "start_time": "2024-05-26T01:44:26.341Z"
   },
   {
    "duration": 0,
    "start_time": "2024-05-26T01:44:26.350Z"
   },
   {
    "duration": 0,
    "start_time": "2024-05-26T01:44:26.355Z"
   },
   {
    "duration": 0,
    "start_time": "2024-05-26T01:44:26.358Z"
   },
   {
    "duration": 0,
    "start_time": "2024-05-26T01:44:26.360Z"
   },
   {
    "duration": 0,
    "start_time": "2024-05-26T01:44:26.362Z"
   },
   {
    "duration": 0,
    "start_time": "2024-05-26T01:44:26.365Z"
   },
   {
    "duration": 0,
    "start_time": "2024-05-26T01:44:26.367Z"
   },
   {
    "duration": 0,
    "start_time": "2024-05-26T01:44:26.370Z"
   },
   {
    "duration": 0,
    "start_time": "2024-05-26T01:44:26.374Z"
   },
   {
    "duration": 0,
    "start_time": "2024-05-26T01:44:26.376Z"
   },
   {
    "duration": 0,
    "start_time": "2024-05-26T01:44:26.379Z"
   },
   {
    "duration": 6253,
    "start_time": "2024-05-26T18:56:26.722Z"
   },
   {
    "duration": 104,
    "start_time": "2024-05-26T18:56:32.978Z"
   },
   {
    "duration": 42,
    "start_time": "2024-05-26T18:56:33.085Z"
   },
   {
    "duration": 54,
    "start_time": "2024-05-26T18:56:33.131Z"
   },
   {
    "duration": 8,
    "start_time": "2024-05-26T18:56:33.190Z"
   },
   {
    "duration": 10,
    "start_time": "2024-05-26T18:56:33.201Z"
   },
   {
    "duration": 38,
    "start_time": "2024-05-26T18:56:33.214Z"
   },
   {
    "duration": 15,
    "start_time": "2024-05-26T18:56:33.256Z"
   },
   {
    "duration": 23,
    "start_time": "2024-05-26T18:56:33.274Z"
   },
   {
    "duration": 15,
    "start_time": "2024-05-26T18:56:33.300Z"
   },
   {
    "duration": 32,
    "start_time": "2024-05-26T18:56:33.335Z"
   },
   {
    "duration": 12,
    "start_time": "2024-05-26T18:56:33.371Z"
   },
   {
    "duration": 16,
    "start_time": "2024-05-26T18:56:33.386Z"
   },
   {
    "duration": 8,
    "start_time": "2024-05-26T18:56:33.435Z"
   },
   {
    "duration": 16,
    "start_time": "2024-05-26T18:56:33.449Z"
   },
   {
    "duration": 304,
    "start_time": "2024-05-26T18:56:33.469Z"
   },
   {
    "duration": 9,
    "start_time": "2024-05-26T18:56:33.777Z"
   },
   {
    "duration": 9,
    "start_time": "2024-05-26T18:56:33.790Z"
   },
   {
    "duration": 42,
    "start_time": "2024-05-26T18:56:33.803Z"
   },
   {
    "duration": 41,
    "start_time": "2024-05-26T18:56:33.851Z"
   },
   {
    "duration": 7,
    "start_time": "2024-05-26T18:56:33.894Z"
   },
   {
    "duration": 41,
    "start_time": "2024-05-26T18:56:33.904Z"
   },
   {
    "duration": 6,
    "start_time": "2024-05-26T18:56:33.963Z"
   },
   {
    "duration": 22,
    "start_time": "2024-05-26T18:56:33.972Z"
   },
   {
    "duration": 10,
    "start_time": "2024-05-26T18:56:33.997Z"
   },
   {
    "duration": 50,
    "start_time": "2024-05-26T18:56:34.011Z"
   },
   {
    "duration": 6,
    "start_time": "2024-05-26T18:56:34.065Z"
   },
   {
    "duration": 4,
    "start_time": "2024-05-26T18:56:34.078Z"
   },
   {
    "duration": 75,
    "start_time": "2024-05-26T18:56:34.086Z"
   },
   {
    "duration": 3,
    "start_time": "2024-05-26T18:56:34.168Z"
   },
   {
    "duration": 17,
    "start_time": "2024-05-26T18:56:34.176Z"
   },
   {
    "duration": 49,
    "start_time": "2024-05-26T18:56:34.196Z"
   },
   {
    "duration": 338,
    "start_time": "2024-05-26T18:56:34.248Z"
   },
   {
    "duration": 74,
    "start_time": "2024-05-26T18:56:34.591Z"
   },
   {
    "duration": 49,
    "start_time": "2024-05-26T18:56:34.668Z"
   },
   {
    "duration": 2164,
    "start_time": "2024-05-26T18:56:34.736Z"
   },
   {
    "duration": 7,
    "start_time": "2024-05-26T18:56:36.902Z"
   },
   {
    "duration": 24,
    "start_time": "2024-05-26T18:56:36.914Z"
   },
   {
    "duration": 20,
    "start_time": "2024-05-26T18:56:36.955Z"
   },
   {
    "duration": 21,
    "start_time": "2024-05-26T18:56:36.978Z"
   },
   {
    "duration": 5,
    "start_time": "2024-05-26T18:56:37.009Z"
   },
   {
    "duration": 26,
    "start_time": "2024-05-26T18:56:37.039Z"
   },
   {
    "duration": 7,
    "start_time": "2024-05-26T18:56:37.069Z"
   },
   {
    "duration": 14,
    "start_time": "2024-05-26T18:56:37.080Z"
   },
   {
    "duration": 4,
    "start_time": "2024-05-26T18:56:37.096Z"
   },
   {
    "duration": 10,
    "start_time": "2024-05-26T18:56:37.139Z"
   },
   {
    "duration": 12,
    "start_time": "2024-05-26T18:56:37.155Z"
   },
   {
    "duration": 3,
    "start_time": "2024-05-26T18:56:37.170Z"
   },
   {
    "duration": 273,
    "start_time": "2024-05-26T18:56:37.176Z"
   },
   {
    "duration": 1822,
    "start_time": "2024-05-26T19:05:52.982Z"
   },
   {
    "duration": 93,
    "start_time": "2024-05-26T19:05:54.808Z"
   },
   {
    "duration": 49,
    "start_time": "2024-05-26T19:05:54.906Z"
   },
   {
    "duration": 40,
    "start_time": "2024-05-26T19:05:54.959Z"
   },
   {
    "duration": 36,
    "start_time": "2024-05-26T19:05:55.005Z"
   },
   {
    "duration": 14,
    "start_time": "2024-05-26T19:05:55.059Z"
   },
   {
    "duration": 11,
    "start_time": "2024-05-26T19:05:55.076Z"
   },
   {
    "duration": 4,
    "start_time": "2024-05-26T19:05:55.090Z"
   },
   {
    "duration": 19,
    "start_time": "2024-05-26T19:05:55.097Z"
   },
   {
    "duration": 52,
    "start_time": "2024-05-26T19:05:55.119Z"
   },
   {
    "duration": 28,
    "start_time": "2024-05-26T19:05:55.175Z"
   },
   {
    "duration": 11,
    "start_time": "2024-05-26T19:05:55.206Z"
   },
   {
    "duration": 26,
    "start_time": "2024-05-26T19:05:55.243Z"
   },
   {
    "duration": 6,
    "start_time": "2024-05-26T19:05:55.278Z"
   },
   {
    "duration": 7,
    "start_time": "2024-05-26T19:05:55.289Z"
   },
   {
    "duration": 254,
    "start_time": "2024-05-26T19:05:55.300Z"
   },
   {
    "duration": 5,
    "start_time": "2024-05-26T19:05:55.557Z"
   },
   {
    "duration": 15,
    "start_time": "2024-05-26T19:05:55.566Z"
   },
   {
    "duration": 12,
    "start_time": "2024-05-26T19:05:55.585Z"
   },
   {
    "duration": 80,
    "start_time": "2024-05-26T19:05:55.601Z"
   },
   {
    "duration": 7,
    "start_time": "2024-05-26T19:05:55.684Z"
   },
   {
    "duration": 8,
    "start_time": "2024-05-26T19:05:55.698Z"
   },
   {
    "duration": 28,
    "start_time": "2024-05-26T19:05:55.709Z"
   },
   {
    "duration": 31,
    "start_time": "2024-05-26T19:05:55.740Z"
   },
   {
    "duration": 9,
    "start_time": "2024-05-26T19:05:55.774Z"
   },
   {
    "duration": 6,
    "start_time": "2024-05-26T19:05:55.786Z"
   },
   {
    "duration": 78,
    "start_time": "2024-05-26T19:05:55.795Z"
   },
   {
    "duration": 4,
    "start_time": "2024-05-26T19:05:55.876Z"
   },
   {
    "duration": 75,
    "start_time": "2024-05-26T19:05:55.883Z"
   },
   {
    "duration": 178,
    "start_time": "2024-05-26T19:05:55.971Z"
   },
   {
    "duration": 5,
    "start_time": "2024-05-26T19:05:56.152Z"
   },
   {
    "duration": 11,
    "start_time": "2024-05-26T19:05:56.160Z"
   },
   {
    "duration": 8,
    "start_time": "2024-05-26T19:05:56.176Z"
   },
   {
    "duration": 20,
    "start_time": "2024-05-26T19:05:56.186Z"
   },
   {
    "duration": 51,
    "start_time": "2024-05-26T19:05:56.209Z"
   },
   {
    "duration": 6,
    "start_time": "2024-05-26T19:05:56.263Z"
   },
   {
    "duration": 14,
    "start_time": "2024-05-26T19:05:56.276Z"
   },
   {
    "duration": 8,
    "start_time": "2024-05-26T19:05:56.292Z"
   },
   {
    "duration": 57,
    "start_time": "2024-05-26T19:05:56.303Z"
   },
   {
    "duration": 3,
    "start_time": "2024-05-26T19:05:56.364Z"
   },
   {
    "duration": 3,
    "start_time": "2024-05-26T19:05:56.377Z"
   },
   {
    "duration": 16,
    "start_time": "2024-05-26T19:05:56.383Z"
   },
   {
    "duration": 4,
    "start_time": "2024-05-26T19:05:56.402Z"
   },
   {
    "duration": 284,
    "start_time": "2024-05-26T19:05:56.440Z"
   },
   {
    "duration": 600525,
    "start_time": "2024-05-26T19:05:56.730Z"
   },
   {
    "duration": 855173,
    "start_time": "2024-05-26T19:15:57.259Z"
   },
   {
    "duration": 965112,
    "start_time": "2024-05-26T19:30:12.443Z"
   },
   {
    "duration": 141309,
    "start_time": "2024-05-26T19:46:17.559Z"
   },
   {
    "duration": 8318,
    "start_time": "2024-05-26T19:48:38.871Z"
   },
   {
    "duration": 17,
    "start_time": "2024-05-26T19:48:47.193Z"
   },
   {
    "duration": 527,
    "start_time": "2024-05-26T19:48:47.214Z"
   },
   {
    "duration": 11,
    "start_time": "2024-05-26T19:48:47.759Z"
   },
   {
    "duration": 8,
    "start_time": "2024-05-26T19:48:47.773Z"
   },
   {
    "duration": 5,
    "start_time": "2024-05-26T19:48:47.784Z"
   },
   {
    "duration": 1777,
    "start_time": "2024-05-26T19:48:47.792Z"
   },
   {
    "duration": 215,
    "start_time": "2024-05-26T19:48:49.572Z"
   },
   {
    "duration": 7,
    "start_time": "2024-05-26T19:48:49.790Z"
   },
   {
    "duration": 563,
    "start_time": "2024-05-26T20:21:37.360Z"
   },
   {
    "duration": 470,
    "start_time": "2024-05-26T20:21:54.404Z"
   },
   {
    "duration": 472,
    "start_time": "2024-05-26T20:22:25.714Z"
   },
   {
    "duration": 464,
    "start_time": "2024-05-26T20:22:34.406Z"
   },
   {
    "duration": 428,
    "start_time": "2024-05-26T20:22:47.151Z"
   },
   {
    "duration": 462,
    "start_time": "2024-05-26T20:24:52.194Z"
   },
   {
    "duration": 837,
    "start_time": "2024-05-26T20:24:59.600Z"
   },
   {
    "duration": 424,
    "start_time": "2024-05-26T20:25:30.843Z"
   },
   {
    "duration": 444,
    "start_time": "2024-05-26T20:26:10.247Z"
   },
   {
    "duration": 8,
    "start_time": "2024-05-26T20:41:02.380Z"
   },
   {
    "duration": 18,
    "start_time": "2024-05-26T20:41:27.843Z"
   },
   {
    "duration": 9,
    "start_time": "2024-05-26T20:41:42.905Z"
   },
   {
    "duration": 218,
    "start_time": "2024-05-26T20:42:40.094Z"
   },
   {
    "duration": 39,
    "start_time": "2024-05-26T20:49:09.621Z"
   },
   {
    "duration": 7,
    "start_time": "2024-05-26T20:49:22.293Z"
   },
   {
    "duration": 583,
    "start_time": "2024-05-26T20:50:14.585Z"
   },
   {
    "duration": 5,
    "start_time": "2024-05-26T20:50:22.151Z"
   },
   {
    "duration": 3,
    "start_time": "2024-05-26T20:50:27.382Z"
   },
   {
    "duration": 10,
    "start_time": "2024-05-26T20:50:35.143Z"
   },
   {
    "duration": 54,
    "start_time": "2024-05-26T20:50:42.304Z"
   },
   {
    "duration": 23,
    "start_time": "2024-05-26T20:50:50.456Z"
   },
   {
    "duration": 24,
    "start_time": "2024-05-26T20:50:55.003Z"
   },
   {
    "duration": 7,
    "start_time": "2024-05-26T20:51:38.932Z"
   },
   {
    "duration": 4,
    "start_time": "2024-05-26T20:51:56.193Z"
   },
   {
    "duration": 6,
    "start_time": "2024-05-26T20:51:59.369Z"
   },
   {
    "duration": 7,
    "start_time": "2024-05-26T20:52:07.351Z"
   },
   {
    "duration": 25,
    "start_time": "2024-05-26T20:52:53.649Z"
   },
   {
    "duration": 9,
    "start_time": "2024-05-26T20:53:00.190Z"
   },
   {
    "duration": 0,
    "start_time": "2024-05-26T20:56:28.635Z"
   },
   {
    "duration": 6,
    "start_time": "2024-05-26T20:56:30.873Z"
   },
   {
    "duration": 0,
    "start_time": "2024-05-26T20:57:25.718Z"
   },
   {
    "duration": 6,
    "start_time": "2024-05-26T20:57:28.007Z"
   },
   {
    "duration": 1009,
    "start_time": "2024-05-26T20:57:28.681Z"
   },
   {
    "duration": 326,
    "start_time": "2024-05-26T21:01:16.439Z"
   },
   {
    "duration": 1702,
    "start_time": "2024-05-26T21:01:35.331Z"
   },
   {
    "duration": 83,
    "start_time": "2024-05-26T21:01:37.037Z"
   },
   {
    "duration": 41,
    "start_time": "2024-05-26T21:01:37.123Z"
   },
   {
    "duration": 33,
    "start_time": "2024-05-26T21:01:37.169Z"
   },
   {
    "duration": 7,
    "start_time": "2024-05-26T21:01:37.229Z"
   },
   {
    "duration": 8,
    "start_time": "2024-05-26T21:01:37.240Z"
   },
   {
    "duration": 9,
    "start_time": "2024-05-26T21:01:37.251Z"
   },
   {
    "duration": 5,
    "start_time": "2024-05-26T21:01:37.262Z"
   },
   {
    "duration": 62,
    "start_time": "2024-05-26T21:01:37.270Z"
   },
   {
    "duration": 16,
    "start_time": "2024-05-26T21:01:37.336Z"
   },
   {
    "duration": 28,
    "start_time": "2024-05-26T21:01:37.354Z"
   },
   {
    "duration": 10,
    "start_time": "2024-05-26T21:01:38.050Z"
   },
   {
    "duration": 14,
    "start_time": "2024-05-26T21:01:38.201Z"
   },
   {
    "duration": 6,
    "start_time": "2024-05-26T21:01:38.422Z"
   },
   {
    "duration": 5,
    "start_time": "2024-05-26T21:01:38.702Z"
   },
   {
    "duration": 237,
    "start_time": "2024-05-26T21:01:38.937Z"
   },
   {
    "duration": 5,
    "start_time": "2024-05-26T21:01:40.062Z"
   },
   {
    "duration": 9,
    "start_time": "2024-05-26T21:01:40.802Z"
   },
   {
    "duration": 11,
    "start_time": "2024-05-26T21:01:41.549Z"
   },
   {
    "duration": 37,
    "start_time": "2024-05-26T21:01:41.932Z"
   },
   {
    "duration": 6,
    "start_time": "2024-05-26T21:01:42.214Z"
   },
   {
    "duration": 8,
    "start_time": "2024-05-26T21:01:42.936Z"
   },
   {
    "duration": 7,
    "start_time": "2024-05-26T21:01:43.581Z"
   },
   {
    "duration": 20,
    "start_time": "2024-05-26T21:01:43.916Z"
   },
   {
    "duration": 8,
    "start_time": "2024-05-26T21:01:44.713Z"
   },
   {
    "duration": 4,
    "start_time": "2024-05-26T21:01:46.290Z"
   },
   {
    "duration": 1629,
    "start_time": "2024-05-26T21:01:46.850Z"
   },
   {
    "duration": 521,
    "start_time": "2024-05-26T21:01:48.483Z"
   },
   {
    "duration": 223,
    "start_time": "2024-05-26T21:01:49.007Z"
   },
   {
    "duration": 34,
    "start_time": "2024-05-26T21:01:50.550Z"
   },
   {
    "duration": 7,
    "start_time": "2024-05-26T21:01:51.049Z"
   },
   {
    "duration": 6,
    "start_time": "2024-05-26T21:01:51.693Z"
   },
   {
    "duration": 126804,
    "start_time": "2024-05-26T21:01:52.149Z"
   },
   {
    "duration": 8,
    "start_time": "2024-05-26T21:04:41.525Z"
   },
   {
    "duration": 605,
    "start_time": "2024-05-26T21:04:56.510Z"
   },
   {
    "duration": 84,
    "start_time": "2024-05-26T21:05:16.782Z"
   },
   {
    "duration": 1018,
    "start_time": "2024-05-26T21:05:34.599Z"
   },
   {
    "duration": 136965,
    "start_time": "2024-05-26T21:05:43.503Z"
   },
   {
    "duration": 1777,
    "start_time": "2024-05-26T21:08:45.810Z"
   },
   {
    "duration": 1105,
    "start_time": "2024-05-26T21:09:39.320Z"
   },
   {
    "duration": 1051,
    "start_time": "2024-05-26T21:09:46.474Z"
   },
   {
    "duration": 1049,
    "start_time": "2024-05-26T21:10:08.557Z"
   },
   {
    "duration": 1066,
    "start_time": "2024-05-26T21:10:18.244Z"
   },
   {
    "duration": 1125,
    "start_time": "2024-05-26T21:10:52.237Z"
   },
   {
    "duration": 1198,
    "start_time": "2024-05-26T21:12:45.111Z"
   },
   {
    "duration": 412,
    "start_time": "2024-05-26T21:13:22.834Z"
   },
   {
    "duration": 1061,
    "start_time": "2024-05-26T21:13:57.560Z"
   },
   {
    "duration": 1074,
    "start_time": "2024-05-26T21:14:03.149Z"
   },
   {
    "duration": 1094,
    "start_time": "2024-05-26T21:14:10.456Z"
   },
   {
    "duration": 1047,
    "start_time": "2024-05-26T21:14:19.883Z"
   },
   {
    "duration": 1112,
    "start_time": "2024-05-26T21:15:05.977Z"
   },
   {
    "duration": 0,
    "start_time": "2024-05-26T21:17:48.108Z"
   },
   {
    "duration": 0,
    "start_time": "2024-05-26T21:17:48.110Z"
   },
   {
    "duration": 211807,
    "start_time": "2024-05-26T21:18:40.878Z"
   },
   {
    "duration": 376,
    "start_time": "2024-05-26T21:23:06.758Z"
   },
   {
    "duration": 36,
    "start_time": "2024-05-26T21:23:10.351Z"
   },
   {
    "duration": 1743,
    "start_time": "2024-05-26T21:23:17.786Z"
   },
   {
    "duration": 127,
    "start_time": "2024-05-26T21:23:19.536Z"
   },
   {
    "duration": 45,
    "start_time": "2024-05-26T21:23:19.666Z"
   },
   {
    "duration": 38,
    "start_time": "2024-05-26T21:23:19.717Z"
   },
   {
    "duration": 9,
    "start_time": "2024-05-26T21:23:19.761Z"
   },
   {
    "duration": 8,
    "start_time": "2024-05-26T21:23:19.773Z"
   },
   {
    "duration": 10,
    "start_time": "2024-05-26T21:23:19.784Z"
   },
   {
    "duration": 4,
    "start_time": "2024-05-26T21:23:19.797Z"
   },
   {
    "duration": 51,
    "start_time": "2024-05-26T21:23:19.806Z"
   },
   {
    "duration": 22,
    "start_time": "2024-05-26T21:23:20.025Z"
   },
   {
    "duration": 25,
    "start_time": "2024-05-26T21:23:20.563Z"
   },
   {
    "duration": 23,
    "start_time": "2024-05-26T21:23:20.925Z"
   },
   {
    "duration": 14,
    "start_time": "2024-05-26T21:23:21.168Z"
   },
   {
    "duration": 5,
    "start_time": "2024-05-26T21:23:21.298Z"
   },
   {
    "duration": 6,
    "start_time": "2024-05-26T21:23:21.489Z"
   },
   {
    "duration": 215,
    "start_time": "2024-05-26T21:23:21.707Z"
   },
   {
    "duration": 6,
    "start_time": "2024-05-26T21:23:22.083Z"
   },
   {
    "duration": 14,
    "start_time": "2024-05-26T21:23:22.659Z"
   },
   {
    "duration": 12,
    "start_time": "2024-05-26T21:23:23.022Z"
   },
   {
    "duration": 43,
    "start_time": "2024-05-26T21:23:23.222Z"
   },
   {
    "duration": 11,
    "start_time": "2024-05-26T21:23:23.451Z"
   },
   {
    "duration": 14,
    "start_time": "2024-05-26T21:23:24.247Z"
   },
   {
    "duration": 6,
    "start_time": "2024-05-26T21:23:24.867Z"
   },
   {
    "duration": 24,
    "start_time": "2024-05-26T21:23:25.151Z"
   },
   {
    "duration": 13,
    "start_time": "2024-05-26T21:23:25.835Z"
   },
   {
    "duration": 4,
    "start_time": "2024-05-26T21:23:26.464Z"
   },
   {
    "duration": 1767,
    "start_time": "2024-05-26T21:23:27.235Z"
   },
   {
    "duration": 556,
    "start_time": "2024-05-26T21:23:29.005Z"
   },
   {
    "duration": 213,
    "start_time": "2024-05-26T21:23:34.028Z"
   },
   {
    "duration": 39,
    "start_time": "2024-05-26T21:23:41.637Z"
   },
   {
    "duration": 12,
    "start_time": "2024-05-26T21:23:41.947Z"
   },
   {
    "duration": 18,
    "start_time": "2024-05-26T21:23:45.430Z"
   },
   {
    "duration": 1961,
    "start_time": "2024-05-26T21:23:50.039Z"
   },
   {
    "duration": 1266,
    "start_time": "2024-05-26T21:24:10.676Z"
   },
   {
    "duration": 1130,
    "start_time": "2024-05-26T21:24:14.885Z"
   },
   {
    "duration": 1141,
    "start_time": "2024-05-26T21:24:44.262Z"
   },
   {
    "duration": 129475,
    "start_time": "2024-05-26T21:24:52.477Z"
   },
   {
    "duration": 0,
    "start_time": "2024-05-26T21:27:01.962Z"
   },
   {
    "duration": 5,
    "start_time": "2024-05-26T21:27:04.444Z"
   },
   {
    "duration": 1770,
    "start_time": "2024-05-26T21:31:01.283Z"
   },
   {
    "duration": 111,
    "start_time": "2024-05-26T21:31:03.056Z"
   },
   {
    "duration": 48,
    "start_time": "2024-05-26T21:31:03.172Z"
   },
   {
    "duration": 44,
    "start_time": "2024-05-26T21:31:03.223Z"
   },
   {
    "duration": 13,
    "start_time": "2024-05-26T21:31:03.271Z"
   },
   {
    "duration": 9,
    "start_time": "2024-05-26T21:31:03.287Z"
   },
   {
    "duration": 9,
    "start_time": "2024-05-26T21:31:03.299Z"
   },
   {
    "duration": 21,
    "start_time": "2024-05-26T21:31:03.315Z"
   },
   {
    "duration": 22,
    "start_time": "2024-05-26T21:31:03.339Z"
   },
   {
    "duration": 27,
    "start_time": "2024-05-26T21:31:03.724Z"
   },
   {
    "duration": 32,
    "start_time": "2024-05-26T21:31:04.390Z"
   },
   {
    "duration": 15,
    "start_time": "2024-05-26T21:31:04.957Z"
   },
   {
    "duration": 18,
    "start_time": "2024-05-26T21:31:05.160Z"
   },
   {
    "duration": 14,
    "start_time": "2024-05-26T21:31:05.656Z"
   },
   {
    "duration": 13,
    "start_time": "2024-05-26T21:31:05.791Z"
   },
   {
    "duration": 261,
    "start_time": "2024-05-26T21:31:05.841Z"
   },
   {
    "duration": 7,
    "start_time": "2024-05-26T21:31:06.110Z"
   },
   {
    "duration": 9,
    "start_time": "2024-05-26T21:31:06.388Z"
   },
   {
    "duration": 12,
    "start_time": "2024-05-26T21:31:06.874Z"
   },
   {
    "duration": 39,
    "start_time": "2024-05-26T21:31:07.138Z"
   },
   {
    "duration": 13,
    "start_time": "2024-05-26T21:31:07.483Z"
   },
   {
    "duration": 7,
    "start_time": "2024-05-26T21:31:08.696Z"
   },
   {
    "duration": 11,
    "start_time": "2024-05-26T21:31:09.458Z"
   },
   {
    "duration": 21,
    "start_time": "2024-05-26T21:31:10.015Z"
   },
   {
    "duration": 7,
    "start_time": "2024-05-26T21:31:10.987Z"
   },
   {
    "duration": 5,
    "start_time": "2024-05-26T21:31:11.956Z"
   },
   {
    "duration": 1837,
    "start_time": "2024-05-26T21:31:12.578Z"
   },
   {
    "duration": 459,
    "start_time": "2024-05-26T21:31:14.419Z"
   },
   {
    "duration": 214,
    "start_time": "2024-05-26T21:31:14.881Z"
   },
   {
    "duration": 51,
    "start_time": "2024-05-26T21:31:15.099Z"
   },
   {
    "duration": 10,
    "start_time": "2024-05-26T21:31:15.363Z"
   },
   {
    "duration": 16,
    "start_time": "2024-05-26T21:31:15.967Z"
   },
   {
    "duration": 6,
    "start_time": "2024-05-26T21:31:16.222Z"
   },
   {
    "duration": 212590,
    "start_time": "2024-05-26T21:31:16.521Z"
   },
   {
    "duration": 3387,
    "start_time": "2024-05-26T21:34:49.116Z"
   },
   {
    "duration": 34,
    "start_time": "2024-05-26T21:36:20.207Z"
   },
   {
    "duration": 28,
    "start_time": "2024-05-26T21:36:26.188Z"
   },
   {
    "duration": 43,
    "start_time": "2024-05-26T21:36:46.263Z"
   },
   {
    "duration": 5,
    "start_time": "2024-05-26T21:36:52.437Z"
   },
   {
    "duration": 7,
    "start_time": "2024-05-26T21:36:58.031Z"
   },
   {
    "duration": 27,
    "start_time": "2024-05-26T21:37:12.494Z"
   },
   {
    "duration": 7,
    "start_time": "2024-05-26T21:44:12.440Z"
   },
   {
    "duration": 2697,
    "start_time": "2024-05-26T21:44:19.012Z"
   },
   {
    "duration": 2393,
    "start_time": "2024-05-26T21:44:42.060Z"
   },
   {
    "duration": 2607,
    "start_time": "2024-05-26T21:44:53.165Z"
   },
   {
    "duration": 2903,
    "start_time": "2024-05-26T21:45:12.179Z"
   },
   {
    "duration": 3065,
    "start_time": "2024-05-26T21:45:21.855Z"
   },
   {
    "duration": 3147,
    "start_time": "2024-05-26T21:45:53.795Z"
   },
   {
    "duration": 2431,
    "start_time": "2024-05-26T21:46:15.443Z"
   },
   {
    "duration": 2792,
    "start_time": "2024-05-26T21:46:20.089Z"
   },
   {
    "duration": 3029,
    "start_time": "2024-05-26T21:46:57.443Z"
   },
   {
    "duration": 2917,
    "start_time": "2024-05-26T21:47:30.486Z"
   },
   {
    "duration": 3731,
    "start_time": "2024-05-26T21:47:45.080Z"
   },
   {
    "duration": 3477,
    "start_time": "2024-05-26T21:48:17.702Z"
   },
   {
    "duration": 36,
    "start_time": "2024-05-26T21:56:28.214Z"
   },
   {
    "duration": 26,
    "start_time": "2024-05-26T21:56:35.450Z"
   },
   {
    "duration": 4888,
    "start_time": "2024-05-26T21:56:43.163Z"
   },
   {
    "duration": 139,
    "start_time": "2024-05-26T21:57:33.323Z"
   },
   {
    "duration": 98,
    "start_time": "2024-05-26T21:58:08.242Z"
   },
   {
    "duration": 10,
    "start_time": "2024-05-26T21:58:13.127Z"
   },
   {
    "duration": 16,
    "start_time": "2024-05-26T21:58:18.936Z"
   },
   {
    "duration": 25,
    "start_time": "2024-05-26T21:58:29.480Z"
   },
   {
    "duration": 13792,
    "start_time": "2024-05-26T21:58:45.855Z"
   },
   {
    "duration": 38,
    "start_time": "2024-05-26T21:59:07.211Z"
   },
   {
    "duration": 14447,
    "start_time": "2024-05-26T22:00:36.565Z"
   },
   {
    "duration": 227,
    "start_time": "2024-05-26T22:03:06.878Z"
   },
   {
    "duration": 224,
    "start_time": "2024-05-26T22:03:18.811Z"
   },
   {
    "duration": 298,
    "start_time": "2024-05-26T22:03:42.943Z"
   },
   {
    "duration": 265,
    "start_time": "2024-05-26T22:03:53.431Z"
   },
   {
    "duration": 297,
    "start_time": "2024-05-26T22:04:00.155Z"
   },
   {
    "duration": 224,
    "start_time": "2024-05-26T22:04:10.165Z"
   },
   {
    "duration": 228,
    "start_time": "2024-05-26T22:04:14.521Z"
   },
   {
    "duration": 221,
    "start_time": "2024-05-26T22:04:19.487Z"
   },
   {
    "duration": 235,
    "start_time": "2024-05-26T22:05:35.080Z"
   },
   {
    "duration": 249,
    "start_time": "2024-05-26T22:07:02.660Z"
   },
   {
    "duration": 282,
    "start_time": "2024-05-26T22:08:57.422Z"
   },
   {
    "duration": 3893,
    "start_time": "2024-05-26T22:16:01.711Z"
   },
   {
    "duration": 2203,
    "start_time": "2024-05-26T22:16:54.172Z"
   },
   {
    "duration": 2220,
    "start_time": "2024-05-26T22:17:05.034Z"
   },
   {
    "duration": 8,
    "start_time": "2024-05-26T22:17:21.681Z"
   },
   {
    "duration": 2005,
    "start_time": "2024-05-26T22:17:35.797Z"
   },
   {
    "duration": 1975,
    "start_time": "2024-05-26T22:17:56.789Z"
   },
   {
    "duration": 2202,
    "start_time": "2024-05-26T22:22:55.275Z"
   },
   {
    "duration": 3009,
    "start_time": "2024-05-26T22:23:00.551Z"
   },
   {
    "duration": 1963,
    "start_time": "2024-05-26T22:23:34.138Z"
   },
   {
    "duration": 3162,
    "start_time": "2024-05-26T22:23:43.643Z"
   },
   {
    "duration": 2019,
    "start_time": "2024-05-26T22:24:51.693Z"
   },
   {
    "duration": 3032,
    "start_time": "2024-05-26T22:25:15.833Z"
   },
   {
    "duration": 2110,
    "start_time": "2024-05-26T22:25:23.134Z"
   },
   {
    "duration": 2569,
    "start_time": "2024-05-26T22:25:35.798Z"
   },
   {
    "duration": 2854,
    "start_time": "2024-05-26T22:25:56.799Z"
   },
   {
    "duration": 4120,
    "start_time": "2024-05-26T22:26:09.253Z"
   },
   {
    "duration": 3057,
    "start_time": "2024-05-26T22:27:42.355Z"
   },
   {
    "duration": 2976,
    "start_time": "2024-05-26T22:28:03.051Z"
   },
   {
    "duration": 2874,
    "start_time": "2024-05-26T22:28:16.515Z"
   },
   {
    "duration": 2965,
    "start_time": "2024-05-26T22:29:15.975Z"
   },
   {
    "duration": 2972,
    "start_time": "2024-05-26T22:29:33.212Z"
   },
   {
    "duration": 5476,
    "start_time": "2024-05-27T02:18:37.544Z"
   },
   {
    "duration": 43,
    "start_time": "2024-05-27T02:29:34.866Z"
   },
   {
    "duration": 546,
    "start_time": "2024-05-27T02:37:14.302Z"
   },
   {
    "duration": 7,
    "start_time": "2024-05-27T02:37:34.568Z"
   },
   {
    "duration": 90,
    "start_time": "2024-05-27T02:37:35.185Z"
   },
   {
    "duration": 42,
    "start_time": "2024-05-27T02:37:35.280Z"
   },
   {
    "duration": 39,
    "start_time": "2024-05-27T02:37:35.610Z"
   },
   {
    "duration": 7,
    "start_time": "2024-05-27T02:37:35.797Z"
   },
   {
    "duration": 8,
    "start_time": "2024-05-27T02:37:35.919Z"
   },
   {
    "duration": 9,
    "start_time": "2024-05-27T02:37:36.069Z"
   },
   {
    "duration": 3,
    "start_time": "2024-05-27T02:37:36.181Z"
   },
   {
    "duration": 20,
    "start_time": "2024-05-27T02:37:36.323Z"
   },
   {
    "duration": 23,
    "start_time": "2024-05-27T02:37:36.527Z"
   },
   {
    "duration": 31,
    "start_time": "2024-05-27T02:37:36.860Z"
   },
   {
    "duration": 12,
    "start_time": "2024-05-27T02:37:37.453Z"
   },
   {
    "duration": 16,
    "start_time": "2024-05-27T02:37:37.929Z"
   },
   {
    "duration": 7,
    "start_time": "2024-05-27T02:37:38.050Z"
   },
   {
    "duration": 7,
    "start_time": "2024-05-27T02:37:38.334Z"
   },
   {
    "duration": 191,
    "start_time": "2024-05-27T02:37:45.003Z"
   },
   {
    "duration": 5,
    "start_time": "2024-05-27T02:37:45.397Z"
   },
   {
    "duration": 11,
    "start_time": "2024-05-27T02:37:45.808Z"
   },
   {
    "duration": 13,
    "start_time": "2024-05-27T02:37:46.272Z"
   },
   {
    "duration": 42,
    "start_time": "2024-05-27T02:37:46.415Z"
   },
   {
    "duration": 11,
    "start_time": "2024-05-27T02:37:46.648Z"
   },
   {
    "duration": 7,
    "start_time": "2024-05-27T02:37:47.015Z"
   },
   {
    "duration": 7,
    "start_time": "2024-05-27T02:37:47.449Z"
   },
   {
    "duration": 17,
    "start_time": "2024-05-27T02:37:47.682Z"
   },
   {
    "duration": 8,
    "start_time": "2024-05-27T02:37:48.145Z"
   },
   {
    "duration": 4,
    "start_time": "2024-05-27T02:37:48.595Z"
   },
   {
    "duration": 1831,
    "start_time": "2024-05-27T02:37:48.872Z"
   },
   {
    "duration": 474,
    "start_time": "2024-05-27T02:37:50.707Z"
   },
   {
    "duration": 195,
    "start_time": "2024-05-27T02:37:51.184Z"
   },
   {
    "duration": 331,
    "start_time": "2024-05-27T02:37:51.383Z"
   },
   {
    "duration": 7,
    "start_time": "2024-05-27T02:37:51.722Z"
   },
   {
    "duration": 4,
    "start_time": "2024-05-27T02:37:51.732Z"
   },
   {
    "duration": 5,
    "start_time": "2024-05-27T02:37:51.931Z"
   },
   {
    "duration": 3361,
    "start_time": "2024-05-27T02:37:52.602Z"
   },
   {
    "duration": 35,
    "start_time": "2024-05-27T02:38:23.622Z"
   },
   {
    "duration": 6,
    "start_time": "2024-05-27T02:38:31.115Z"
   },
   {
    "duration": 60,
    "start_time": "2024-05-27T02:38:33.615Z"
   },
   {
    "duration": 47,
    "start_time": "2024-05-27T02:38:33.703Z"
   },
   {
    "duration": 37,
    "start_time": "2024-05-27T02:38:34.150Z"
   },
   {
    "duration": 6,
    "start_time": "2024-05-27T02:38:34.296Z"
   },
   {
    "duration": 8,
    "start_time": "2024-05-27T02:38:34.578Z"
   },
   {
    "duration": 8,
    "start_time": "2024-05-27T02:38:34.599Z"
   },
   {
    "duration": 4,
    "start_time": "2024-05-27T02:38:34.752Z"
   },
   {
    "duration": 34,
    "start_time": "2024-05-27T02:38:34.833Z"
   },
   {
    "duration": 16,
    "start_time": "2024-05-27T02:38:34.874Z"
   },
   {
    "duration": 32,
    "start_time": "2024-05-27T02:38:35.232Z"
   },
   {
    "duration": 11,
    "start_time": "2024-05-27T02:38:35.384Z"
   },
   {
    "duration": 14,
    "start_time": "2024-05-27T02:38:35.570Z"
   },
   {
    "duration": 8,
    "start_time": "2024-05-27T02:38:35.728Z"
   },
   {
    "duration": 7,
    "start_time": "2024-05-27T02:38:35.858Z"
   },
   {
    "duration": 211,
    "start_time": "2024-05-27T02:38:35.980Z"
   },
   {
    "duration": 6,
    "start_time": "2024-05-27T02:38:36.207Z"
   },
   {
    "duration": 9,
    "start_time": "2024-05-27T02:38:36.594Z"
   },
   {
    "duration": 11,
    "start_time": "2024-05-27T02:38:36.881Z"
   },
   {
    "duration": 40,
    "start_time": "2024-05-27T02:38:37.146Z"
   },
   {
    "duration": 15,
    "start_time": "2024-05-27T02:38:37.336Z"
   },
   {
    "duration": 8,
    "start_time": "2024-05-27T02:38:37.692Z"
   },
   {
    "duration": 7,
    "start_time": "2024-05-27T02:38:38.179Z"
   },
   {
    "duration": 24,
    "start_time": "2024-05-27T02:38:38.450Z"
   },
   {
    "duration": 8,
    "start_time": "2024-05-27T02:38:38.787Z"
   },
   {
    "duration": 4,
    "start_time": "2024-05-27T02:38:39.246Z"
   },
   {
    "duration": 1972,
    "start_time": "2024-05-27T02:38:39.406Z"
   },
   {
    "duration": 446,
    "start_time": "2024-05-27T02:38:41.381Z"
   },
   {
    "duration": 205,
    "start_time": "2024-05-27T02:38:41.829Z"
   },
   {
    "duration": 291,
    "start_time": "2024-05-27T02:38:42.039Z"
   },
   {
    "duration": 6,
    "start_time": "2024-05-27T02:38:42.338Z"
   },
   {
    "duration": 8,
    "start_time": "2024-05-27T02:38:42.629Z"
   },
   {
    "duration": 4,
    "start_time": "2024-05-27T02:38:42.714Z"
   },
   {
    "duration": 3453,
    "start_time": "2024-05-27T02:38:42.944Z"
   },
   {
    "duration": 22,
    "start_time": "2024-05-27T02:38:46.401Z"
   },
   {
    "duration": 12,
    "start_time": "2024-05-27T02:38:46.430Z"
   },
   {
    "duration": 44,
    "start_time": "2024-05-27T02:38:46.445Z"
   },
   {
    "duration": 4,
    "start_time": "2024-05-27T02:38:46.492Z"
   },
   {
    "duration": 7,
    "start_time": "2024-05-27T02:38:46.540Z"
   },
   {
    "duration": 8,
    "start_time": "2024-05-27T02:38:46.716Z"
   },
   {
    "duration": 21,
    "start_time": "2024-05-27T02:38:46.901Z"
   },
   {
    "duration": 17,
    "start_time": "2024-05-27T02:38:47.089Z"
   },
   {
    "duration": 7,
    "start_time": "2024-05-27T02:38:47.276Z"
   },
   {
    "duration": 15,
    "start_time": "2024-05-27T02:38:47.451Z"
   },
   {
    "duration": 7,
    "start_time": "2024-05-27T02:38:47.812Z"
   },
   {
    "duration": 13,
    "start_time": "2024-05-27T02:38:47.823Z"
   },
   {
    "duration": 24,
    "start_time": "2024-05-27T02:38:49.718Z"
   },
   {
    "duration": 7,
    "start_time": "2024-05-27T02:38:50.328Z"
   },
   {
    "duration": 231,
    "start_time": "2024-05-27T02:38:51.282Z"
   },
   {
    "duration": 8,
    "start_time": "2024-05-27T02:39:00.474Z"
   },
   {
    "duration": 234,
    "start_time": "2024-05-27T02:39:12.696Z"
   },
   {
    "duration": 27,
    "start_time": "2024-05-27T02:40:14.864Z"
   },
   {
    "duration": 8,
    "start_time": "2024-05-27T02:46:11.730Z"
   },
   {
    "duration": 12,
    "start_time": "2024-05-27T02:49:44.731Z"
   },
   {
    "duration": 3446,
    "start_time": "2024-05-27T04:09:52.602Z"
   },
   {
    "duration": 112,
    "start_time": "2024-05-27T04:09:56.052Z"
   },
   {
    "duration": 156,
    "start_time": "2024-05-27T04:09:56.167Z"
   },
   {
    "duration": 96,
    "start_time": "2024-05-27T04:09:56.327Z"
   },
   {
    "duration": 7,
    "start_time": "2024-05-27T04:09:56.429Z"
   },
   {
    "duration": 9,
    "start_time": "2024-05-27T04:09:56.440Z"
   },
   {
    "duration": 76,
    "start_time": "2024-05-27T04:09:56.453Z"
   },
   {
    "duration": 5,
    "start_time": "2024-05-27T04:09:56.533Z"
   },
   {
    "duration": 81,
    "start_time": "2024-05-27T04:09:56.542Z"
   },
   {
    "duration": 21,
    "start_time": "2024-05-27T04:09:56.626Z"
   },
   {
    "duration": 84,
    "start_time": "2024-05-27T04:09:56.651Z"
   },
   {
    "duration": 12,
    "start_time": "2024-05-27T04:09:56.739Z"
   },
   {
    "duration": 78,
    "start_time": "2024-05-27T04:09:56.755Z"
   },
   {
    "duration": 6,
    "start_time": "2024-05-27T04:09:56.844Z"
   },
   {
    "duration": 68,
    "start_time": "2024-05-27T04:09:56.855Z"
   },
   {
    "duration": 393,
    "start_time": "2024-05-27T04:09:56.930Z"
   },
   {
    "duration": 6,
    "start_time": "2024-05-27T04:09:57.326Z"
   },
   {
    "duration": 12,
    "start_time": "2024-05-27T04:09:57.351Z"
   },
   {
    "duration": 67,
    "start_time": "2024-05-27T04:09:57.367Z"
   },
   {
    "duration": 100,
    "start_time": "2024-05-27T04:09:57.438Z"
   },
   {
    "duration": 8,
    "start_time": "2024-05-27T04:09:57.542Z"
   },
   {
    "duration": 68,
    "start_time": "2024-05-27T04:09:57.557Z"
   },
   {
    "duration": 7,
    "start_time": "2024-05-27T04:09:57.628Z"
   },
   {
    "duration": 84,
    "start_time": "2024-05-27T04:09:57.639Z"
   },
   {
    "duration": 9,
    "start_time": "2024-05-27T04:09:57.728Z"
   },
   {
    "duration": 7,
    "start_time": "2024-05-27T04:09:57.741Z"
   },
   {
    "duration": 4111,
    "start_time": "2024-05-27T04:09:57.753Z"
   },
   {
    "duration": 1023,
    "start_time": "2024-05-27T04:10:01.923Z"
   },
   {
    "duration": 491,
    "start_time": "2024-05-27T04:10:02.951Z"
   },
   {
    "duration": 802,
    "start_time": "2024-05-27T04:10:03.445Z"
   },
   {
    "duration": 6,
    "start_time": "2024-05-27T04:10:04.250Z"
   },
   {
    "duration": 63,
    "start_time": "2024-05-27T04:10:04.259Z"
   },
   {
    "duration": 5,
    "start_time": "2024-05-27T04:10:04.330Z"
   },
   {
    "duration": 7084,
    "start_time": "2024-05-27T04:10:04.338Z"
   },
   {
    "duration": 6,
    "start_time": "2024-05-27T04:10:11.425Z"
   },
   {
    "duration": 11,
    "start_time": "2024-05-27T04:10:11.434Z"
   },
   {
    "duration": 98,
    "start_time": "2024-05-27T04:10:11.450Z"
   },
   {
    "duration": 11,
    "start_time": "2024-05-27T04:10:11.551Z"
   },
   {
    "duration": 14,
    "start_time": "2024-05-27T04:10:11.623Z"
   },
   {
    "duration": 80,
    "start_time": "2024-05-27T04:10:11.643Z"
   },
   {
    "duration": 20,
    "start_time": "2024-05-27T04:10:11.735Z"
   },
   {
    "duration": 68,
    "start_time": "2024-05-27T04:10:11.759Z"
   },
   {
    "duration": 8,
    "start_time": "2024-05-27T04:10:11.832Z"
   },
   {
    "duration": 79,
    "start_time": "2024-05-27T04:10:11.843Z"
   },
   {
    "duration": 10,
    "start_time": "2024-05-27T04:10:11.926Z"
   },
   {
    "duration": 15,
    "start_time": "2024-05-27T04:10:11.939Z"
   },
   {
    "duration": 10,
    "start_time": "2024-05-27T04:10:12.028Z"
   },
   {
    "duration": 4,
    "start_time": "2024-05-27T04:10:12.043Z"
   },
   {
    "duration": 497,
    "start_time": "2024-05-27T04:10:12.051Z"
   },
   {
    "duration": 1259394,
    "start_time": "2024-05-27T04:10:12.552Z"
   },
   {
    "duration": 1839776,
    "start_time": "2024-05-27T04:31:11.950Z"
   },
   {
    "duration": 2159793,
    "start_time": "2024-05-27T05:01:51.739Z"
   },
   {
    "duration": 272888,
    "start_time": "2024-05-27T05:37:51.538Z"
   },
   {
    "duration": 17737,
    "start_time": "2024-05-27T05:42:24.433Z"
   },
   {
    "duration": 29,
    "start_time": "2024-05-27T05:42:42.228Z"
   },
   {
    "duration": 1163,
    "start_time": "2024-05-27T05:42:42.260Z"
   },
   {
    "duration": 32,
    "start_time": "2024-05-27T05:42:43.438Z"
   },
   {
    "duration": 12,
    "start_time": "2024-05-27T05:45:04.056Z"
   },
   {
    "duration": 22,
    "start_time": "2024-05-27T05:46:04.805Z"
   },
   {
    "duration": 25,
    "start_time": "2024-05-27T05:46:19.198Z"
   },
   {
    "duration": 5,
    "start_time": "2024-05-27T05:46:21.561Z"
   },
   {
    "duration": 1202,
    "start_time": "2024-05-27T05:46:23.972Z"
   },
   {
    "duration": 6,
    "start_time": "2024-05-27T05:46:37.997Z"
   },
   {
    "duration": 12,
    "start_time": "2024-05-27T05:46:44.060Z"
   },
   {
    "duration": 16,
    "start_time": "2024-05-27T05:47:08.068Z"
   },
   {
    "duration": 7,
    "start_time": "2024-05-27T05:47:13.182Z"
   },
   {
    "duration": 27,
    "start_time": "2024-05-27T05:47:15.504Z"
   },
   {
    "duration": 13,
    "start_time": "2024-05-27T05:47:36.731Z"
   },
   {
    "duration": 348,
    "start_time": "2024-05-30T05:12:57.799Z"
   },
   {
    "duration": 5274,
    "start_time": "2024-05-30T05:13:26.458Z"
   },
   {
    "duration": 90,
    "start_time": "2024-05-30T05:13:31.736Z"
   },
   {
    "duration": 42,
    "start_time": "2024-05-30T05:13:31.828Z"
   },
   {
    "duration": 54,
    "start_time": "2024-05-30T05:13:31.874Z"
   },
   {
    "duration": 7,
    "start_time": "2024-05-30T05:13:31.931Z"
   },
   {
    "duration": 8,
    "start_time": "2024-05-30T05:13:31.941Z"
   },
   {
    "duration": 11,
    "start_time": "2024-05-30T05:13:31.952Z"
   },
   {
    "duration": 40,
    "start_time": "2024-05-30T05:13:31.966Z"
   },
   {
    "duration": 19,
    "start_time": "2024-05-30T05:13:32.008Z"
   },
   {
    "duration": 19,
    "start_time": "2024-05-30T05:13:32.032Z"
   },
   {
    "duration": 59,
    "start_time": "2024-05-30T05:13:32.055Z"
   },
   {
    "duration": 11,
    "start_time": "2024-05-30T05:13:32.405Z"
   },
   {
    "duration": 13,
    "start_time": "2024-05-30T05:13:32.630Z"
   },
   {
    "duration": 7,
    "start_time": "2024-05-30T05:13:32.882Z"
   },
   {
    "duration": 5,
    "start_time": "2024-05-30T05:13:33.316Z"
   },
   {
    "duration": 195,
    "start_time": "2024-05-30T05:13:33.411Z"
   },
   {
    "duration": 6,
    "start_time": "2024-05-30T05:13:33.608Z"
   },
   {
    "duration": 9,
    "start_time": "2024-05-30T05:13:33.747Z"
   },
   {
    "duration": 11,
    "start_time": "2024-05-30T05:13:34.024Z"
   },
   {
    "duration": 34,
    "start_time": "2024-05-30T05:13:34.072Z"
   },
   {
    "duration": 6,
    "start_time": "2024-05-30T05:13:34.142Z"
   },
   {
    "duration": 9,
    "start_time": "2024-05-30T05:13:34.313Z"
   },
   {
    "duration": 6,
    "start_time": "2024-05-30T05:13:34.545Z"
   },
   {
    "duration": 18,
    "start_time": "2024-05-30T05:13:34.607Z"
   },
   {
    "duration": 8,
    "start_time": "2024-05-30T05:13:34.751Z"
   },
   {
    "duration": 5,
    "start_time": "2024-05-30T05:13:34.867Z"
   },
   {
    "duration": 1751,
    "start_time": "2024-05-30T05:13:34.942Z"
   },
   {
    "duration": 432,
    "start_time": "2024-05-30T05:13:36.696Z"
   },
   {
    "duration": 190,
    "start_time": "2024-05-30T05:13:37.131Z"
   },
   {
    "duration": 376,
    "start_time": "2024-05-30T05:13:37.325Z"
   },
   {
    "duration": 7,
    "start_time": "2024-05-30T05:13:37.707Z"
   },
   {
    "duration": 4,
    "start_time": "2024-05-30T05:13:37.717Z"
   },
   {
    "duration": 4,
    "start_time": "2024-05-30T05:13:37.725Z"
   },
   {
    "duration": 3103,
    "start_time": "2024-05-30T05:13:37.732Z"
   },
   {
    "duration": 5,
    "start_time": "2024-05-30T05:13:50.743Z"
   },
   {
    "duration": 10,
    "start_time": "2024-05-30T05:13:51.152Z"
   },
   {
    "duration": 37,
    "start_time": "2024-05-30T05:13:51.673Z"
   },
   {
    "duration": 7,
    "start_time": "2024-05-30T05:13:51.893Z"
   },
   {
    "duration": 8,
    "start_time": "2024-05-30T05:13:51.990Z"
   },
   {
    "duration": 21,
    "start_time": "2024-05-30T05:13:52.271Z"
   },
   {
    "duration": 16,
    "start_time": "2024-05-30T05:13:52.514Z"
   },
   {
    "duration": 5,
    "start_time": "2024-05-30T05:13:53.228Z"
   },
   {
    "duration": 7,
    "start_time": "2024-05-30T05:13:53.718Z"
   },
   {
    "duration": 15,
    "start_time": "2024-05-30T05:13:54.105Z"
   },
   {
    "duration": 7,
    "start_time": "2024-05-30T05:13:54.800Z"
   },
   {
    "duration": 11,
    "start_time": "2024-05-30T05:13:55.047Z"
   },
   {
    "duration": 9,
    "start_time": "2024-05-30T05:13:56.908Z"
   },
   {
    "duration": 3,
    "start_time": "2024-05-30T05:13:57.271Z"
   },
   {
    "duration": 223,
    "start_time": "2024-05-30T05:13:58.002Z"
   },
   {
    "duration": 212,
    "start_time": "2024-05-30T05:14:05.683Z"
   },
   {
    "duration": 7342,
    "start_time": "2024-05-30T05:14:18.016Z"
   },
   {
    "duration": 147,
    "start_time": "2024-05-30T05:14:39.410Z"
   },
   {
    "duration": 11,
    "start_time": "2024-05-30T05:14:44.510Z"
   },
   {
    "duration": 11,
    "start_time": "2024-05-30T05:14:48.118Z"
   },
   {
    "duration": 191,
    "start_time": "2024-05-30T05:14:59.330Z"
   },
   {
    "duration": 12,
    "start_time": "2024-05-30T05:15:03.976Z"
   },
   {
    "duration": 1016,
    "start_time": "2024-05-30T05:15:10.884Z"
   },
   {
    "duration": 10,
    "start_time": "2024-05-30T05:15:19.187Z"
   },
   {
    "duration": 699,
    "start_time": "2024-05-30T05:15:32.995Z"
   },
   {
    "duration": 11,
    "start_time": "2024-05-30T05:15:38.681Z"
   },
   {
    "duration": 7,
    "start_time": "2024-05-30T05:21:58.085Z"
   },
   {
    "duration": 8,
    "start_time": "2024-05-30T05:22:05.959Z"
   },
   {
    "duration": 11,
    "start_time": "2024-05-30T05:22:09.344Z"
   },
   {
    "duration": 5257,
    "start_time": "2024-06-14T16:38:03.617Z"
   },
   {
    "duration": 90,
    "start_time": "2024-06-14T16:38:08.878Z"
   },
   {
    "duration": 41,
    "start_time": "2024-06-14T16:38:08.971Z"
   },
   {
    "duration": 33,
    "start_time": "2024-06-14T16:38:09.016Z"
   },
   {
    "duration": 6,
    "start_time": "2024-06-14T16:38:09.054Z"
   },
   {
    "duration": 40,
    "start_time": "2024-06-14T16:38:09.064Z"
   },
   {
    "duration": 9,
    "start_time": "2024-06-14T16:38:09.108Z"
   },
   {
    "duration": 4,
    "start_time": "2024-06-14T16:38:09.120Z"
   },
   {
    "duration": 18,
    "start_time": "2024-06-14T16:38:09.127Z"
   },
   {
    "duration": 56,
    "start_time": "2024-06-14T16:38:09.148Z"
   },
   {
    "duration": 26,
    "start_time": "2024-06-14T16:38:09.207Z"
   },
   {
    "duration": 11,
    "start_time": "2024-06-14T16:38:09.236Z"
   },
   {
    "duration": 58,
    "start_time": "2024-06-14T16:38:09.250Z"
   },
   {
    "duration": 6,
    "start_time": "2024-06-14T16:38:09.314Z"
   },
   {
    "duration": 6,
    "start_time": "2024-06-14T16:38:09.322Z"
   },
   {
    "duration": 294,
    "start_time": "2024-06-14T16:38:09.332Z"
   },
   {
    "duration": 6,
    "start_time": "2024-06-14T16:38:09.630Z"
   },
   {
    "duration": 12,
    "start_time": "2024-06-14T16:38:09.638Z"
   },
   {
    "duration": 12,
    "start_time": "2024-06-14T16:38:09.652Z"
   },
   {
    "duration": 64,
    "start_time": "2024-06-14T16:38:09.669Z"
   },
   {
    "duration": 6,
    "start_time": "2024-06-14T16:38:09.736Z"
   },
   {
    "duration": 8,
    "start_time": "2024-06-14T16:38:09.746Z"
   },
   {
    "duration": 44,
    "start_time": "2024-06-14T16:38:09.757Z"
   },
   {
    "duration": 18,
    "start_time": "2024-06-14T16:38:09.804Z"
   },
   {
    "duration": 8,
    "start_time": "2024-06-14T16:38:09.825Z"
   },
   {
    "duration": 5,
    "start_time": "2024-06-14T16:38:09.836Z"
   },
   {
    "duration": 1682,
    "start_time": "2024-06-14T16:38:09.845Z"
   },
   {
    "duration": 426,
    "start_time": "2024-06-14T16:38:11.530Z"
   },
   {
    "duration": 183,
    "start_time": "2024-06-14T16:38:11.959Z"
   },
   {
    "duration": 285,
    "start_time": "2024-06-14T16:38:12.145Z"
   },
   {
    "duration": 6,
    "start_time": "2024-06-14T16:38:12.433Z"
   },
   {
    "duration": 4,
    "start_time": "2024-06-14T16:38:12.442Z"
   },
   {
    "duration": 7,
    "start_time": "2024-06-14T16:38:12.450Z"
   },
   {
    "duration": 3122,
    "start_time": "2024-06-14T16:38:12.460Z"
   },
   {
    "duration": 6,
    "start_time": "2024-06-14T16:38:15.585Z"
   },
   {
    "duration": 10,
    "start_time": "2024-06-14T16:38:15.594Z"
   },
   {
    "duration": 36,
    "start_time": "2024-06-14T16:38:15.606Z"
   },
   {
    "duration": 7,
    "start_time": "2024-06-14T16:38:15.645Z"
   },
   {
    "duration": 45,
    "start_time": "2024-06-14T16:38:15.657Z"
   },
   {
    "duration": 21,
    "start_time": "2024-06-14T16:38:15.705Z"
   },
   {
    "duration": 17,
    "start_time": "2024-06-14T16:38:15.734Z"
   },
   {
    "duration": 6,
    "start_time": "2024-06-14T16:38:15.754Z"
   },
   {
    "duration": 41,
    "start_time": "2024-06-14T16:38:15.764Z"
   },
   {
    "duration": 16,
    "start_time": "2024-06-14T16:38:15.808Z"
   },
   {
    "duration": 8,
    "start_time": "2024-06-14T16:38:15.827Z"
   },
   {
    "duration": 12,
    "start_time": "2024-06-14T16:38:15.838Z"
   },
   {
    "duration": 56,
    "start_time": "2024-06-14T16:38:15.853Z"
   },
   {
    "duration": 5,
    "start_time": "2024-06-14T16:38:15.912Z"
   },
   {
    "duration": 265,
    "start_time": "2024-06-14T16:38:15.921Z"
   },
   {
    "duration": 546793,
    "start_time": "2024-06-14T16:38:16.190Z"
   },
   {
    "duration": 777443,
    "start_time": "2024-06-14T16:47:22.988Z"
   },
   {
    "duration": 876652,
    "start_time": "2024-06-14T17:00:20.434Z"
   },
   {
    "duration": 135858,
    "start_time": "2024-06-14T17:14:57.090Z"
   },
   {
    "duration": 7159,
    "start_time": "2024-06-14T17:17:12.952Z"
   },
   {
    "duration": 12,
    "start_time": "2024-06-14T17:17:20.114Z"
   },
   {
    "duration": 524,
    "start_time": "2024-06-14T17:17:20.130Z"
   },
   {
    "duration": 11,
    "start_time": "2024-06-14T17:17:20.658Z"
   },
   {
    "duration": 5,
    "start_time": "2024-06-14T17:17:20.672Z"
   }
  ],
  "kernelspec": {
   "display_name": "Python 3 (ipykernel)",
   "language": "python",
   "name": "python3"
  },
  "language_info": {
   "codemirror_mode": {
    "name": "ipython",
    "version": 3
   },
   "file_extension": ".py",
   "mimetype": "text/x-python",
   "name": "python",
   "nbconvert_exporter": "python",
   "pygments_lexer": "ipython3",
   "version": "3.9.19"
  },
  "toc": {
   "base_numbering": 1,
   "nav_menu": {},
   "number_sections": true,
   "sideBar": true,
   "skip_h1_title": true,
   "title_cell": "Table of Contents",
   "title_sidebar": "Contents",
   "toc_cell": false,
   "toc_position": {},
   "toc_section_display": true,
   "toc_window_display": false
  }
 },
 "nbformat": 4,
 "nbformat_minor": 2
}
